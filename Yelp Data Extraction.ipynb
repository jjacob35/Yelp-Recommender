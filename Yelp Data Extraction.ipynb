{
 "cells": [
  {
   "cell_type": "code",
   "execution_count": 4,
   "metadata": {},
   "outputs": [],
   "source": [
    "import pyspark\n",
    "from pyspark.sql import SQLContext, SparkSession\n",
    "from pyspark.sql.functions import hour, when, col, date_format, to_timestamp, create_map, lit\n",
    "from pyspark.sql.functions import *\n",
    "from pyspark.sql.types import StructType\n",
    "from itertools import chain\n",
    "from faker import Faker\n",
    "import os\n"
   ]
  },
  {
   "cell_type": "code",
   "execution_count": 5,
   "metadata": {},
   "outputs": [
    {
     "ename": "ValueError",
     "evalue": "Couldn't find Spark, make sure SPARK_HOME env is set or Spark is in an expected location (e.g. from homebrew installation).",
     "output_type": "error",
     "traceback": [
      "\u001b[0;31m---------------------------------------------------------------------------\u001b[0m",
      "\u001b[0;31mValueError\u001b[0m                                Traceback (most recent call last)",
      "\u001b[0;32m<ipython-input-5-09b07b09c38e>\u001b[0m in \u001b[0;36m<module>\u001b[0;34m\u001b[0m\n\u001b[1;32m      1\u001b[0m \u001b[0;32mimport\u001b[0m \u001b[0mfindspark\u001b[0m\u001b[0;34m\u001b[0m\u001b[0;34m\u001b[0m\u001b[0m\n\u001b[0;32m----> 2\u001b[0;31m \u001b[0mfindspark\u001b[0m\u001b[0;34m.\u001b[0m\u001b[0mfind\u001b[0m\u001b[0;34m(\u001b[0m\u001b[0;34m)\u001b[0m\u001b[0;34m\u001b[0m\u001b[0;34m\u001b[0m\u001b[0m\n\u001b[0m",
      "\u001b[0;32m~/opt/anaconda3/lib/python3.7/site-packages/findspark.py\u001b[0m in \u001b[0;36mfind\u001b[0;34m()\u001b[0m\n\u001b[1;32m     34\u001b[0m     \u001b[0;32mif\u001b[0m \u001b[0;32mnot\u001b[0m \u001b[0mspark_home\u001b[0m\u001b[0;34m:\u001b[0m\u001b[0;34m\u001b[0m\u001b[0;34m\u001b[0m\u001b[0m\n\u001b[1;32m     35\u001b[0m         raise ValueError(\n\u001b[0;32m---> 36\u001b[0;31m             \u001b[0;34m\"Couldn't find Spark, make sure SPARK_HOME env is set\"\u001b[0m\u001b[0;34m\u001b[0m\u001b[0;34m\u001b[0m\u001b[0m\n\u001b[0m\u001b[1;32m     37\u001b[0m             \u001b[0;34m\" or Spark is in an expected location (e.g. from homebrew installation).\"\u001b[0m\u001b[0;34m\u001b[0m\u001b[0;34m\u001b[0m\u001b[0m\n\u001b[1;32m     38\u001b[0m         )\n",
      "\u001b[0;31mValueError\u001b[0m: Couldn't find Spark, make sure SPARK_HOME env is set or Spark is in an expected location (e.g. from homebrew installation)."
     ]
    }
   ],
   "source": [
    "import findspark\n",
    "findspark.find()"
   ]
  },
  {
   "cell_type": "code",
   "execution_count": 6,
   "metadata": {},
   "outputs": [],
   "source": [
    "memory = '4g'\n",
    "pyspark_submit_args = ' --driver-memory ' + memory + ' pyspark-shell'\n",
    "os.environ[\"PYSPARK_SUBMIT_ARGS\"] = pyspark_submit_args"
   ]
  },
  {
   "cell_type": "code",
   "execution_count": 7,
   "metadata": {},
   "outputs": [],
   "source": [
    "sc = pyspark.SparkContext(appName=\"temp\")\n",
    "sqlContext = SQLContext(sc)\n",
    "\n",
    "sp = SparkSession.builder.config(\"spark.driver.memory\", \"15g\").appName('ReviewsSpark').getOrCreate()"
   ]
  },
  {
   "cell_type": "markdown",
   "metadata": {},
   "source": [
    "#### Function to Load Data"
   ]
  },
  {
   "cell_type": "code",
   "execution_count": 8,
   "metadata": {},
   "outputs": [],
   "source": [
    "def load_business_data():\n",
    "    path = \"archive/yelp_academic_dataset_business.json\"\n",
    "    df = sqlContext.read.json(path, multiLine=False)\n",
    "    return df\n",
    "\n",
    "def load_review_data():\n",
    "    path = \"archive/yelp_filtnosamp_gt5.csv\"\n",
    "    df = sp.read.option(\"header\",True).csv(path)\n",
    "    return df"
   ]
  },
  {
   "cell_type": "code",
   "execution_count": 9,
   "metadata": {},
   "outputs": [],
   "source": [
    "df = load_business_data()\n",
    "\n",
    "df2 = load_review_data()"
   ]
  },
  {
   "cell_type": "markdown",
   "metadata": {},
   "source": [
    "#### Show Data and Schema"
   ]
  },
  {
   "cell_type": "code",
   "execution_count": 10,
   "metadata": {},
   "outputs": [
    {
     "name": "stdout",
     "output_type": "stream",
     "text": [
      "+--------------------+--------------------+--------------------+--------------------+--------------+--------------------+-------+-------------+---------------+--------------------+-----------+------------+-----+-----+\n",
      "|             address|          attributes|         business_id|          categories|          city|               hours|is_open|     latitude|      longitude|                name|postal_code|review_count|stars|state|\n",
      "+--------------------+--------------------+--------------------+--------------------+--------------+--------------------+-------+-------------+---------------+--------------------+-----------+------------+-----+-----+\n",
      "|        921 Pearl St|{null, null, 'bee...|6iYb2HFDywm3zjuRg...|Gastropubs, Food,...|       Boulder|{11:0-23:0, 11:0-...|      1|   40.0175444|   -105.2833481| Oskar Blues Taproom|      80302|          86|  4.0|   CO|\n",
      "| 7000 NE Airport Way|{null, null, u'be...|tCbdrRPZA0oiIYSmH...|Salad, Soup, Sand...|      Portland|{5:0-18:0, 5:0-18...|      1|45.5889058992|-122.5933307507|Flying Elephants ...|      97218|         126|  4.0|   OR|\n",
      "|  4720 Hawthorne Ave|{null, null, null...|bvN78flM8NLprQ1a1...|Antiques, Fashion...|      Portland|{11:0-18:0, null,...|      1|45.5119069956|-122.6136928797|      The Reclaimory|      97214|          13|  4.5|   OR|\n",
      "|  2566 Enterprise Rd|{null, null, null...|oaepsyvc0J17qwi8c...|Beauty & Spas, Ha...|   Orange City|                null|      1|   28.9144823|    -81.2959787|         Great Clips|      32763|           8|  3.0|   FL|\n",
      "| 1046 Memorial Dr SE|{null, null, null...|PE9uqAjdw0E4-8mjG...|Gyms, Active Life...|       Atlanta|{16:0-19:0, 16:0-...|      1|   33.7470274|    -84.3534244|   Crossfit Terminus|      30316|          14|  4.0|   GA|\n",
      "|        3755 Main St|{null, null, u'no...|D4JtQNTI4X3Kcbzac...|   Restaurants, Thai|     Vancouver|{17:0-21:0, 17:0-...|      1|   49.2513423|    -123.101333| Bob Likes Thai Food|        V5V|         169|  3.5|   BC|\n",
      "|   2511 Edgewater Dr|{True, null, null...|t35jsh9YnMtttm69U...|Dentists, Health ...|       Orlando|{8:0-17:30, 0:0-0...|      1|    28.573998|    -81.3892841| Escott Orthodontics|      32804|           7|  4.5|   FL|\n",
      "|       740 S High St|                null|jFYIsSb7r1QeESVUn...|Breakfast & Brunc...|      Columbus|{null, null, 8:0-...|      1| 39.947006523|     -82.997471|     Boxwood Biscuit|      43206|          11|  4.5|   OH|\n",
      "|7801 N Lamar Blvd...|{null, null, null...|N3_Gs3DnX4k9SgpwJ...|Shopping, Jewelry...|        Austin|{12:15-17:0, 12:1...|      1|    30.346169|     -97.711458|Lane Wells Jewelr...|      78752|          30|  5.0|   TX|\n",
      "|615 W Slaughter L...|{null, null, null...|tXvdYGvlEceDljN8g...|Barbers, Beauty &...|        Austin|{9:0-19:0, 9:0-17...|      0|   30.1727062|    -97.7999199|Capital City Barb...|      78748|           5|  4.0|   TX|\n",
      "|     100 Clematis Dr|{null, null, null...|rYs_1pNB_RMtn5WQh...|Food, Shopping, C...|       Boulder|{8:0-20:0, 8:0-20...|      1|   39.9984488|    -105.281006|Chautauqua Genera...|      80302|           5|  3.5|   CO|\n",
      "|124 Newbury St, U...|{null, null, null...|hCABMnKtwo4Y9alQD...|Wigs, Hair Extens...|       Peabody|{9:0-18:0, 10:0-1...|      1|   42.5342478|    -70.9909475|Star Kreations Sa...|      01960|           8|  4.0|   MA|\n",
      "|       474 Lowell St|{null, null, u'no...|HPA_qyMEddpAEtFof...|Food, Pizza, Rest...|       Peabody|{11:0-22:0, 11:0-...|      1|    42.541155|     -70.973438| Mr G's Pizza & Subs|      01960|          39|  4.0|   MA|\n",
      "|   247 E Michigan St|{null, null, null...|ufCxltuh56FF4-ZFZ...|Restaurants, Amer...|       Orlando|{11:0-18:0, null,...|      1|   28.5132647|    -81.3747072|      Sister Honey's|      32806|         135|  4.5|   FL|\n",
      "|       225 E Main St|{null, null, null...|i_t_30RYVUDdZzFIc...|Books, Mags, Musi...|      Columbus|{9:0-17:30, null,...|      0|   39.9566155|    -82.9933017|Uncle Sam's Pawn ...|      43215|           5|  4.0|   OH|\n",
      "|    5510 Memorial Dr|{null, null, null...|g7CEhqBIpwTg6ERcM...|Oil Change Statio...|Stone Mountain|{8:0-18:30, 8:0-1...|      1|   33.8006868|      -84.21282|Finish Line Car Wash|      30083|          11|  2.5|   GA|\n",
      "|     1050 Century Dr|{null, null, null...|GfWJ19Js7wX9rwaHQ...|Restaurants, Amer...|       Orlando|{7:0-22:0, 0:0-0:...|      1|   28.3504984|     -81.542819|Everything POP Sh...|      32830|           7|  3.0|   FL|\n",
      "|4787 W Irlo Brons...|{null, null, null...|MUeUyqhMja-nnmvgP...|Hotels, Vacation ...|     Kissimmee|{0:0-0:0, 0:0-0:0...|      0|    28.330255|     -81.469464|Saratoga Resort V...|      34746|          55|  3.5|   FL|\n",
      "|       2 Florence St|                null|6fT0lYr_UgWSCZs_w...|Specialty Schools...|        Malden|{8:0-17:0, 8:0-20...|      1|    42.427889|     -71.073475|       Salter School|      02148|           5|  2.0|   MA|\n",
      "|  350 W Sand Lake Rd|{null, null, 'non...|dmbbf3AqeG61_QHRZ...|Automotive, Ameri...|   Pine Castle|                null|      1|   28.4503025|    -81.3805873|            RaceTrac|      32809|           5|  3.5|   FL|\n",
      "+--------------------+--------------------+--------------------+--------------------+--------------+--------------------+-------+-------------+---------------+--------------------+-----------+------------+-----+-----+\n",
      "only showing top 20 rows\n",
      "\n"
     ]
    }
   ],
   "source": [
    "df.show()"
   ]
  },
  {
   "cell_type": "code",
   "execution_count": 11,
   "metadata": {},
   "outputs": [
    {
     "name": "stdout",
     "output_type": "stream",
     "text": [
      "root\n",
      " |-- address: string (nullable = true)\n",
      " |-- attributes: struct (nullable = true)\n",
      " |    |-- AcceptsInsurance: string (nullable = true)\n",
      " |    |-- AgesAllowed: string (nullable = true)\n",
      " |    |-- Alcohol: string (nullable = true)\n",
      " |    |-- Ambience: string (nullable = true)\n",
      " |    |-- BYOB: string (nullable = true)\n",
      " |    |-- BYOBCorkage: string (nullable = true)\n",
      " |    |-- BestNights: string (nullable = true)\n",
      " |    |-- BikeParking: string (nullable = true)\n",
      " |    |-- BusinessAcceptsBitcoin: string (nullable = true)\n",
      " |    |-- BusinessAcceptsCreditCards: string (nullable = true)\n",
      " |    |-- BusinessParking: string (nullable = true)\n",
      " |    |-- ByAppointmentOnly: string (nullable = true)\n",
      " |    |-- Caters: string (nullable = true)\n",
      " |    |-- CoatCheck: string (nullable = true)\n",
      " |    |-- Corkage: string (nullable = true)\n",
      " |    |-- DietaryRestrictions: string (nullable = true)\n",
      " |    |-- DogsAllowed: string (nullable = true)\n",
      " |    |-- DriveThru: string (nullable = true)\n",
      " |    |-- GoodForDancing: string (nullable = true)\n",
      " |    |-- GoodForKids: string (nullable = true)\n",
      " |    |-- GoodForMeal: string (nullable = true)\n",
      " |    |-- HairSpecializesIn: string (nullable = true)\n",
      " |    |-- HappyHour: string (nullable = true)\n",
      " |    |-- HasTV: string (nullable = true)\n",
      " |    |-- Music: string (nullable = true)\n",
      " |    |-- NoiseLevel: string (nullable = true)\n",
      " |    |-- Open24Hours: string (nullable = true)\n",
      " |    |-- OutdoorSeating: string (nullable = true)\n",
      " |    |-- RestaurantsAttire: string (nullable = true)\n",
      " |    |-- RestaurantsCounterService: string (nullable = true)\n",
      " |    |-- RestaurantsDelivery: string (nullable = true)\n",
      " |    |-- RestaurantsGoodForGroups: string (nullable = true)\n",
      " |    |-- RestaurantsPriceRange2: string (nullable = true)\n",
      " |    |-- RestaurantsReservations: string (nullable = true)\n",
      " |    |-- RestaurantsTableService: string (nullable = true)\n",
      " |    |-- RestaurantsTakeOut: string (nullable = true)\n",
      " |    |-- Smoking: string (nullable = true)\n",
      " |    |-- WheelchairAccessible: string (nullable = true)\n",
      " |    |-- WiFi: string (nullable = true)\n",
      " |-- business_id: string (nullable = true)\n",
      " |-- categories: string (nullable = true)\n",
      " |-- city: string (nullable = true)\n",
      " |-- hours: struct (nullable = true)\n",
      " |    |-- Friday: string (nullable = true)\n",
      " |    |-- Monday: string (nullable = true)\n",
      " |    |-- Saturday: string (nullable = true)\n",
      " |    |-- Sunday: string (nullable = true)\n",
      " |    |-- Thursday: string (nullable = true)\n",
      " |    |-- Tuesday: string (nullable = true)\n",
      " |    |-- Wednesday: string (nullable = true)\n",
      " |-- is_open: long (nullable = true)\n",
      " |-- latitude: double (nullable = true)\n",
      " |-- longitude: double (nullable = true)\n",
      " |-- name: string (nullable = true)\n",
      " |-- postal_code: string (nullable = true)\n",
      " |-- review_count: long (nullable = true)\n",
      " |-- stars: double (nullable = true)\n",
      " |-- state: string (nullable = true)\n",
      "\n"
     ]
    }
   ],
   "source": [
    "df.printSchema()"
   ]
  },
  {
   "cell_type": "code",
   "execution_count": null,
   "metadata": {},
   "outputs": [],
   "source": [
    "df2.show()"
   ]
  },
  {
   "cell_type": "code",
   "execution_count": 14,
   "metadata": {},
   "outputs": [
    {
     "name": "stdout",
     "output_type": "stream",
     "text": [
      "root\n",
      " |-- _c0: string (nullable = true)\n",
      " |-- userID: string (nullable = true)\n",
      " |-- itemID: string (nullable = true)\n",
      " |-- rating: string (nullable = true)\n",
      " |-- name: string (nullable = true)\n",
      "\n"
     ]
    }
   ],
   "source": [
    "df2.printSchema()"
   ]
  },
  {
   "cell_type": "markdown",
   "metadata": {},
   "source": [
    "# Business Data Manipulation"
   ]
  },
  {
   "cell_type": "markdown",
   "metadata": {},
   "source": [
    "#### (TODO) Flattens the Structs so that all the Nested Columns are Normal Columns"
   ]
  },
  {
   "cell_type": "code",
   "execution_count": null,
   "metadata": {},
   "outputs": [],
   "source": [
    "##To be done\n",
    "def flatten_df(df, prefix=\"\"):\n",
    "    return df"
   ]
  },
  {
   "cell_type": "code",
   "execution_count": null,
   "metadata": {
    "scrolled": true
   },
   "outputs": [],
   "source": [
    "# df = df.select(flatten_df(df))\n",
    "# df.show()"
   ]
  },
  {
   "cell_type": "markdown",
   "metadata": {},
   "source": [
    "#### Clean up the Data and Keep Required Rows"
   ]
  },
  {
   "cell_type": "code",
   "execution_count": null,
   "metadata": {},
   "outputs": [],
   "source": [
    "def clean_data(df):\n",
    "    '''\n",
    "    input: df a dataframe\n",
    "    output: df a dataframe with the all the original columns\n",
    "    '''\n",
    "    \n",
    "    # START YOUR CODE HERE ---------\n",
    "    df = df.select([\"name\", \"latitude\", \"longitude\", \"city\", \"review_count\", \"stars\", \"attributes\", \"categories\"])\n",
    "    \n",
    "\n",
    "    # END YOUR CODE HERE -----------\n",
    "    return df\n",
    "\n"
   ]
  },
  {
   "cell_type": "code",
   "execution_count": null,
   "metadata": {},
   "outputs": [],
   "source": [
    "df = clean_data(df)\n",
    "df.show()"
   ]
  },
  {
   "cell_type": "markdown",
   "metadata": {},
   "source": [
    "#### Filter Entries with Empty Ratings Field\n",
    "\n",
    "Since with this, we see that there are no restaraunts with null ratings, we know that we do not need to filter out any rows from this dataframe."
   ]
  },
  {
   "cell_type": "code",
   "execution_count": null,
   "metadata": {},
   "outputs": [],
   "source": [
    "df.filter(df.stars.isNull()).show()"
   ]
  },
  {
   "cell_type": "markdown",
   "metadata": {},
   "source": [
    "#### Filter the Data so Only Data from Atlanta is contained (temporarily)"
   ]
  },
  {
   "cell_type": "code",
   "execution_count": null,
   "metadata": {},
   "outputs": [],
   "source": [
    "df = df.filter(df.city == \"Atlanta\")\n",
    "df.show()"
   ]
  },
  {
   "cell_type": "markdown",
   "metadata": {},
   "source": [
    "# Reviews Data Manipulation"
   ]
  },
  {
   "cell_type": "code",
   "execution_count": 12,
   "metadata": {},
   "outputs": [],
   "source": [
    "fakeGen = Faker() \n",
    "users = df2.select(\"userID\").distinct().coalesce(1)\n",
    "fakeNameMap = {}\n",
    "for user in users.rdd.toLocalIterator():\n",
    "    fakeNameMap[user[\"userID\"]] = fakeGen.name()\n",
    "    \n",
    "mapping_expr = create_map([lit(x) for x in chain(*fakeNameMap.items())])\n",
    "\n",
    "df2 = df2.withColumn(\"name\", mapping_expr.getItem(col(\"userID\")))\n"
   ]
  },
  {
   "cell_type": "code",
   "execution_count": 13,
   "metadata": {},
   "outputs": [],
   "source": [
    "df2.toPandas().to_csv('yelp_filtnosamp_gt5_withname.csv')"
   ]
  },
  {
   "cell_type": "code",
   "execution_count": null,
   "metadata": {},
   "outputs": [],
   "source": [
    "df2.show()"
   ]
  },
  {
   "cell_type": "code",
   "execution_count": 16,
   "metadata": {},
   "outputs": [
    {
     "name": "stdout",
     "output_type": "stream",
     "text": [
      "+--------------------+\n",
      "|              itemID|\n",
      "+--------------------+\n",
      "|66o2Fw42ZhGSuX1VF...|\n",
      "|oLJWjd5VAkMbLU2e3...|\n",
      "|_jw0beMekkOuCEGRx...|\n",
      "|4QKuGnvjiPta_kk7J...|\n",
      "|fSsdhoCC3FsXrSAAQ...|\n",
      "|OuBUzqGj02xunvlIs...|\n",
      "|bxy3khT-2R66tcdKj...|\n",
      "|QAX9PI0-cAJN6x7rr...|\n",
      "|6a8EOxICJtgzHViVm...|\n",
      "|3ZVgig7uux9jVtEZn...|\n",
      "|usrqG3sAANrQPvaHl...|\n",
      "|Nqy2tJV3AGqW9Uil-...|\n",
      "|cyvpFpmpN0YgDykuO...|\n",
      "|Agq4zoNLSIpT1_ZJb...|\n",
      "|czsrWGmQRDwP0tBid...|\n",
      "|FbZLY5XASP9phBySt...|\n",
      "|4SRTmovGJLmUgsfL8...|\n",
      "|3gvHGMSHo4D8eXXSJ...|\n",
      "|DZXp8m38R0s9U3Saj...|\n",
      "|W4h9Tckj5WFJk1ve8...|\n",
      "+--------------------+\n",
      "only showing top 20 rows\n",
      "\n"
     ]
    }
   ],
   "source": [
    "business_df = df2.select(\"itemID\").distinct().coalesce(1)\n",
    "business_df.show()"
   ]
  },
  {
   "cell_type": "code",
   "execution_count": null,
   "metadata": {},
   "outputs": [],
   "source": [
    "inner_join = business_df.join(df, business_df.itemID == df.business_id)"
   ]
  },
  {
   "cell_type": "code",
   "execution_count": 20,
   "metadata": {},
   "outputs": [
    {
     "name": "stdout",
     "output_type": "stream",
     "text": [
      "+--------------------+--------------------+--------------------+--------------------+--------------------+------------+--------------------+-------+-------------+---------------+--------------------+-----------+------------+-----+-----+\n",
      "|              itemID|             address|          attributes|         business_id|          categories|        city|               hours|is_open|     latitude|      longitude|                name|postal_code|review_count|stars|state|\n",
      "+--------------------+--------------------+--------------------+--------------------+--------------------+------------+--------------------+-------+-------------+---------------+--------------------+-----------+------------+-----+-----+\n",
      "|-36nnCT71XE0InJXK...|   2615 NE 112th Ave|{null, null, null...|-36nnCT71XE0InJXK...|Shopping, Drugsto...|   Vancouver|{6:0-0:0, 6:0-0:0...|      1|   45.6412317|   -122.5571137|             Safeway|      98684|          28|  2.0|   WA|\n",
      "|-QOl03c2B22yi_On0...|    1860 Winderly Ln|{null, null, u'no...|-QOl03c2B22yi_On0...|Caterers, America...|Pickerington|{8:0-20:0, 0:0-0:...|      1|    39.932087|     -82.790437|Cracker Barrel Ol...|      43147|          84|  3.0|   OH|\n",
      "|-VVUUPK0ytYjpJ_S7...|     43 E 5th Avenue|{null, null, u'no...|-VVUUPK0ytYjpJ_S7...|Chinese, Restaura...|   Vancouver|{11:0-21:30, 11:0...|      1|49.2665400102|-123.1037478894| Peaceful Restaurant|    V5T 1J6|         107|  3.0|   BC|\n",
      "|-ZzsPlaAgwO3yt29u...|                    |                null|-ZzsPlaAgwO3yt29u...|Professional Serv...|      Austin|{9:0-17:0, 9:0-17...|      1|   30.3911673|    -97.7051165|      ATX Architects|      78708|          10|  5.0|   TX|\n",
      "|-gdR559hH89jagbHz...|        154 Green St|{null, null, u'no...|-gdR559hH89jagbHz...|Breakfast & Brunc...|      Boston|{8:30-20:30, null...|      1|   42.3104844|    -71.1065318|    Evergreen Eatery|      02130|          99|  4.5|   MA|\n",
      "|-t07XlNaUn3NdyB9L...|     1033 Trapelo Rd|{null, null, null...|-t07XlNaUn3NdyB9L...|Automotive, Gas S...|     Waltham|                null|      1|   42.4113856|    -71.2340564|       Trapelo Mobil|      02451|           8|  3.5|   MA|\n",
      "|-t8vTvHc05JhBM2hb...|        281 Cabot St|{null, null, null...|-t8vTvHc05JhBM2hb...|Candy Stores, Foo...|     Beverly|{11:30-16:0, 0:0-...|      0|    42.551011|    -70.8781277|   Union Jack Market|      01915|          21|  3.5|   MA|\n",
      "|-x9y3f2IXWnWhZyeQ...|      5201 McDade Dr|{null, null, null...|-x9y3f2IXWnWhZyeQ...|Arts & Entertainm...|      Austin|{10:0-19:0, 10:0-...|      1|    30.255226|     -97.832213|   Party Boat Austin|      78735|           6|  5.0|   TX|\n",
      "|-zn-lSmCS8A81Tafz...|  11525 SW Barnes Rd|{null, null, u'fu...|-zn-lSmCS8A81Tafz...|American (New), M...|    Portland|{15:0-2:30, 15:0-...|      0|   45.5170153|   -122.7953047|Grapevine Restaurant|      97225|          25|  3.0|   OR|\n",
      "|05I-oVoJxNXESE4TL...|   297 Nantasket Ave|{null, null, null...|05I-oVoJxNXESE4TL...|American (New), R...|        Hull|                null|      1|   42.2746886|    -70.8623721|          Beachfront|      02045|          10|  3.5|   MA|\n",
      "|08n38tS38iznDwL_X...| 5915 SW Corbett Ave|{null, null, u'be...|08n38tS38iznDwL_X...|Food, Cafes, Rest...|    Portland|{6:0-17:0, 8:0-15...|      1|45.4809652084|-122.6769972659|           JoLa Cafe|      97239|         270|  4.0|   OR|\n",
      "|0B5X4AXN0xh-8o9Gv...|   2866 W 4th Avenue|{True, null, null...|0B5X4AXN0xh-8o9Gv...|Periodontists, Or...|   Vancouver|{10:0-17:0, null,...|      1|   49.2683799|   -123.1695987|Monalisa Dental C...|    V6K 1R2|           7|  4.5|   BC|\n",
      "|0GBGRkKM6-89K4v_m...|     1010 Toffie Ter|{null, null, null...|0GBGRkKM6-89K4v_m...|Flight Instructio...|     Atlanta|                null|      1|    33.656971|     -84.428451|FlightSafety Inte...|      30354|           5|  3.0|   GA|\n",
      "|0GhTvoyIEtXj4B0q-...|  3921 SE Belmont St|                null|0GhTvoyIEtXj4B0q-...|Handyman, Profess...|    Portland|{9:0-17:0, 9:0-17...|      1|   45.5166991|    -122.622447|     Builder By Bike|      97214|           5|  5.0|   OR|\n",
      "|0LqGfn0DNHzEUKo0p...|   3920 SW 141st Ave|{null, null, null...|0LqGfn0DNHzEUKo0p...|Automotive, Tires...|   Beaverton|{7:0-18:0, 7:0-18...|      1|   45.4916596|   -122.8211525|     H-M Motorsports|      97005|          32|  4.0|   OR|\n",
      "|0SQaGeoxFRemymuq7...|   1898 W 1st Avenue|{null, null, u'be...|0SQaGeoxFRemymuq7...|Delis, Italian, C...|   Vancouver|{7:0-18:0, 7:0-17...|      0|    49.270607|   -123.1477157|Epicurean Caffe B...|    V6J 1G5|          21|  3.5|   BC|\n",
      "|0T64EURWAh-CJOinf...|   571 Washington St|{null, null, null...|0T64EURWAh-CJOinf...|Cheese Shops, Eth...|      Boston|{11:0-20:0, 11:0-...|      1|    42.353724|     -71.062624|     Avery Provision|      02116|          14|  2.5|   MA|\n",
      "|0noKLh5ckJNKrMNp3...|22 Lake Beauty Dr...|{False, null, nul...|0noKLh5ckJNKrMNp3...|Health & Medical,...|     Orlando|{9:0-14:0, 9:0-17...|      0|    28.522453|     -81.377362|Progressive Welln...|      32806|          25|  3.5|   FL|\n",
      "|0ocWk5O5Bw1fnLy-Y...|  2301 US Highway 27|{null, null, null...|0ocWk5O5Bw1fnLy-Y...|Day Spas, Massage...|    Clermont|                null|      1|28.5391981155| -81.7389383912|Hand & Stone Mass...|      34711|          49|  2.5|   FL|\n",
      "|0wVOkE-r_pLWdU923...|4646 Buford Hwy N...|{null, null, 'non...|0wVOkE-r_pLWdU923...|Nightlife, Cafes,...|    Chamblee|                null|      0|   33.8773762|    -84.2934256|      Cafe Hollywood|      30341|           6|  3.5|   GA|\n",
      "+--------------------+--------------------+--------------------+--------------------+--------------------+------------+--------------------+-------+-------------+---------------+--------------------+-----------+------------+-----+-----+\n",
      "only showing top 20 rows\n",
      "\n"
     ]
    },
    {
     "ename": "AttributeError",
     "evalue": "'DataFrame' object has no attribute 'print_schema'",
     "output_type": "error",
     "traceback": [
      "\u001b[0;31m---------------------------------------------------------------------------\u001b[0m",
      "\u001b[0;31mAttributeError\u001b[0m                            Traceback (most recent call last)",
      "\u001b[0;32m<ipython-input-20-2574c184349f>\u001b[0m in \u001b[0;36m<module>\u001b[0;34m\u001b[0m\n\u001b[1;32m      1\u001b[0m \u001b[0minner_join\u001b[0m\u001b[0;34m.\u001b[0m\u001b[0mshow\u001b[0m\u001b[0;34m(\u001b[0m\u001b[0;34m)\u001b[0m\u001b[0;34m\u001b[0m\u001b[0;34m\u001b[0m\u001b[0m\n\u001b[0;32m----> 2\u001b[0;31m \u001b[0minner_join\u001b[0m\u001b[0;34m.\u001b[0m\u001b[0mprint_schema\u001b[0m\u001b[0;34m(\u001b[0m\u001b[0;34m)\u001b[0m\u001b[0;34m\u001b[0m\u001b[0;34m\u001b[0m\u001b[0m\n\u001b[0m",
      "\u001b[0;32m~/opt/anaconda3/lib/python3.7/site-packages/pyspark/sql/dataframe.py\u001b[0m in \u001b[0;36m__getattr__\u001b[0;34m(self, name)\u001b[0m\n\u001b[1;32m   1642\u001b[0m         \u001b[0;32mif\u001b[0m \u001b[0mname\u001b[0m \u001b[0;32mnot\u001b[0m \u001b[0;32min\u001b[0m \u001b[0mself\u001b[0m\u001b[0;34m.\u001b[0m\u001b[0mcolumns\u001b[0m\u001b[0;34m:\u001b[0m\u001b[0;34m\u001b[0m\u001b[0;34m\u001b[0m\u001b[0m\n\u001b[1;32m   1643\u001b[0m             raise AttributeError(\n\u001b[0;32m-> 1644\u001b[0;31m                 \"'%s' object has no attribute '%s'\" % (self.__class__.__name__, name))\n\u001b[0m\u001b[1;32m   1645\u001b[0m         \u001b[0mjc\u001b[0m \u001b[0;34m=\u001b[0m \u001b[0mself\u001b[0m\u001b[0;34m.\u001b[0m\u001b[0m_jdf\u001b[0m\u001b[0;34m.\u001b[0m\u001b[0mapply\u001b[0m\u001b[0;34m(\u001b[0m\u001b[0mname\u001b[0m\u001b[0;34m)\u001b[0m\u001b[0;34m\u001b[0m\u001b[0;34m\u001b[0m\u001b[0m\n\u001b[1;32m   1646\u001b[0m         \u001b[0;32mreturn\u001b[0m \u001b[0mColumn\u001b[0m\u001b[0;34m(\u001b[0m\u001b[0mjc\u001b[0m\u001b[0;34m)\u001b[0m\u001b[0;34m\u001b[0m\u001b[0;34m\u001b[0m\u001b[0m\n",
      "\u001b[0;31mAttributeError\u001b[0m: 'DataFrame' object has no attribute 'print_schema'"
     ]
    }
   ],
   "source": [
    "inner_join.show()"
   ]
  },
  {
   "cell_type": "code",
   "execution_count": 21,
   "metadata": {},
   "outputs": [
    {
     "name": "stdout",
     "output_type": "stream",
     "text": [
      "root\n",
      " |-- itemID: string (nullable = true)\n",
      " |-- address: string (nullable = true)\n",
      " |-- attributes: struct (nullable = true)\n",
      " |    |-- AcceptsInsurance: string (nullable = true)\n",
      " |    |-- AgesAllowed: string (nullable = true)\n",
      " |    |-- Alcohol: string (nullable = true)\n",
      " |    |-- Ambience: string (nullable = true)\n",
      " |    |-- BYOB: string (nullable = true)\n",
      " |    |-- BYOBCorkage: string (nullable = true)\n",
      " |    |-- BestNights: string (nullable = true)\n",
      " |    |-- BikeParking: string (nullable = true)\n",
      " |    |-- BusinessAcceptsBitcoin: string (nullable = true)\n",
      " |    |-- BusinessAcceptsCreditCards: string (nullable = true)\n",
      " |    |-- BusinessParking: string (nullable = true)\n",
      " |    |-- ByAppointmentOnly: string (nullable = true)\n",
      " |    |-- Caters: string (nullable = true)\n",
      " |    |-- CoatCheck: string (nullable = true)\n",
      " |    |-- Corkage: string (nullable = true)\n",
      " |    |-- DietaryRestrictions: string (nullable = true)\n",
      " |    |-- DogsAllowed: string (nullable = true)\n",
      " |    |-- DriveThru: string (nullable = true)\n",
      " |    |-- GoodForDancing: string (nullable = true)\n",
      " |    |-- GoodForKids: string (nullable = true)\n",
      " |    |-- GoodForMeal: string (nullable = true)\n",
      " |    |-- HairSpecializesIn: string (nullable = true)\n",
      " |    |-- HappyHour: string (nullable = true)\n",
      " |    |-- HasTV: string (nullable = true)\n",
      " |    |-- Music: string (nullable = true)\n",
      " |    |-- NoiseLevel: string (nullable = true)\n",
      " |    |-- Open24Hours: string (nullable = true)\n",
      " |    |-- OutdoorSeating: string (nullable = true)\n",
      " |    |-- RestaurantsAttire: string (nullable = true)\n",
      " |    |-- RestaurantsCounterService: string (nullable = true)\n",
      " |    |-- RestaurantsDelivery: string (nullable = true)\n",
      " |    |-- RestaurantsGoodForGroups: string (nullable = true)\n",
      " |    |-- RestaurantsPriceRange2: string (nullable = true)\n",
      " |    |-- RestaurantsReservations: string (nullable = true)\n",
      " |    |-- RestaurantsTableService: string (nullable = true)\n",
      " |    |-- RestaurantsTakeOut: string (nullable = true)\n",
      " |    |-- Smoking: string (nullable = true)\n",
      " |    |-- WheelchairAccessible: string (nullable = true)\n",
      " |    |-- WiFi: string (nullable = true)\n",
      " |-- business_id: string (nullable = true)\n",
      " |-- categories: string (nullable = true)\n",
      " |-- city: string (nullable = true)\n",
      " |-- hours: struct (nullable = true)\n",
      " |    |-- Friday: string (nullable = true)\n",
      " |    |-- Monday: string (nullable = true)\n",
      " |    |-- Saturday: string (nullable = true)\n",
      " |    |-- Sunday: string (nullable = true)\n",
      " |    |-- Thursday: string (nullable = true)\n",
      " |    |-- Tuesday: string (nullable = true)\n",
      " |    |-- Wednesday: string (nullable = true)\n",
      " |-- is_open: long (nullable = true)\n",
      " |-- latitude: double (nullable = true)\n",
      " |-- longitude: double (nullable = true)\n",
      " |-- name: string (nullable = true)\n",
      " |-- postal_code: string (nullable = true)\n",
      " |-- review_count: long (nullable = true)\n",
      " |-- stars: double (nullable = true)\n",
      " |-- state: string (nullable = true)\n",
      "\n"
     ]
    }
   ],
   "source": [
    "inner_join.printSchema()"
   ]
  },
  {
   "cell_type": "code",
   "execution_count": 24,
   "metadata": {},
   "outputs": [
    {
     "name": "stdout",
     "output_type": "stream",
     "text": [
      "+--------------------+-----------+---------------+-------------+--------------------+-----+-----+--------------------+------------+\n",
      "|         business_id|postal_code|      longitude|     latitude|                name|state|stars|             address|        city|\n",
      "+--------------------+-----------+---------------+-------------+--------------------+-----+-----+--------------------+------------+\n",
      "|-36nnCT71XE0InJXK...|      98684|   -122.5571137|   45.6412317|             Safeway|   WA|  2.0|   2615 NE 112th Ave|   Vancouver|\n",
      "|-QOl03c2B22yi_On0...|      43147|     -82.790437|    39.932087|Cracker Barrel Ol...|   OH|  3.0|    1860 Winderly Ln|Pickerington|\n",
      "|-VVUUPK0ytYjpJ_S7...|    V5T 1J6|-123.1037478894|49.2665400102| Peaceful Restaurant|   BC|  3.0|     43 E 5th Avenue|   Vancouver|\n",
      "|-ZzsPlaAgwO3yt29u...|      78708|    -97.7051165|   30.3911673|      ATX Architects|   TX|  5.0|                    |      Austin|\n",
      "|-gdR559hH89jagbHz...|      02130|    -71.1065318|   42.3104844|    Evergreen Eatery|   MA|  4.5|        154 Green St|      Boston|\n",
      "|-t07XlNaUn3NdyB9L...|      02451|    -71.2340564|   42.4113856|       Trapelo Mobil|   MA|  3.5|     1033 Trapelo Rd|     Waltham|\n",
      "|-t8vTvHc05JhBM2hb...|      01915|    -70.8781277|    42.551011|   Union Jack Market|   MA|  3.5|        281 Cabot St|     Beverly|\n",
      "|-x9y3f2IXWnWhZyeQ...|      78735|     -97.832213|    30.255226|   Party Boat Austin|   TX|  5.0|      5201 McDade Dr|      Austin|\n",
      "|-zn-lSmCS8A81Tafz...|      97225|   -122.7953047|   45.5170153|Grapevine Restaurant|   OR|  3.0|  11525 SW Barnes Rd|    Portland|\n",
      "|05I-oVoJxNXESE4TL...|      02045|    -70.8623721|   42.2746886|          Beachfront|   MA|  3.5|   297 Nantasket Ave|        Hull|\n",
      "|08n38tS38iznDwL_X...|      97239|-122.6769972659|45.4809652084|           JoLa Cafe|   OR|  4.0| 5915 SW Corbett Ave|    Portland|\n",
      "|0B5X4AXN0xh-8o9Gv...|    V6K 1R2|   -123.1695987|   49.2683799|Monalisa Dental C...|   BC|  4.5|   2866 W 4th Avenue|   Vancouver|\n",
      "|0GBGRkKM6-89K4v_m...|      30354|     -84.428451|    33.656971|FlightSafety Inte...|   GA|  3.0|     1010 Toffie Ter|     Atlanta|\n",
      "|0GhTvoyIEtXj4B0q-...|      97214|    -122.622447|   45.5166991|     Builder By Bike|   OR|  5.0|  3921 SE Belmont St|    Portland|\n",
      "|0LqGfn0DNHzEUKo0p...|      97005|   -122.8211525|   45.4916596|     H-M Motorsports|   OR|  4.0|   3920 SW 141st Ave|   Beaverton|\n",
      "|0SQaGeoxFRemymuq7...|    V6J 1G5|   -123.1477157|    49.270607|Epicurean Caffe B...|   BC|  3.5|   1898 W 1st Avenue|   Vancouver|\n",
      "|0T64EURWAh-CJOinf...|      02116|     -71.062624|    42.353724|     Avery Provision|   MA|  2.5|   571 Washington St|      Boston|\n",
      "|0noKLh5ckJNKrMNp3...|      32806|     -81.377362|    28.522453|Progressive Welln...|   FL|  3.5|22 Lake Beauty Dr...|     Orlando|\n",
      "|0ocWk5O5Bw1fnLy-Y...|      34711| -81.7389383912|28.5391981155|Hand & Stone Mass...|   FL|  2.5|  2301 US Highway 27|    Clermont|\n",
      "|0wVOkE-r_pLWdU923...|      30341|    -84.2934256|   33.8773762|      Cafe Hollywood|   GA|  3.5|4646 Buford Hwy N...|    Chamblee|\n",
      "+--------------------+-----------+---------------+-------------+--------------------+-----+-----+--------------------+------------+\n",
      "only showing top 20 rows\n",
      "\n"
     ]
    }
   ],
   "source": [
    "select_a = [\"business_id\", \"postal_code\", \"longitude\", \"latitude\", \"name\", \"state\", \"stars\", \"address\", \"city\"]\n",
    "business_df = inner_join.select(select_a)\n",
    "business_df.show()"
   ]
  },
  {
   "cell_type": "code",
   "execution_count": 25,
   "metadata": {},
   "outputs": [],
   "source": [
    "business_df.toPandas().to_csv('business_list.csv')"
   ]
  },
  {
   "cell_type": "code",
   "execution_count": null,
   "metadata": {},
   "outputs": [],
   "source": []
  }
 ],
 "metadata": {
  "kernelspec": {
   "display_name": "Python 3",
   "language": "python",
   "name": "python3"
  },
  "language_info": {
   "codemirror_mode": {
    "name": "ipython",
    "version": 3
   },
   "file_extension": ".py",
   "mimetype": "text/x-python",
   "name": "python",
   "nbconvert_exporter": "python",
   "pygments_lexer": "ipython3",
   "version": "3.7.4"
  }
 },
 "nbformat": 4,
 "nbformat_minor": 2
}
