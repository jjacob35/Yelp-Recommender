{
 "cells": [
  {
   "cell_type": "code",
   "execution_count": 1,
   "metadata": {},
   "outputs": [],
   "source": [
    "import pyspark\n",
    "from pyspark.sql import SQLContext, SparkSession\n",
    "from pyspark.sql.functions import hour, when, col, date_format, to_timestamp, create_map, lit\n",
    "from pyspark.sql.functions import *\n",
    "from pyspark.sql.types import StructType\n",
    "from itertools import chain\n",
    "from faker import Faker\n",
    "import os\n"
   ]
  },
  {
   "cell_type": "code",
   "execution_count": 2,
   "metadata": {},
   "outputs": [
    {
     "ename": "ValueError",
     "evalue": "Couldn't find Spark, make sure SPARK_HOME env is set or Spark is in an expected location (e.g. from homebrew installation).",
     "output_type": "error",
     "traceback": [
      "\u001b[0;31m---------------------------------------------------------------------------\u001b[0m",
      "\u001b[0;31mValueError\u001b[0m                                Traceback (most recent call last)",
      "\u001b[0;32m<ipython-input-2-09b07b09c38e>\u001b[0m in \u001b[0;36m<module>\u001b[0;34m\u001b[0m\n\u001b[1;32m      1\u001b[0m \u001b[0;32mimport\u001b[0m \u001b[0mfindspark\u001b[0m\u001b[0;34m\u001b[0m\u001b[0;34m\u001b[0m\u001b[0m\n\u001b[0;32m----> 2\u001b[0;31m \u001b[0mfindspark\u001b[0m\u001b[0;34m.\u001b[0m\u001b[0mfind\u001b[0m\u001b[0;34m(\u001b[0m\u001b[0;34m)\u001b[0m\u001b[0;34m\u001b[0m\u001b[0;34m\u001b[0m\u001b[0m\n\u001b[0m",
      "\u001b[0;32m~/opt/anaconda3/lib/python3.7/site-packages/findspark.py\u001b[0m in \u001b[0;36mfind\u001b[0;34m()\u001b[0m\n\u001b[1;32m     34\u001b[0m     \u001b[0;32mif\u001b[0m \u001b[0;32mnot\u001b[0m \u001b[0mspark_home\u001b[0m\u001b[0;34m:\u001b[0m\u001b[0;34m\u001b[0m\u001b[0;34m\u001b[0m\u001b[0m\n\u001b[1;32m     35\u001b[0m         raise ValueError(\n\u001b[0;32m---> 36\u001b[0;31m             \u001b[0;34m\"Couldn't find Spark, make sure SPARK_HOME env is set\"\u001b[0m\u001b[0;34m\u001b[0m\u001b[0;34m\u001b[0m\u001b[0m\n\u001b[0m\u001b[1;32m     37\u001b[0m             \u001b[0;34m\" or Spark is in an expected location (e.g. from homebrew installation).\"\u001b[0m\u001b[0;34m\u001b[0m\u001b[0;34m\u001b[0m\u001b[0m\n\u001b[1;32m     38\u001b[0m         )\n",
      "\u001b[0;31mValueError\u001b[0m: Couldn't find Spark, make sure SPARK_HOME env is set or Spark is in an expected location (e.g. from homebrew installation)."
     ]
    }
   ],
   "source": [
    "import findspark\n",
    "findspark.find()"
   ]
  },
  {
   "cell_type": "code",
   "execution_count": 3,
   "metadata": {},
   "outputs": [],
   "source": [
    "memory = '4g'\n",
    "pyspark_submit_args = ' --driver-memory ' + memory + ' pyspark-shell'\n",
    "os.environ[\"PYSPARK_SUBMIT_ARGS\"] = pyspark_submit_args"
   ]
  },
  {
   "cell_type": "code",
   "execution_count": 4,
   "metadata": {},
   "outputs": [],
   "source": [
    "sc = pyspark.SparkContext(appName=\"temp\")\n",
    "sqlContext = SQLContext(sc)\n",
    "\n",
    "sp = SparkSession.builder.config(\"spark.driver.memory\", \"15g\").appName('ReviewsSpark').getOrCreate()"
   ]
  },
  {
   "cell_type": "markdown",
   "metadata": {},
   "source": [
    "#### Function to Load Data"
   ]
  },
  {
   "cell_type": "code",
   "execution_count": 5,
   "metadata": {},
   "outputs": [],
   "source": [
    "def load_business_data():\n",
    "    path = \"archive/yelp_academic_dataset_business.json\"\n",
    "    df = sqlContext.read.json(path, multiLine=False)\n",
    "    return df\n",
    "\n",
    "def load_review_data():\n",
    "    path = \"archive/yelp_filtnosamp_gt5.csv\"\n",
    "    df = sp.read.option(\"header\",True).csv(path)\n",
    "    return df"
   ]
  },
  {
   "cell_type": "code",
   "execution_count": 6,
   "metadata": {},
   "outputs": [],
   "source": [
    "df = load_business_data()\n",
    "\n",
    "df2 = load_review_data()"
   ]
  },
  {
   "cell_type": "markdown",
   "metadata": {},
   "source": [
    "#### Show Data and Schema"
   ]
  },
  {
   "cell_type": "code",
   "execution_count": 10,
   "metadata": {},
   "outputs": [
    {
     "name": "stdout",
     "output_type": "stream",
     "text": [
      "+--------------------+--------------------+--------------------+--------------------+--------------+--------------------+-------+-------------+---------------+--------------------+-----------+------------+-----+-----+\n",
      "|             address|          attributes|         business_id|          categories|          city|               hours|is_open|     latitude|      longitude|                name|postal_code|review_count|stars|state|\n",
      "+--------------------+--------------------+--------------------+--------------------+--------------+--------------------+-------+-------------+---------------+--------------------+-----------+------------+-----+-----+\n",
      "|        921 Pearl St|{null, null, 'bee...|6iYb2HFDywm3zjuRg...|Gastropubs, Food,...|       Boulder|{11:0-23:0, 11:0-...|      1|   40.0175444|   -105.2833481| Oskar Blues Taproom|      80302|          86|  4.0|   CO|\n",
      "| 7000 NE Airport Way|{null, null, u'be...|tCbdrRPZA0oiIYSmH...|Salad, Soup, Sand...|      Portland|{5:0-18:0, 5:0-18...|      1|45.5889058992|-122.5933307507|Flying Elephants ...|      97218|         126|  4.0|   OR|\n",
      "|  4720 Hawthorne Ave|{null, null, null...|bvN78flM8NLprQ1a1...|Antiques, Fashion...|      Portland|{11:0-18:0, null,...|      1|45.5119069956|-122.6136928797|      The Reclaimory|      97214|          13|  4.5|   OR|\n",
      "|  2566 Enterprise Rd|{null, null, null...|oaepsyvc0J17qwi8c...|Beauty & Spas, Ha...|   Orange City|                null|      1|   28.9144823|    -81.2959787|         Great Clips|      32763|           8|  3.0|   FL|\n",
      "| 1046 Memorial Dr SE|{null, null, null...|PE9uqAjdw0E4-8mjG...|Gyms, Active Life...|       Atlanta|{16:0-19:0, 16:0-...|      1|   33.7470274|    -84.3534244|   Crossfit Terminus|      30316|          14|  4.0|   GA|\n",
      "|        3755 Main St|{null, null, u'no...|D4JtQNTI4X3Kcbzac...|   Restaurants, Thai|     Vancouver|{17:0-21:0, 17:0-...|      1|   49.2513423|    -123.101333| Bob Likes Thai Food|        V5V|         169|  3.5|   BC|\n",
      "|   2511 Edgewater Dr|{True, null, null...|t35jsh9YnMtttm69U...|Dentists, Health ...|       Orlando|{8:0-17:30, 0:0-0...|      1|    28.573998|    -81.3892841| Escott Orthodontics|      32804|           7|  4.5|   FL|\n",
      "|       740 S High St|                null|jFYIsSb7r1QeESVUn...|Breakfast & Brunc...|      Columbus|{null, null, 8:0-...|      1| 39.947006523|     -82.997471|     Boxwood Biscuit|      43206|          11|  4.5|   OH|\n",
      "|7801 N Lamar Blvd...|{null, null, null...|N3_Gs3DnX4k9SgpwJ...|Shopping, Jewelry...|        Austin|{12:15-17:0, 12:1...|      1|    30.346169|     -97.711458|Lane Wells Jewelr...|      78752|          30|  5.0|   TX|\n",
      "|615 W Slaughter L...|{null, null, null...|tXvdYGvlEceDljN8g...|Barbers, Beauty &...|        Austin|{9:0-19:0, 9:0-17...|      0|   30.1727062|    -97.7999199|Capital City Barb...|      78748|           5|  4.0|   TX|\n",
      "|     100 Clematis Dr|{null, null, null...|rYs_1pNB_RMtn5WQh...|Food, Shopping, C...|       Boulder|{8:0-20:0, 8:0-20...|      1|   39.9984488|    -105.281006|Chautauqua Genera...|      80302|           5|  3.5|   CO|\n",
      "|124 Newbury St, U...|{null, null, null...|hCABMnKtwo4Y9alQD...|Wigs, Hair Extens...|       Peabody|{9:0-18:0, 10:0-1...|      1|   42.5342478|    -70.9909475|Star Kreations Sa...|      01960|           8|  4.0|   MA|\n",
      "|       474 Lowell St|{null, null, u'no...|HPA_qyMEddpAEtFof...|Food, Pizza, Rest...|       Peabody|{11:0-22:0, 11:0-...|      1|    42.541155|     -70.973438| Mr G's Pizza & Subs|      01960|          39|  4.0|   MA|\n",
      "|   247 E Michigan St|{null, null, null...|ufCxltuh56FF4-ZFZ...|Restaurants, Amer...|       Orlando|{11:0-18:0, null,...|      1|   28.5132647|    -81.3747072|      Sister Honey's|      32806|         135|  4.5|   FL|\n",
      "|       225 E Main St|{null, null, null...|i_t_30RYVUDdZzFIc...|Books, Mags, Musi...|      Columbus|{9:0-17:30, null,...|      0|   39.9566155|    -82.9933017|Uncle Sam's Pawn ...|      43215|           5|  4.0|   OH|\n",
      "|    5510 Memorial Dr|{null, null, null...|g7CEhqBIpwTg6ERcM...|Oil Change Statio...|Stone Mountain|{8:0-18:30, 8:0-1...|      1|   33.8006868|      -84.21282|Finish Line Car Wash|      30083|          11|  2.5|   GA|\n",
      "|     1050 Century Dr|{null, null, null...|GfWJ19Js7wX9rwaHQ...|Restaurants, Amer...|       Orlando|{7:0-22:0, 0:0-0:...|      1|   28.3504984|     -81.542819|Everything POP Sh...|      32830|           7|  3.0|   FL|\n",
      "|4787 W Irlo Brons...|{null, null, null...|MUeUyqhMja-nnmvgP...|Hotels, Vacation ...|     Kissimmee|{0:0-0:0, 0:0-0:0...|      0|    28.330255|     -81.469464|Saratoga Resort V...|      34746|          55|  3.5|   FL|\n",
      "|       2 Florence St|                null|6fT0lYr_UgWSCZs_w...|Specialty Schools...|        Malden|{8:0-17:0, 8:0-20...|      1|    42.427889|     -71.073475|       Salter School|      02148|           5|  2.0|   MA|\n",
      "|  350 W Sand Lake Rd|{null, null, 'non...|dmbbf3AqeG61_QHRZ...|Automotive, Ameri...|   Pine Castle|                null|      1|   28.4503025|    -81.3805873|            RaceTrac|      32809|           5|  3.5|   FL|\n",
      "+--------------------+--------------------+--------------------+--------------------+--------------+--------------------+-------+-------------+---------------+--------------------+-----------+------------+-----+-----+\n",
      "only showing top 20 rows\n",
      "\n"
     ]
    }
   ],
   "source": [
    "df.show()"
   ]
  },
  {
   "cell_type": "code",
   "execution_count": 11,
   "metadata": {},
   "outputs": [
    {
     "name": "stdout",
     "output_type": "stream",
     "text": [
      "root\n",
      " |-- address: string (nullable = true)\n",
      " |-- attributes: struct (nullable = true)\n",
      " |    |-- AcceptsInsurance: string (nullable = true)\n",
      " |    |-- AgesAllowed: string (nullable = true)\n",
      " |    |-- Alcohol: string (nullable = true)\n",
      " |    |-- Ambience: string (nullable = true)\n",
      " |    |-- BYOB: string (nullable = true)\n",
      " |    |-- BYOBCorkage: string (nullable = true)\n",
      " |    |-- BestNights: string (nullable = true)\n",
      " |    |-- BikeParking: string (nullable = true)\n",
      " |    |-- BusinessAcceptsBitcoin: string (nullable = true)\n",
      " |    |-- BusinessAcceptsCreditCards: string (nullable = true)\n",
      " |    |-- BusinessParking: string (nullable = true)\n",
      " |    |-- ByAppointmentOnly: string (nullable = true)\n",
      " |    |-- Caters: string (nullable = true)\n",
      " |    |-- CoatCheck: string (nullable = true)\n",
      " |    |-- Corkage: string (nullable = true)\n",
      " |    |-- DietaryRestrictions: string (nullable = true)\n",
      " |    |-- DogsAllowed: string (nullable = true)\n",
      " |    |-- DriveThru: string (nullable = true)\n",
      " |    |-- GoodForDancing: string (nullable = true)\n",
      " |    |-- GoodForKids: string (nullable = true)\n",
      " |    |-- GoodForMeal: string (nullable = true)\n",
      " |    |-- HairSpecializesIn: string (nullable = true)\n",
      " |    |-- HappyHour: string (nullable = true)\n",
      " |    |-- HasTV: string (nullable = true)\n",
      " |    |-- Music: string (nullable = true)\n",
      " |    |-- NoiseLevel: string (nullable = true)\n",
      " |    |-- Open24Hours: string (nullable = true)\n",
      " |    |-- OutdoorSeating: string (nullable = true)\n",
      " |    |-- RestaurantsAttire: string (nullable = true)\n",
      " |    |-- RestaurantsCounterService: string (nullable = true)\n",
      " |    |-- RestaurantsDelivery: string (nullable = true)\n",
      " |    |-- RestaurantsGoodForGroups: string (nullable = true)\n",
      " |    |-- RestaurantsPriceRange2: string (nullable = true)\n",
      " |    |-- RestaurantsReservations: string (nullable = true)\n",
      " |    |-- RestaurantsTableService: string (nullable = true)\n",
      " |    |-- RestaurantsTakeOut: string (nullable = true)\n",
      " |    |-- Smoking: string (nullable = true)\n",
      " |    |-- WheelchairAccessible: string (nullable = true)\n",
      " |    |-- WiFi: string (nullable = true)\n",
      " |-- business_id: string (nullable = true)\n",
      " |-- categories: string (nullable = true)\n",
      " |-- city: string (nullable = true)\n",
      " |-- hours: struct (nullable = true)\n",
      " |    |-- Friday: string (nullable = true)\n",
      " |    |-- Monday: string (nullable = true)\n",
      " |    |-- Saturday: string (nullable = true)\n",
      " |    |-- Sunday: string (nullable = true)\n",
      " |    |-- Thursday: string (nullable = true)\n",
      " |    |-- Tuesday: string (nullable = true)\n",
      " |    |-- Wednesday: string (nullable = true)\n",
      " |-- is_open: long (nullable = true)\n",
      " |-- latitude: double (nullable = true)\n",
      " |-- longitude: double (nullable = true)\n",
      " |-- name: string (nullable = true)\n",
      " |-- postal_code: string (nullable = true)\n",
      " |-- review_count: long (nullable = true)\n",
      " |-- stars: double (nullable = true)\n",
      " |-- state: string (nullable = true)\n",
      "\n"
     ]
    }
   ],
   "source": [
    "df.printSchema()"
   ]
  },
  {
   "cell_type": "code",
   "execution_count": null,
   "metadata": {},
   "outputs": [],
   "source": [
    "df2.show()"
   ]
  },
  {
   "cell_type": "code",
   "execution_count": 14,
   "metadata": {},
   "outputs": [
    {
     "name": "stdout",
     "output_type": "stream",
     "text": [
      "root\n",
      " |-- _c0: string (nullable = true)\n",
      " |-- userID: string (nullable = true)\n",
      " |-- itemID: string (nullable = true)\n",
      " |-- rating: string (nullable = true)\n",
      " |-- name: string (nullable = true)\n",
      "\n"
     ]
    }
   ],
   "source": [
    "df2.printSchema()"
   ]
  },
  {
   "cell_type": "markdown",
   "metadata": {},
   "source": [
    "# Business Data Manipulation"
   ]
  },
  {
   "cell_type": "markdown",
   "metadata": {},
   "source": [
    "#### (TODO) Flattens the Structs so that all the Nested Columns are Normal Columns"
   ]
  },
  {
   "cell_type": "code",
   "execution_count": null,
   "metadata": {},
   "outputs": [],
   "source": [
    "##To be done\n",
    "def flatten_df(df, prefix=\"\"):\n",
    "    return df"
   ]
  },
  {
   "cell_type": "code",
   "execution_count": null,
   "metadata": {
    "scrolled": true
   },
   "outputs": [],
   "source": [
    "# df = df.select(flatten_df(df))\n",
    "# df.show()"
   ]
  },
  {
   "cell_type": "markdown",
   "metadata": {},
   "source": [
    "#### Clean up the Data and Keep Required Rows"
   ]
  },
  {
   "cell_type": "code",
   "execution_count": 7,
   "metadata": {},
   "outputs": [],
   "source": [
    "def clean_data(df):\n",
    "    '''\n",
    "    input: df a dataframe\n",
    "    output: df a dataframe with the all the original columns\n",
    "    '''\n",
    "    \n",
    "    # START YOUR CODE HERE ---------\n",
    "    df = df.select([\"name\", \"latitude\", \"longitude\", \"city\", \"review_count\", \"stars\", \"attributes\", \"categories\"])\n",
    "    \n",
    "\n",
    "    # END YOUR CODE HERE -----------\n",
    "    return df\n",
    "\n"
   ]
  },
  {
   "cell_type": "code",
   "execution_count": 8,
   "metadata": {},
   "outputs": [
    {
     "name": "stdout",
     "output_type": "stream",
     "text": [
      "+--------------------+-------------+---------------+--------------+------------+-----+--------------------+--------------------+\n",
      "|                name|     latitude|      longitude|          city|review_count|stars|          attributes|          categories|\n",
      "+--------------------+-------------+---------------+--------------+------------+-----+--------------------+--------------------+\n",
      "| Oskar Blues Taproom|   40.0175444|   -105.2833481|       Boulder|          86|  4.0|{null, null, 'bee...|Gastropubs, Food,...|\n",
      "|Flying Elephants ...|45.5889058992|-122.5933307507|      Portland|         126|  4.0|{null, null, u'be...|Salad, Soup, Sand...|\n",
      "|      The Reclaimory|45.5119069956|-122.6136928797|      Portland|          13|  4.5|{null, null, null...|Antiques, Fashion...|\n",
      "|         Great Clips|   28.9144823|    -81.2959787|   Orange City|           8|  3.0|{null, null, null...|Beauty & Spas, Ha...|\n",
      "|   Crossfit Terminus|   33.7470274|    -84.3534244|       Atlanta|          14|  4.0|{null, null, null...|Gyms, Active Life...|\n",
      "| Bob Likes Thai Food|   49.2513423|    -123.101333|     Vancouver|         169|  3.5|{null, null, u'no...|   Restaurants, Thai|\n",
      "| Escott Orthodontics|    28.573998|    -81.3892841|       Orlando|           7|  4.5|{True, null, null...|Dentists, Health ...|\n",
      "|     Boxwood Biscuit| 39.947006523|     -82.997471|      Columbus|          11|  4.5|                null|Breakfast & Brunc...|\n",
      "|Lane Wells Jewelr...|    30.346169|     -97.711458|        Austin|          30|  5.0|{null, null, null...|Shopping, Jewelry...|\n",
      "|Capital City Barb...|   30.1727062|    -97.7999199|        Austin|           5|  4.0|{null, null, null...|Barbers, Beauty &...|\n",
      "|Chautauqua Genera...|   39.9984488|    -105.281006|       Boulder|           5|  3.5|{null, null, null...|Food, Shopping, C...|\n",
      "|Star Kreations Sa...|   42.5342478|    -70.9909475|       Peabody|           8|  4.0|{null, null, null...|Wigs, Hair Extens...|\n",
      "| Mr G's Pizza & Subs|    42.541155|     -70.973438|       Peabody|          39|  4.0|{null, null, u'no...|Food, Pizza, Rest...|\n",
      "|      Sister Honey's|   28.5132647|    -81.3747072|       Orlando|         135|  4.5|{null, null, null...|Restaurants, Amer...|\n",
      "|Uncle Sam's Pawn ...|   39.9566155|    -82.9933017|      Columbus|           5|  4.0|{null, null, null...|Books, Mags, Musi...|\n",
      "|Finish Line Car Wash|   33.8006868|      -84.21282|Stone Mountain|          11|  2.5|{null, null, null...|Oil Change Statio...|\n",
      "|Everything POP Sh...|   28.3504984|     -81.542819|       Orlando|           7|  3.0|{null, null, null...|Restaurants, Amer...|\n",
      "|Saratoga Resort V...|    28.330255|     -81.469464|     Kissimmee|          55|  3.5|{null, null, null...|Hotels, Vacation ...|\n",
      "|       Salter School|    42.427889|     -71.073475|        Malden|           5|  2.0|                null|Specialty Schools...|\n",
      "|            RaceTrac|   28.4503025|    -81.3805873|   Pine Castle|           5|  3.5|{null, null, 'non...|Automotive, Ameri...|\n",
      "+--------------------+-------------+---------------+--------------+------------+-----+--------------------+--------------------+\n",
      "only showing top 20 rows\n",
      "\n"
     ]
    }
   ],
   "source": [
    "df = clean_data(df)\n",
    "df.show()"
   ]
  },
  {
   "cell_type": "markdown",
   "metadata": {},
   "source": [
    "#### Filter Entries with Empty Ratings Field\n",
    "\n",
    "Since with this, we see that there are no restaraunts with null ratings, we know that we do not need to filter out any rows from this dataframe."
   ]
  },
  {
   "cell_type": "code",
   "execution_count": 9,
   "metadata": {},
   "outputs": [
    {
     "name": "stdout",
     "output_type": "stream",
     "text": [
      "+----+--------+---------+----+------------+-----+----------+----------+\n",
      "|name|latitude|longitude|city|review_count|stars|attributes|categories|\n",
      "+----+--------+---------+----+------------+-----+----------+----------+\n",
      "+----+--------+---------+----+------------+-----+----------+----------+\n",
      "\n"
     ]
    }
   ],
   "source": [
    "df.filter(df.stars.isNull()).show()"
   ]
  },
  {
   "cell_type": "markdown",
   "metadata": {},
   "source": [
    "#### Filter the Data so Only Data from Atlanta is contained (temporarily)"
   ]
  },
  {
   "cell_type": "code",
   "execution_count": null,
   "metadata": {},
   "outputs": [],
   "source": [
    "df = df.filter(df.city == \"Atlanta\")\n",
    "df.show()"
   ]
  },
  {
   "cell_type": "markdown",
   "metadata": {},
   "source": [
    "# Reviews Data Manipulation"
   ]
  },
  {
   "cell_type": "code",
   "execution_count": 10,
   "metadata": {},
   "outputs": [],
   "source": [
    "fakeGen = Faker() \n",
    "users = df2.select(\"userID\").distinct().coalesce(1)\n",
    "fakeNameMap = {}\n",
    "for user in users.rdd.toLocalIterator():\n",
    "    fakeNameMap[user[\"userID\"]] = fakeGen.name()\n",
    "    \n",
    "mapping_expr = create_map([lit(x) for x in chain(*fakeNameMap.items())])\n",
    "\n",
    "df2 = df2.withColumn(\"name\", mapping_expr.getItem(col(\"userID\")))\n"
   ]
  },
  {
   "cell_type": "code",
   "execution_count": 11,
   "metadata": {},
   "outputs": [],
   "source": [
    "df2.toPandas().to_csv('yelp_filtnosamp_gt5_withname.csv')"
   ]
  },
  {
   "cell_type": "code",
   "execution_count": 12,
   "metadata": {},
   "outputs": [
    {
     "name": "stdout",
     "output_type": "stream",
     "text": [
      "+---+--------------------+--------------------+------+-------------------+\n",
      "|_c0|              userID|              itemID|rating|               name|\n",
      "+---+--------------------+--------------------+------+-------------------+\n",
      "|  0|ak0TdVmGKo4pwqdJS...|buF9druCkbuXLX526...|   4.0|      Rickey Miller|\n",
      "|  1|ak0TdVmGKo4pwqdJS...|bNZ3-0rse12NKdSVq...|   4.0|      Rickey Miller|\n",
      "|  2|ak0TdVmGKo4pwqdJS...|BVsIaKL-8QXVjt0Z9...|   4.0|      Rickey Miller|\n",
      "|  3|ak0TdVmGKo4pwqdJS...|4MClvr12OXBNvGu8h...|   5.0|      Rickey Miller|\n",
      "|  4|ak0TdVmGKo4pwqdJS...|2vH58mhkEl8GdcDug...|   5.0|      Rickey Miller|\n",
      "|  5|YoVfDbnISlW0f7abN...|RA4V8pr014UyUbDvI...|   4.0|Elizabeth Patterson|\n",
      "|  6|YoVfDbnISlW0f7abN...|XJKy6GFNp0ALI7kU0...|   5.0|Elizabeth Patterson|\n",
      "|  7|YoVfDbnISlW0f7abN...|7eclDcacLLle21r0R...|   1.0|Elizabeth Patterson|\n",
      "|  8|YoVfDbnISlW0f7abN...|xG8nb41yshMoYYSwe...|   5.0|Elizabeth Patterson|\n",
      "|  9|YoVfDbnISlW0f7abN...|etxutRwLeNEtDmsL5...|   5.0|Elizabeth Patterson|\n",
      "| 10|YoVfDbnISlW0f7abN...|rmvojvNhGcvfHiWyD...|   5.0|Elizabeth Patterson|\n",
      "| 11|YoVfDbnISlW0f7abN...|cb1M5kDGGOgy_2AV7...|   5.0|Elizabeth Patterson|\n",
      "| 12|YoVfDbnISlW0f7abN...|VkV9tfARXGzUjqmRd...|   5.0|Elizabeth Patterson|\n",
      "| 13|YoVfDbnISlW0f7abN...|OujJ-zcC0ne8370rJ...|   1.0|Elizabeth Patterson|\n",
      "| 14|YoVfDbnISlW0f7abN...|iJ84NfZx0-34Kfskq...|   4.0|Elizabeth Patterson|\n",
      "| 15|YoVfDbnISlW0f7abN...|3nmqhc5X3V9kIybow...|   3.0|Elizabeth Patterson|\n",
      "| 16|YoVfDbnISlW0f7abN...|QMLYEVjIw1qf_R4Q1...|   4.0|Elizabeth Patterson|\n",
      "| 17|YoVfDbnISlW0f7abN...|y-Qh-9h8_NNORFGNh...|   4.0|Elizabeth Patterson|\n",
      "| 18|YoVfDbnISlW0f7abN...|G-mqbRnV9rX5Nf2NK...|   3.0|Elizabeth Patterson|\n",
      "| 19|YoVfDbnISlW0f7abN...|T3c8HTgo49BOkYyMT...|   4.0|Elizabeth Patterson|\n",
      "+---+--------------------+--------------------+------+-------------------+\n",
      "only showing top 20 rows\n",
      "\n"
     ]
    }
   ],
   "source": [
    "df2.show()"
   ]
  },
  {
   "cell_type": "code",
   "execution_count": 13,
   "metadata": {},
   "outputs": [],
   "source": [
    "name_list = df2.select(\"userID\", \"name\").distinct()"
   ]
  },
  {
   "cell_type": "code",
   "execution_count": 14,
   "metadata": {},
   "outputs": [
    {
     "name": "stdout",
     "output_type": "stream",
     "text": [
      "+--------------------+------------------+\n",
      "|              userID|              name|\n",
      "+--------------------+------------------+\n",
      "|1hrlsEQ8l43jK4aXq...|Steven Matthews MD|\n",
      "|p8rCTA139YIM6DQNq...|     Sarah Johnson|\n",
      "|gO9Ie4xaS9A2OEP1O...|      Morgan Gates|\n",
      "|CLISa_cfsE09NGNRV...|     Samuel Taylor|\n",
      "|lSYuWv8KdZiHYIhFx...|Frederick Williams|\n",
      "|tlOYWLfely6j68T9m...|     Charles Jones|\n",
      "|cOS-MNurk0vTQf2QL...|        Susan Lane|\n",
      "|8G5x4agMlY9BPyQAV...|   Katrina Fuentes|\n",
      "|mTcy82Ll983oC4YXD...|      Philip Ramos|\n",
      "|vWn_D48yeEbWpX49N...|   Melanie Wheeler|\n",
      "|6AGD5YdMITBtjGsou...|     Richard Jones|\n",
      "|VZiomHaM9olXlV7el...|   Michael Gilmore|\n",
      "|v7gsMsxQrQlQ4-JCe...|       John Waller|\n",
      "|4llwVVDnBkjDFx_3t...|    Darren Lindsey|\n",
      "|t-zh2SipbKPc2KfE6...|       Seth Gibson|\n",
      "|KjOLEj6uoZq8h01B4...|     Reginald Mann|\n",
      "|inF2vQg7SGNHlgRXV...|        Gina Moore|\n",
      "|8YSOoy6vauTKk4Tzx...|     Kevin Collins|\n",
      "|xO7EjbuU9cVLl7KvV...|     Erika Ramirez|\n",
      "|3qFzAjc6f7RPNVPCh...|     George Harris|\n",
      "+--------------------+------------------+\n",
      "only showing top 20 rows\n",
      "\n"
     ]
    }
   ],
   "source": [
    "name_list.show()"
   ]
  },
  {
   "cell_type": "code",
   "execution_count": 15,
   "metadata": {},
   "outputs": [],
   "source": [
    "name_list.toPandas().to_csv('users_list.csv')"
   ]
  },
  {
   "cell_type": "code",
   "execution_count": 16,
   "metadata": {},
   "outputs": [
    {
     "name": "stdout",
     "output_type": "stream",
     "text": [
      "+--------------------+\n",
      "|              itemID|\n",
      "+--------------------+\n",
      "|66o2Fw42ZhGSuX1VF...|\n",
      "|oLJWjd5VAkMbLU2e3...|\n",
      "|_jw0beMekkOuCEGRx...|\n",
      "|4QKuGnvjiPta_kk7J...|\n",
      "|fSsdhoCC3FsXrSAAQ...|\n",
      "|OuBUzqGj02xunvlIs...|\n",
      "|bxy3khT-2R66tcdKj...|\n",
      "|QAX9PI0-cAJN6x7rr...|\n",
      "|6a8EOxICJtgzHViVm...|\n",
      "|3ZVgig7uux9jVtEZn...|\n",
      "|usrqG3sAANrQPvaHl...|\n",
      "|Nqy2tJV3AGqW9Uil-...|\n",
      "|cyvpFpmpN0YgDykuO...|\n",
      "|Agq4zoNLSIpT1_ZJb...|\n",
      "|czsrWGmQRDwP0tBid...|\n",
      "|FbZLY5XASP9phBySt...|\n",
      "|4SRTmovGJLmUgsfL8...|\n",
      "|3gvHGMSHo4D8eXXSJ...|\n",
      "|DZXp8m38R0s9U3Saj...|\n",
      "|W4h9Tckj5WFJk1ve8...|\n",
      "+--------------------+\n",
      "only showing top 20 rows\n",
      "\n"
     ]
    }
   ],
   "source": [
    "business_df = df2.select(\"itemID\").distinct().coalesce(1)\n",
    "business_df.show()"
   ]
  },
  {
   "cell_type": "code",
   "execution_count": 17,
   "metadata": {},
   "outputs": [
    {
     "ename": "AttributeError",
     "evalue": "'DataFrame' object has no attribute 'business_id'",
     "output_type": "error",
     "traceback": [
      "\u001b[0;31m---------------------------------------------------------------------------\u001b[0m",
      "\u001b[0;31mAttributeError\u001b[0m                            Traceback (most recent call last)",
      "\u001b[0;32m<ipython-input-17-9abb01378c38>\u001b[0m in \u001b[0;36m<module>\u001b[0;34m\u001b[0m\n\u001b[0;32m----> 1\u001b[0;31m \u001b[0minner_join\u001b[0m \u001b[0;34m=\u001b[0m \u001b[0mbusiness_df\u001b[0m\u001b[0;34m.\u001b[0m\u001b[0mjoin\u001b[0m\u001b[0;34m(\u001b[0m\u001b[0mdf\u001b[0m\u001b[0;34m,\u001b[0m \u001b[0mbusiness_df\u001b[0m\u001b[0;34m.\u001b[0m\u001b[0mitemID\u001b[0m \u001b[0;34m==\u001b[0m \u001b[0mdf\u001b[0m\u001b[0;34m.\u001b[0m\u001b[0mbusiness_id\u001b[0m\u001b[0;34m)\u001b[0m\u001b[0;34m\u001b[0m\u001b[0;34m\u001b[0m\u001b[0m\n\u001b[0m",
      "\u001b[0;32m~/opt/anaconda3/lib/python3.7/site-packages/pyspark/sql/dataframe.py\u001b[0m in \u001b[0;36m__getattr__\u001b[0;34m(self, name)\u001b[0m\n\u001b[1;32m   1642\u001b[0m         \u001b[0;32mif\u001b[0m \u001b[0mname\u001b[0m \u001b[0;32mnot\u001b[0m \u001b[0;32min\u001b[0m \u001b[0mself\u001b[0m\u001b[0;34m.\u001b[0m\u001b[0mcolumns\u001b[0m\u001b[0;34m:\u001b[0m\u001b[0;34m\u001b[0m\u001b[0;34m\u001b[0m\u001b[0m\n\u001b[1;32m   1643\u001b[0m             raise AttributeError(\n\u001b[0;32m-> 1644\u001b[0;31m                 \"'%s' object has no attribute '%s'\" % (self.__class__.__name__, name))\n\u001b[0m\u001b[1;32m   1645\u001b[0m         \u001b[0mjc\u001b[0m \u001b[0;34m=\u001b[0m \u001b[0mself\u001b[0m\u001b[0;34m.\u001b[0m\u001b[0m_jdf\u001b[0m\u001b[0;34m.\u001b[0m\u001b[0mapply\u001b[0m\u001b[0;34m(\u001b[0m\u001b[0mname\u001b[0m\u001b[0;34m)\u001b[0m\u001b[0;34m\u001b[0m\u001b[0;34m\u001b[0m\u001b[0m\n\u001b[1;32m   1646\u001b[0m         \u001b[0;32mreturn\u001b[0m \u001b[0mColumn\u001b[0m\u001b[0;34m(\u001b[0m\u001b[0mjc\u001b[0m\u001b[0;34m)\u001b[0m\u001b[0;34m\u001b[0m\u001b[0;34m\u001b[0m\u001b[0m\n",
      "\u001b[0;31mAttributeError\u001b[0m: 'DataFrame' object has no attribute 'business_id'"
     ]
    }
   ],
   "source": [
    "inner_join = business_df.join(df, business_df.itemID == df.business_id)"
   ]
  },
  {
   "cell_type": "code",
   "execution_count": null,
   "metadata": {},
   "outputs": [],
   "source": [
    "inner_join.show()"
   ]
  },
  {
   "cell_type": "code",
   "execution_count": null,
   "metadata": {},
   "outputs": [],
   "source": [
    "inner_join.printSchema()"
   ]
  },
  {
   "cell_type": "code",
   "execution_count": null,
   "metadata": {},
   "outputs": [],
   "source": [
    "select_a = [\"business_id\", \"postal_code\", \"longitude\", \"latitude\", \"name\", \"state\", \"stars\", \"address\", \"city\"]\n",
    "business_df = inner_join.select(select_a)\n",
    "business_df.show()"
   ]
  },
  {
   "cell_type": "code",
   "execution_count": null,
   "metadata": {},
   "outputs": [],
   "source": [
    "business_df.toPandas().to_csv('business_list.csv')"
   ]
  },
  {
   "cell_type": "code",
   "execution_count": null,
   "metadata": {},
   "outputs": [],
   "source": []
  }
 ],
 "metadata": {
  "kernelspec": {
   "display_name": "Python 3",
   "language": "python",
   "name": "python3"
  },
  "language_info": {
   "codemirror_mode": {
    "name": "ipython",
    "version": 3
   },
   "file_extension": ".py",
   "mimetype": "text/x-python",
   "name": "python",
   "nbconvert_exporter": "python",
   "pygments_lexer": "ipython3",
   "version": "3.7.4"
  }
 },
 "nbformat": 4,
 "nbformat_minor": 2
}
