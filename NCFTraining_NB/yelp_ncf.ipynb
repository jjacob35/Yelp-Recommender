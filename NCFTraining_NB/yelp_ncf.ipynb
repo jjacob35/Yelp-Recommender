{
  "nbformat": 4,
  "nbformat_minor": 0,
  "metadata": {
    "colab": {
      "name": "yelp_ncf.ipynb",
      "provenance": [],
      "collapsed_sections": []
    },
    "kernelspec": {
      "name": "python3",
      "display_name": "Python 3"
    },
    "language_info": {
      "name": "python"
    },
    "accelerator": "GPU"
  },
  "cells": [
    {
      "cell_type": "code",
      "metadata": {
        "id": "ek5YlIN6hIMR"
      },
      "source": [
        "import numpy as np\n",
        "import pandas as pd\n",
        "import torch\n",
        "import torch.nn as nn"
      ],
      "execution_count": null,
      "outputs": []
    },
    {
      "cell_type": "code",
      "metadata": {
        "colab": {
          "base_uri": "https://localhost:8080/"
        },
        "id": "_62QbPwP7z8R",
        "outputId": "1027bdd1-0d4c-4b8d-cb95-240b67202ed6"
      },
      "source": [
        "# memory footprint support libraries/code\n",
        "!ln -sf /opt/bin/nvidia-smi /usr/bin/nvidia-smi\n",
        "!pip install gputil\n",
        "!pip install psutil\n",
        "!pip install humanize\n",
        "\n",
        "import psutil\n",
        "import humanize\n",
        "import os\n",
        "import GPUtil as GPU\n",
        "\n",
        "GPUs = GPU.getGPUs()\n",
        "# XXX: only one GPU on Colab and isn’t guaranteed\n",
        "gpu = GPUs[0]\n",
        "def printm():\n",
        "    process = psutil.Process(os.getpid())\n",
        "    print(\"Gen RAM Free: \" + humanize.naturalsize(psutil.virtual_memory().available), \" |     Proc size: \" + humanize.naturalsize(process.memory_info().rss))\n",
        "    print(\"GPU RAM Free: {0:.0f}MB | Used: {1:.0f}MB | Util {2:3.0f}% | Total     {3:.0f}MB\".format(gpu.memoryFree, gpu.memoryUsed, gpu.memoryUtil*100, gpu.memoryTotal))\n",
        "printm()"
      ],
      "execution_count": null,
      "outputs": [
        {
          "output_type": "stream",
          "text": [
            "Requirement already satisfied: gputil in /usr/local/lib/python3.7/dist-packages (1.4.0)\n",
            "Requirement already satisfied: psutil in /usr/local/lib/python3.7/dist-packages (5.4.8)\n",
            "Requirement already satisfied: humanize in /usr/local/lib/python3.7/dist-packages (0.5.1)\n",
            "Gen RAM Free: 12.5 GB  |     Proc size: 271.4 MB\n",
            "GPU RAM Free: 16278MB | Used: 2MB | Util   0% | Total     16280MB\n"
          ],
          "name": "stdout"
        }
      ]
    },
    {
      "cell_type": "code",
      "metadata": {
        "colab": {
          "base_uri": "https://localhost:8080/"
        },
        "id": "zxnv-vUl_ukp",
        "outputId": "b042f618-28a4-44a9-facb-8bba42a2527f"
      },
      "source": [
        "if torch.cuda.is_available():\n",
        "  print(\"We Have CUDA\")\n",
        "else:\n",
        "  print(\"No GPU\")"
      ],
      "execution_count": null,
      "outputs": [
        {
          "output_type": "stream",
          "text": [
            "We Have CUDA\n"
          ],
          "name": "stdout"
        }
      ]
    },
    {
      "cell_type": "code",
      "metadata": {
        "id": "EDGg52RjwoI4",
        "colab": {
          "base_uri": "https://localhost:8080/"
        },
        "outputId": "d1537c9d-fa36-466f-d52f-fabd890aa1c5"
      },
      "source": [
        "# Load Data\n",
        "small_data = pd.read_csv(\"/content/gdrive/MyDrive/6242 Final Project/Datasets for RecSys/yelp_filtnosamp_gt5.csv\")#pd.read_csv(\"yelp_filtnosamp_gt5.csv\")\n",
        "print(len(small_data))\n",
        "small_data = small_data.dropna()\n",
        "print(len(small_data))"
      ],
      "execution_count": null,
      "outputs": [
        {
          "output_type": "stream",
          "text": [
            "5766970\n",
            "5766970\n"
          ],
          "name": "stdout"
        }
      ]
    },
    {
      "cell_type": "code",
      "metadata": {
        "colab": {
          "base_uri": "https://localhost:8080/"
        },
        "id": "e9JI-OfQb9yL",
        "outputId": "ad5bfb9f-f409-4508-b0e7-6e609a4beec5"
      },
      "source": [
        "small_data.loc[small_data['userID'] == \"ak0TdVmGKo4pwqdJSTLwWw\"][\"itemID\"]"
      ],
      "execution_count": null,
      "outputs": [
        {
          "output_type": "execute_result",
          "data": {
            "text/plain": [
              "0    buF9druCkbuXLX526sGELQ\n",
              "1    bNZ3-0rse12NKdSVqQ30xw\n",
              "2    BVsIaKL-8QXVjt0Z9WoFWw\n",
              "3    4MClvr12OXBNvGu8h1yGpA\n",
              "4    2vH58mhkEl8GdcDug1OwWg\n",
              "Name: itemID, dtype: object"
            ]
          },
          "metadata": {
            "tags": []
          },
          "execution_count": 7
        }
      ]
    },
    {
      "cell_type": "code",
      "metadata": {
        "colab": {
          "base_uri": "https://localhost:8080/"
        },
        "id": "DsBECGFsdLdN",
        "outputId": "c4d0a897-4f3f-4345-857f-a540d31fdded"
      },
      "source": [
        "# Load Data\n",
        "name_data = pd.read_csv(\"/content/gdrive/MyDrive/6242 Final Project/Datasets for RecSys/list_of_names.csv\")#pd.read_csv(\"yelp_filtnosamp_gt5.csv\")\n",
        "print(len(name_data))\n",
        "name_data = name_data.dropna()\n",
        "print(len(name_data))"
      ],
      "execution_count": null,
      "outputs": [
        {
          "output_type": "stream",
          "text": [
            "365665\n",
            "365665\n"
          ],
          "name": "stdout"
        }
      ]
    },
    {
      "cell_type": "code",
      "metadata": {
        "colab": {
          "base_uri": "https://localhost:8080/",
          "height": 35
        },
        "id": "_YqRkyVwdUZW",
        "outputId": "2063736c-44a4-4aaa-e075-946823cde43d"
      },
      "source": [
        "list(name_data.loc[name_data['name'] == \"Melanie Brown\"][\"userID\"])[0]"
      ],
      "execution_count": null,
      "outputs": [
        {
          "output_type": "execute_result",
          "data": {
            "application/vnd.google.colaboratory.intrinsic+json": {
              "type": "string"
            },
            "text/plain": [
              "'ghQz_IoBekFp0oKQD01Rog'"
            ]
          },
          "metadata": {
            "tags": []
          },
          "execution_count": 20
        }
      ]
    },
    {
      "cell_type": "code",
      "metadata": {
        "colab": {
          "base_uri": "https://localhost:8080/"
        },
        "id": "UdyyIO16d25J",
        "outputId": "fcabcef9-3f56-42f7-f294-b787a79daa8a"
      },
      "source": [
        "names = [\"Rickey Miller\", \"Melanie Brown\", \"Jack Brown\"]\n",
        "out = [list(name_data.loc[name_data['name'] == name][\"userID\"])[0] for name in names]\n",
        "out"
      ],
      "execution_count": null,
      "outputs": [
        {
          "output_type": "execute_result",
          "data": {
            "text/plain": [
              "['ak0TdVmGKo4pwqdJSTLwWw', 'ghQz_IoBekFp0oKQD01Rog', '7VdbP64ORzZs-rPOARktSA']"
            ]
          },
          "metadata": {
            "tags": []
          },
          "execution_count": 21
        }
      ]
    },
    {
      "cell_type": "code",
      "metadata": {
        "colab": {
          "base_uri": "https://localhost:8080/",
          "height": 204
        },
        "id": "WfKsbPiQAO85",
        "outputId": "0e8058ac-4346-48fa-b114-567afd7af8eb"
      },
      "source": [
        "small_data.head()"
      ],
      "execution_count": null,
      "outputs": [
        {
          "output_type": "execute_result",
          "data": {
            "text/html": [
              "<div>\n",
              "<style scoped>\n",
              "    .dataframe tbody tr th:only-of-type {\n",
              "        vertical-align: middle;\n",
              "    }\n",
              "\n",
              "    .dataframe tbody tr th {\n",
              "        vertical-align: top;\n",
              "    }\n",
              "\n",
              "    .dataframe thead th {\n",
              "        text-align: right;\n",
              "    }\n",
              "</style>\n",
              "<table border=\"1\" class=\"dataframe\">\n",
              "  <thead>\n",
              "    <tr style=\"text-align: right;\">\n",
              "      <th></th>\n",
              "      <th>Unnamed: 0</th>\n",
              "      <th>userID</th>\n",
              "      <th>itemID</th>\n",
              "      <th>rating</th>\n",
              "    </tr>\n",
              "  </thead>\n",
              "  <tbody>\n",
              "    <tr>\n",
              "      <th>0</th>\n",
              "      <td>0</td>\n",
              "      <td>ak0TdVmGKo4pwqdJSTLwWw</td>\n",
              "      <td>buF9druCkbuXLX526sGELQ</td>\n",
              "      <td>4.0</td>\n",
              "    </tr>\n",
              "    <tr>\n",
              "      <th>1</th>\n",
              "      <td>1</td>\n",
              "      <td>ak0TdVmGKo4pwqdJSTLwWw</td>\n",
              "      <td>bNZ3-0rse12NKdSVqQ30xw</td>\n",
              "      <td>4.0</td>\n",
              "    </tr>\n",
              "    <tr>\n",
              "      <th>2</th>\n",
              "      <td>2</td>\n",
              "      <td>ak0TdVmGKo4pwqdJSTLwWw</td>\n",
              "      <td>BVsIaKL-8QXVjt0Z9WoFWw</td>\n",
              "      <td>4.0</td>\n",
              "    </tr>\n",
              "    <tr>\n",
              "      <th>3</th>\n",
              "      <td>3</td>\n",
              "      <td>ak0TdVmGKo4pwqdJSTLwWw</td>\n",
              "      <td>4MClvr12OXBNvGu8h1yGpA</td>\n",
              "      <td>5.0</td>\n",
              "    </tr>\n",
              "    <tr>\n",
              "      <th>4</th>\n",
              "      <td>4</td>\n",
              "      <td>ak0TdVmGKo4pwqdJSTLwWw</td>\n",
              "      <td>2vH58mhkEl8GdcDug1OwWg</td>\n",
              "      <td>5.0</td>\n",
              "    </tr>\n",
              "  </tbody>\n",
              "</table>\n",
              "</div>"
            ],
            "text/plain": [
              "   Unnamed: 0                  userID                  itemID  rating\n",
              "0           0  ak0TdVmGKo4pwqdJSTLwWw  buF9druCkbuXLX526sGELQ     4.0\n",
              "1           1  ak0TdVmGKo4pwqdJSTLwWw  bNZ3-0rse12NKdSVqQ30xw     4.0\n",
              "2           2  ak0TdVmGKo4pwqdJSTLwWw  BVsIaKL-8QXVjt0Z9WoFWw     4.0\n",
              "3           3  ak0TdVmGKo4pwqdJSTLwWw  4MClvr12OXBNvGu8h1yGpA     5.0\n",
              "4           4  ak0TdVmGKo4pwqdJSTLwWw  2vH58mhkEl8GdcDug1OwWg     5.0"
            ]
          },
          "metadata": {
            "tags": []
          },
          "execution_count": 5
        }
      ]
    },
    {
      "cell_type": "code",
      "metadata": {
        "colab": {
          "base_uri": "https://localhost:8080/"
        },
        "id": "LdFcnidvoZN4",
        "outputId": "5da4b8c6-037e-4d11-a484-548f666aa4d1"
      },
      "source": [
        "from google.colab import drive\n",
        "drive.mount('/content/drive')"
      ],
      "execution_count": null,
      "outputs": [
        {
          "output_type": "stream",
          "text": [
            "Drive already mounted at /content/drive; to attempt to forcibly remount, call drive.mount(\"/content/drive\", force_remount=True).\n"
          ],
          "name": "stdout"
        }
      ]
    },
    {
      "cell_type": "code",
      "metadata": {
        "colab": {
          "base_uri": "https://localhost:8080/"
        },
        "id": "Uw_E6IoCUR75",
        "outputId": "b6d65395-2c26-486e-aa90-e0427813de98"
      },
      "source": [
        "small_data[\"userID\"].astype(\"str\")"
      ],
      "execution_count": null,
      "outputs": [
        {
          "output_type": "execute_result",
          "data": {
            "text/plain": [
              "0          ak0TdVmGKo4pwqdJSTLwWw\n",
              "1          ak0TdVmGKo4pwqdJSTLwWw\n",
              "2          ak0TdVmGKo4pwqdJSTLwWw\n",
              "3          ak0TdVmGKo4pwqdJSTLwWw\n",
              "4          ak0TdVmGKo4pwqdJSTLwWw\n",
              "                    ...          \n",
              "5766965    zQx8eofz4u0J3cmc5C5P8g\n",
              "5766966    zQx8eofz4u0J3cmc5C5P8g\n",
              "5766967    zQx8eofz4u0J3cmc5C5P8g\n",
              "5766968    zQx8eofz4u0J3cmc5C5P8g\n",
              "5766969    zQx8eofz4u0J3cmc5C5P8g\n",
              "Name: userID, Length: 5766970, dtype: object"
            ]
          },
          "metadata": {
            "tags": []
          },
          "execution_count": 7
        }
      ]
    },
    {
      "cell_type": "code",
      "metadata": {
        "id": "1KtEZuMuwY2-"
      },
      "source": [
        "# Encode categorical darta (userID and itemID) into indicies, to be fed into torch.nn.Embedding\n",
        "from sklearn.preprocessing import OneHotEncoder, LabelEncoder\n",
        "le = LabelEncoder()\n",
        "le.fit(small_data[\"userID\"])\n",
        "small_data[\"userID_ndx\"] = le.transform(small_data[\"userID\"])\n",
        "\n",
        "le_item = LabelEncoder()\n",
        "le_item.fit(small_data[\"itemID\"].astype(\"str\"))\n",
        "small_data[\"itemID_ndx\"] = le_item.transform(small_data[\"itemID\"].astype(\"str\"))"
      ],
      "execution_count": null,
      "outputs": []
    },
    {
      "cell_type": "code",
      "metadata": {
        "colab": {
          "base_uri": "https://localhost:8080/"
        },
        "id": "dX8siMpX0Dmh",
        "outputId": "31e1ea85-934e-4981-e721-ee7609b048a3"
      },
      "source": [
        "len(le.classes_)"
      ],
      "execution_count": null,
      "outputs": [
        {
          "output_type": "execute_result",
          "data": {
            "text/plain": [
              "365665"
            ]
          },
          "metadata": {
            "tags": []
          },
          "execution_count": 29
        }
      ]
    },
    {
      "cell_type": "code",
      "metadata": {
        "colab": {
          "base_uri": "https://localhost:8080/"
        },
        "id": "VC21qPKL0HjT",
        "outputId": "2feb7861-4fb9-483a-e09f-6590e1c521a2"
      },
      "source": [
        "len(le_item.classes_)"
      ],
      "execution_count": null,
      "outputs": [
        {
          "output_type": "execute_result",
          "data": {
            "text/plain": [
              "159108"
            ]
          },
          "metadata": {
            "tags": []
          },
          "execution_count": 30
        }
      ]
    },
    {
      "cell_type": "code",
      "metadata": {
        "colab": {
          "base_uri": "https://localhost:8080/"
        },
        "id": "InXbLajP0LES",
        "outputId": "0edc8be6-e52e-4f43-ce00-964502dc2800"
      },
      "source": [
        "len(small_data)"
      ],
      "execution_count": null,
      "outputs": [
        {
          "output_type": "execute_result",
          "data": {
            "text/plain": [
              "5766970"
            ]
          },
          "metadata": {
            "tags": []
          },
          "execution_count": 31
        }
      ]
    },
    {
      "cell_type": "code",
      "metadata": {
        "colab": {
          "base_uri": "https://localhost:8080/"
        },
        "id": "aQkceQCxrnCg",
        "outputId": "5c249f20-2f7b-4563-dbed-4e23fc244bbf"
      },
      "source": [
        "from joblib import dump, load\n",
        "dump(le, 'userlabelenc_allData_correct.joblib') \n",
        "dump(le_item, 'itemlabelenc_allData_correct.joblib')"
      ],
      "execution_count": null,
      "outputs": [
        {
          "output_type": "execute_result",
          "data": {
            "text/plain": [
              "['itemlabelenc_allData_correct.joblib']"
            ]
          },
          "metadata": {
            "tags": []
          },
          "execution_count": 32
        }
      ]
    },
    {
      "cell_type": "code",
      "metadata": {
        "colab": {
          "base_uri": "https://localhost:8080/"
        },
        "id": "T2yOQmR-fhDQ",
        "outputId": "087d7020-bb0d-4467-ed72-7ea7ad20d39e"
      },
      "source": [
        "np.min(small_data[\"userID_ndx\"])"
      ],
      "execution_count": null,
      "outputs": [
        {
          "output_type": "execute_result",
          "data": {
            "text/plain": [
              "0"
            ]
          },
          "metadata": {
            "tags": []
          },
          "execution_count": 10
        }
      ]
    },
    {
      "cell_type": "code",
      "metadata": {
        "colab": {
          "base_uri": "https://localhost:8080/",
          "height": 204
        },
        "id": "0wRxr-BZzqhI",
        "outputId": "6df7ad9f-e661-4991-9a49-1de0cfcc6aaa"
      },
      "source": [
        "# Keep only the fields we want\n",
        "small_data = small_data[[\"userID\", \"itemID\", \"rating\", \"userID_ndx\", \"itemID_ndx\"]]\n",
        "small_data.head()"
      ],
      "execution_count": null,
      "outputs": [
        {
          "output_type": "execute_result",
          "data": {
            "text/html": [
              "<div>\n",
              "<style scoped>\n",
              "    .dataframe tbody tr th:only-of-type {\n",
              "        vertical-align: middle;\n",
              "    }\n",
              "\n",
              "    .dataframe tbody tr th {\n",
              "        vertical-align: top;\n",
              "    }\n",
              "\n",
              "    .dataframe thead th {\n",
              "        text-align: right;\n",
              "    }\n",
              "</style>\n",
              "<table border=\"1\" class=\"dataframe\">\n",
              "  <thead>\n",
              "    <tr style=\"text-align: right;\">\n",
              "      <th></th>\n",
              "      <th>userID</th>\n",
              "      <th>itemID</th>\n",
              "      <th>rating</th>\n",
              "      <th>userID_ndx</th>\n",
              "      <th>itemID_ndx</th>\n",
              "    </tr>\n",
              "  </thead>\n",
              "  <tbody>\n",
              "    <tr>\n",
              "      <th>0</th>\n",
              "      <td>ak0TdVmGKo4pwqdJSTLwWw</td>\n",
              "      <td>buF9druCkbuXLX526sGELQ</td>\n",
              "      <td>4.0</td>\n",
              "      <td>221111</td>\n",
              "      <td>99388</td>\n",
              "    </tr>\n",
              "    <tr>\n",
              "      <th>1</th>\n",
              "      <td>ak0TdVmGKo4pwqdJSTLwWw</td>\n",
              "      <td>bNZ3-0rse12NKdSVqQ30xw</td>\n",
              "      <td>4.0</td>\n",
              "      <td>221111</td>\n",
              "      <td>98066</td>\n",
              "    </tr>\n",
              "    <tr>\n",
              "      <th>2</th>\n",
              "      <td>ak0TdVmGKo4pwqdJSTLwWw</td>\n",
              "      <td>BVsIaKL-8QXVjt0Z9WoFWw</td>\n",
              "      <td>4.0</td>\n",
              "      <td>221111</td>\n",
              "      <td>31199</td>\n",
              "    </tr>\n",
              "    <tr>\n",
              "      <th>3</th>\n",
              "      <td>ak0TdVmGKo4pwqdJSTLwWw</td>\n",
              "      <td>4MClvr12OXBNvGu8h1yGpA</td>\n",
              "      <td>5.0</td>\n",
              "      <td>221111</td>\n",
              "      <td>13334</td>\n",
              "    </tr>\n",
              "    <tr>\n",
              "      <th>4</th>\n",
              "      <td>ak0TdVmGKo4pwqdJSTLwWw</td>\n",
              "      <td>2vH58mhkEl8GdcDug1OwWg</td>\n",
              "      <td>5.0</td>\n",
              "      <td>221111</td>\n",
              "      <td>9854</td>\n",
              "    </tr>\n",
              "  </tbody>\n",
              "</table>\n",
              "</div>"
            ],
            "text/plain": [
              "                   userID                  itemID  ...  userID_ndx  itemID_ndx\n",
              "0  ak0TdVmGKo4pwqdJSTLwWw  buF9druCkbuXLX526sGELQ  ...      221111       99388\n",
              "1  ak0TdVmGKo4pwqdJSTLwWw  bNZ3-0rse12NKdSVqQ30xw  ...      221111       98066\n",
              "2  ak0TdVmGKo4pwqdJSTLwWw  BVsIaKL-8QXVjt0Z9WoFWw  ...      221111       31199\n",
              "3  ak0TdVmGKo4pwqdJSTLwWw  4MClvr12OXBNvGu8h1yGpA  ...      221111       13334\n",
              "4  ak0TdVmGKo4pwqdJSTLwWw  2vH58mhkEl8GdcDug1OwWg  ...      221111        9854\n",
              "\n",
              "[5 rows x 5 columns]"
            ]
          },
          "metadata": {
            "tags": []
          },
          "execution_count": 11
        }
      ]
    },
    {
      "cell_type": "code",
      "metadata": {
        "id": "0JysRwBkzt_n"
      },
      "source": [
        "# Test of PyTorch Embeddding Layer\n",
        "# emb = torch.nn.Embedding(len(le.classes_), 64, max_norm=True)\n",
        "# emb_i = torch.nn.Embedding(len(le_item.classes_), 64, max_norm=True)\n",
        "# one_e = emb(torch.tensor(small_data[\"userID_ndx\"]))\n",
        "# two_e = emb(torch.tensor(small_data[\"itemID_ndx\"]))\n",
        "\n",
        "# cat = torch.cat((one_e, two_e), dim=1)"
      ],
      "execution_count": null,
      "outputs": []
    },
    {
      "cell_type": "code",
      "metadata": {
        "id": "7KyWTKXV2c2u"
      },
      "source": [
        "# MODEL PARAMS\n",
        "EMBEDDING_SIZE = 16\n",
        "HIDDEN_SIZE = 64"
      ],
      "execution_count": null,
      "outputs": []
    },
    {
      "cell_type": "code",
      "metadata": {
        "id": "9fMlYE5b0qbp"
      },
      "source": [
        "# Define the Neural Collaborative Filtering Model, based off this paper https://arxiv.org/pdf/1708.05031.pdf\n",
        "\n",
        "# We are learning the embeddings during training, could look into other methods of computing embeddings and then feeding in\n",
        "class NCF(nn.Module):\n",
        "\n",
        "  def __init__(self):\n",
        "    torch.manual_seed(0)\n",
        "    np.random.seed(0)\n",
        "    super(NCF, self).__init__()\n",
        "\n",
        "    self.user_emb = nn.Embedding(len(le.classes_), EMBEDDING_SIZE)\n",
        "    self.item_emb = nn.Embedding(len(le_item.classes_), EMBEDDING_SIZE)\n",
        "    self.fc1 = nn.Linear(EMBEDDING_SIZE * 2, HIDDEN_SIZE)\n",
        "    self.fc2 = nn.Linear(HIDDEN_SIZE, HIDDEN_SIZE)\n",
        "    # self.fc3 = nn.Linear(int(EMBEDDING_SIZE / 2), int(EMBEDDING_SIZE / 4))#nn.Linear(HIDDEN_SIZE, HIDDEN_SIZE)\n",
        "    # self.fc4 = nn.Linear(HIDDEN_SIZE, HIDDEN_SIZE)\n",
        "    self.output = nn.Linear(HIDDEN_SIZE, 1)\n",
        "    self.relu = nn.ReLU()\n",
        "\n",
        "\n",
        "\n",
        "  def forward(self, data_tuple):\n",
        "    userIDs, itemIDs = data_tuple\n",
        "    user_embeddings = self.user_emb(userIDs)\n",
        "    item_embeddings = self.item_emb(itemIDs)\n",
        "    cat = torch.cat((user_embeddings, item_embeddings), dim=1)\n",
        "    h1 = self.relu(self.fc1(cat))\n",
        "    h2 = self.relu(self.fc2(h1))\n",
        "    # h3 = self.relu(self.fc3(h2))\n",
        "    output = self.relu(self.output(h2))\n",
        "    return output\n",
        "\n",
        "def getGroupEmbed(trained_model, groupUserIDs):\n",
        "    rawgroup = trained_model.user_emb(groupUserIDs) # fewusers should be torch Tensor of userID_ndx's\n",
        "    # print(rawgroup.shape)\n",
        "    # print(rawgroup)\n",
        "    groupembed = torch.mean(rawgroup, 0)\n",
        "    groupembed = groupembed.reshape((1,16))\n",
        "\n",
        "    item_embeddings = trained_model.item_emb(anitem) # anitem is a torch Tensor of length 1 with 1 itemNdx\n",
        "    cat = torch.cat((groupembed, item_embeddings), dim=1)\n",
        "\n",
        "    h1 = trained_model.relu(trained_model.fc1(cat))\n",
        "    h2 = trained_model.relu(trained_model.fc2(h1))\n",
        "    output = trained_model.relu(trained_model.output(h2))\n",
        "    return output.detach().cpu().numpy()\n",
        "\n",
        "\n",
        "\n",
        "  "
      ],
      "execution_count": null,
      "outputs": []
    },
    {
      "cell_type": "code",
      "metadata": {
        "colab": {
          "base_uri": "https://localhost:8080/"
        },
        "id": "hoTn4Cwv7DOw",
        "outputId": "d20c107a-eeb4-4f65-f9ec-8baca7ced70e"
      },
      "source": [
        "NCF_model = NCF()\n",
        "print(NCF_model)"
      ],
      "execution_count": null,
      "outputs": [
        {
          "output_type": "stream",
          "text": [
            "NCF(\n",
            "  (user_emb): Embedding(365665, 16)\n",
            "  (item_emb): Embedding(159108, 16)\n",
            "  (fc1): Linear(in_features=32, out_features=64, bias=True)\n",
            "  (fc2): Linear(in_features=64, out_features=64, bias=True)\n",
            "  (output): Linear(in_features=64, out_features=1, bias=True)\n",
            "  (relu): ReLU()\n",
            ")\n"
          ],
          "name": "stdout"
        }
      ]
    },
    {
      "cell_type": "code",
      "metadata": {
        "colab": {
          "base_uri": "https://localhost:8080/",
          "height": 164
        },
        "id": "P7PbvCeqtQBZ",
        "outputId": "a9c44c3c-74ac-4a04-fff3-b5c64736bc9e"
      },
      "source": [
        "getGroupEmbed(NCF_model, fewusers)"
      ],
      "execution_count": null,
      "outputs": [
        {
          "output_type": "error",
          "ename": "NameError",
          "evalue": "ignored",
          "traceback": [
            "\u001b[0;31m---------------------------------------------------------------------------\u001b[0m",
            "\u001b[0;31mNameError\u001b[0m                                 Traceback (most recent call last)",
            "\u001b[0;32m<ipython-input-16-5b59a027c1fa>\u001b[0m in \u001b[0;36m<module>\u001b[0;34m()\u001b[0m\n\u001b[0;32m----> 1\u001b[0;31m \u001b[0mgetGroupEmbed\u001b[0m\u001b[0;34m(\u001b[0m\u001b[0mNCF_model\u001b[0m\u001b[0;34m,\u001b[0m \u001b[0mfewusers\u001b[0m\u001b[0;34m)\u001b[0m\u001b[0;34m\u001b[0m\u001b[0;34m\u001b[0m\u001b[0m\n\u001b[0m",
            "\u001b[0;31mNameError\u001b[0m: name 'fewusers' is not defined"
          ]
        }
      ]
    },
    {
      "cell_type": "code",
      "metadata": {
        "id": "Poh2hQbx7HgF"
      },
      "source": [
        "# Main training loop, takes in X_train, y_train, model, and number of epochs\n",
        "def training_loop(data_df, y_train, model, epochs=200):\n",
        "  torch.manual_seed(0)\n",
        "  np.random.seed(0)\n",
        "  # Use GPU if it's available\n",
        "  if torch.cuda.is_available():\n",
        "    userIDs = torch.LongTensor(data_df[\"userID_ndx\"].values).cuda()\n",
        "    itemIDs = torch.LongTensor(data_df[\"itemID_ndx\"].values).cuda()\n",
        "  else:\n",
        "    userIDs = torch.LongTensor(data_df[\"userID_ndx\"].values)\n",
        "    itemIDs = torch.LongTensor(data_df[\"itemID_ndx\"].values)\n",
        "\n",
        "  gt = torch.FloatTensor(y_train.values)\n",
        "\n",
        "  # Define Loss and Optimizer\n",
        "  criterion= nn.MSELoss()\n",
        "  optimizer = torch.optim.Adam(model.parameters())\n",
        "\n",
        "  for epoch in range(epochs): # Loop over epochs\n",
        "    optimizer.zero_grad()\n",
        "    out = model((userIDs, itemIDs)) # Do Forward Pass\n",
        "    if torch.cuda.is_available():\n",
        "      out = out.cpu()\n",
        "    out = out.flatten() # Get output\n",
        "    loss = criterion(out, gt) # Compute Loss\n",
        "    loss.backward() # Backward Pass\n",
        "    optimizer.step() # Adjust weights\n",
        "    if epoch % 10 == 0: # Print out RMSE every 10th epoch\n",
        "      train_RMSE = np.sqrt(np.sum(np.square((out - gt).detach().numpy())) / len(data_df))\n",
        "      print(\"Train RMSE at Epoch %d: %.4f\" % (epoch, train_RMSE))\n",
        "  return model # Output trained model"
      ],
      "execution_count": null,
      "outputs": []
    },
    {
      "cell_type": "code",
      "metadata": {
        "id": "TyZiA-seK5ff"
      },
      "source": [
        "# Test Loop, very similar to training, except with X_test, y_test. And takes in trained model\n",
        "# Computes predicitons on Test Data and outputs RMSE\n",
        "def test_loop(data_df, y_test, trained_model):\n",
        "  torch.manual_seed(0)\n",
        "  np.random.seed(0)\n",
        "  if torch.cuda.is_available():\n",
        "    userIDs = torch.LongTensor(data_df[\"userID_ndx\"].values).cuda()\n",
        "    itemIDs = torch.LongTensor(data_df[\"itemID_ndx\"].values).cuda()\n",
        "  else:\n",
        "    userIDs = torch.LongTensor(data_df[\"userID_ndx\"].values)\n",
        "    itemIDs = torch.LongTensor(data_df[\"itemID_ndx\"].values)\n",
        "\n",
        "  gt = torch.FloatTensor(y_test.values)\n",
        "\n",
        "  out = trained_model((userIDs, itemIDs))\n",
        "  if torch.cuda.is_available():\n",
        "    out = out.cpu()\n",
        "  out = out.flatten()\n",
        "  test_RMSE = np.sqrt(np.sum(np.square((out - gt).detach().numpy())) / len(data_df))\n",
        "  print(\"Test RMSE: %.4f\" % (test_RMSE))\n",
        "  return test_RMSE"
      ],
      "execution_count": null,
      "outputs": []
    },
    {
      "cell_type": "code",
      "metadata": {
        "id": "D5woWSswF0TU"
      },
      "source": [
        "# Preparing our dataset, 20% of data is test\n",
        "from sklearn.model_selection import train_test_split\n",
        "X = small_data[[\"userID_ndx\", \"itemID_ndx\"]]\n",
        "y = small_data[\"rating\"]\n",
        "X_train, X_test, y_train, y_test = train_test_split(X, y, test_size=0.2, random_state=42)"
      ],
      "execution_count": null,
      "outputs": []
    },
    {
      "cell_type": "code",
      "metadata": {
        "colab": {
          "base_uri": "https://localhost:8080/"
        },
        "id": "aFuaWAm1YY6-",
        "outputId": "2a6a3bfe-b994-4e15-cb72-c4ab51a74c66"
      },
      "source": [
        "torch.LongTensor(X_train[\"userID_ndx\"].values)"
      ],
      "execution_count": null,
      "outputs": [
        {
          "output_type": "execute_result",
          "data": {
            "text/plain": [
              "tensor([ 96315, 293873, 163428,  ..., 180272, 260210,  15307])"
            ]
          },
          "metadata": {
            "tags": []
          },
          "execution_count": 20
        }
      ]
    },
    {
      "cell_type": "code",
      "metadata": {
        "colab": {
          "base_uri": "https://localhost:8080/"
        },
        "id": "1uuE10Tz8eRi",
        "outputId": "aade3053-417f-4e54-c630-f9a7305fd791"
      },
      "source": [
        "# Initialize model and use GPU if available and running training loop\n",
        "# 2 non linear with 64 dimension hidden\n",
        "NCF_model = NCF()\n",
        "if torch.cuda.is_available():\n",
        "  NCF_model = NCF_model.cuda()\n",
        "NCF_model = training_loop(X_train, y_train, NCF_model, 300)"
      ],
      "execution_count": null,
      "outputs": [
        {
          "output_type": "stream",
          "text": [
            "Train RMSE at Epoch 0: 3.9270\n",
            "Train RMSE at Epoch 10: 3.5234\n",
            "Train RMSE at Epoch 20: 3.0607\n",
            "Train RMSE at Epoch 30: 2.4364\n",
            "Train RMSE at Epoch 40: 1.7553\n",
            "Train RMSE at Epoch 50: 1.4818\n",
            "Train RMSE at Epoch 60: 1.4642\n",
            "Train RMSE at Epoch 70: 1.4007\n",
            "Train RMSE at Epoch 80: 1.3902\n",
            "Train RMSE at Epoch 90: 1.3766\n",
            "Train RMSE at Epoch 100: 1.3642\n",
            "Train RMSE at Epoch 110: 1.3540\n",
            "Train RMSE at Epoch 120: 1.3441\n",
            "Train RMSE at Epoch 130: 1.3349\n",
            "Train RMSE at Epoch 140: 1.3261\n",
            "Train RMSE at Epoch 150: 1.3175\n",
            "Train RMSE at Epoch 160: 1.3093\n",
            "Train RMSE at Epoch 170: 1.3013\n",
            "Train RMSE at Epoch 180: 1.2936\n",
            "Train RMSE at Epoch 190: 1.2860\n",
            "Train RMSE at Epoch 200: 1.2787\n",
            "Train RMSE at Epoch 210: 1.2715\n",
            "Train RMSE at Epoch 220: 1.2645\n",
            "Train RMSE at Epoch 230: 1.2577\n",
            "Train RMSE at Epoch 240: 1.2510\n",
            "Train RMSE at Epoch 250: 1.2444\n",
            "Train RMSE at Epoch 260: 1.2380\n",
            "Train RMSE at Epoch 270: 1.2316\n",
            "Train RMSE at Epoch 280: 1.2254\n",
            "Train RMSE at Epoch 290: 1.2193\n"
          ],
          "name": "stdout"
        }
      ]
    },
    {
      "cell_type": "code",
      "metadata": {
        "id": "oh9pvzLPqMp5"
      },
      "source": [
        ""
      ],
      "execution_count": null,
      "outputs": []
    },
    {
      "cell_type": "code",
      "metadata": {
        "colab": {
          "base_uri": "https://localhost:8080/"
        },
        "id": "gNveH3TsZ4Id",
        "outputId": "fe25430f-c548-4368-ed69-ea664e1d9bf2"
      },
      "source": [
        "# fewusers = torch.LongTensor(X_train[\"userID_ndx\"].values[:5]).cuda()\n",
        "fewusers = torch.LongTensor([20546, 63104, 41068, 15604, 15970]).cuda()\n",
        "fewusers"
      ],
      "execution_count": null,
      "outputs": [
        {
          "output_type": "execute_result",
          "data": {
            "text/plain": [
              "tensor([20546, 63104, 41068, 15604, 15970], device='cuda:0')"
            ]
          },
          "metadata": {
            "tags": []
          },
          "execution_count": 25
        }
      ]
    },
    {
      "cell_type": "code",
      "metadata": {
        "colab": {
          "base_uri": "https://localhost:8080/"
        },
        "id": "_7uO0eSsXeD7",
        "outputId": "970edb0f-af3f-40b7-d9b5-cf8d69b6a3e9"
      },
      "source": [
        "fewusers"
      ],
      "execution_count": null,
      "outputs": [
        {
          "output_type": "execute_result",
          "data": {
            "text/plain": [
              "tensor([20546, 63104, 41068, 15604, 15970], device='cuda:0')"
            ]
          },
          "metadata": {
            "tags": []
          },
          "execution_count": 47
        }
      ]
    },
    {
      "cell_type": "code",
      "metadata": {
        "colab": {
          "base_uri": "https://localhost:8080/"
        },
        "id": "fGMoqihZ334x",
        "outputId": "760b20a1-2c95-4496-a5a2-b03179395e28"
      },
      "source": [
        "le.inverse_transform([20546, 63104, 41068, 15604, 15970]).tolist()"
      ],
      "execution_count": null,
      "outputs": [
        {
          "output_type": "execute_result",
          "data": {
            "text/plain": [
              "['BvcPaFl6N8aQWcdak2v_Sg',\n",
              " 'b_-AmmH9I3lvhU7PANjFrw',\n",
              " 'OhOgtmlIWSmikT25wcWBpA',\n",
              " '8q7-9Lv6NTlOLqnm5Yk0hg',\n",
              " '94u9RZbO2AKAGV-sXLjX4w']"
            ]
          },
          "metadata": {
            "tags": []
          },
          "execution_count": 39
        }
      ]
    },
    {
      "cell_type": "code",
      "metadata": {
        "colab": {
          "base_uri": "https://localhost:8080/",
          "height": 35
        },
        "id": "dQy736Kq28S0",
        "outputId": "8cb72749-5065-4338-a1cf-097b36e93dc7"
      },
      "source": [
        "\",\".join(le.inverse_transform([20546, 63104, 41068, 15604, 15970]).tolist())"
      ],
      "execution_count": null,
      "outputs": [
        {
          "output_type": "execute_result",
          "data": {
            "application/vnd.google.colaboratory.intrinsic+json": {
              "type": "string"
            },
            "text/plain": [
              "'BvcPaFl6N8aQWcdak2v_Sg,b_-AmmH9I3lvhU7PANjFrw,OhOgtmlIWSmikT25wcWBpA,8q7-9Lv6NTlOLqnm5Yk0hg,94u9RZbO2AKAGV-sXLjX4w'"
            ]
          },
          "metadata": {
            "tags": []
          },
          "execution_count": 38
        }
      ]
    },
    {
      "cell_type": "code",
      "metadata": {
        "colab": {
          "base_uri": "https://localhost:8080/",
          "height": 35
        },
        "id": "-zPlssIz3l8v",
        "outputId": "d2be5634-408e-44a5-fd1c-83b7327f5b37"
      },
      "source": [
        "\",\".join(le_item.inverse_transform([41882, 4058, 32564]).tolist())"
      ],
      "execution_count": null,
      "outputs": [
        {
          "output_type": "execute_result",
          "data": {
            "application/vnd.google.colaboratory.intrinsic+json": {
              "type": "string"
            },
            "text/plain": [
              "'GthqEQQNDl2z50-uC3obDg,0ja9ouEv_w8FWe1F5KMS4g,Cx8BotgsDzKFpH7zSmykkQ'"
            ]
          },
          "metadata": {
            "tags": []
          },
          "execution_count": 40
        }
      ]
    },
    {
      "cell_type": "code",
      "metadata": {
        "colab": {
          "base_uri": "https://localhost:8080/",
          "height": 35
        },
        "id": "efA63TH45jFj",
        "outputId": "ec1394c5-0b07-4e7f-b601-b0bfb77841f4"
      },
      "source": [
        "le_item.inverse_transform([41882]).item()"
      ],
      "execution_count": null,
      "outputs": [
        {
          "output_type": "execute_result",
          "data": {
            "application/vnd.google.colaboratory.intrinsic+json": {
              "type": "string"
            },
            "text/plain": [
              "'GthqEQQNDl2z50-uC3obDg'"
            ]
          },
          "metadata": {
            "tags": []
          },
          "execution_count": 44
        }
      ]
    },
    {
      "cell_type": "code",
      "metadata": {
        "colab": {
          "base_uri": "https://localhost:8080/"
        },
        "id": "Unu98gWqpHNr",
        "outputId": "164355f0-c3b6-455b-9fea-922769167e73"
      },
      "source": [
        "rawgroup = NCF_model.user_emb(fewusers)\n",
        "print(rawgroup.shape)\n",
        "print(rawgroup)\n",
        "groupembed = torch.mean(rawgroup, 0)\n",
        "groupembed = groupembed.reshape((1,16))"
      ],
      "execution_count": null,
      "outputs": [
        {
          "output_type": "stream",
          "text": [
            "torch.Size([5, 16])\n",
            "tensor([[-0.1359, -1.7267,  0.0988, -0.5761,  0.8728, -0.2803, -0.6304, -0.9812,\n",
            "         -0.7600,  2.1858,  0.0536,  0.1042,  0.7313, -0.7874,  1.1681, -0.0246],\n",
            "        [ 0.7069, -0.1732, -0.3700, -0.9830, -0.5454,  0.5245,  0.3611, -0.0510,\n",
            "          1.4733, -0.3590,  0.0470,  1.0824,  1.5085, -0.3355, -0.2621, -0.4841],\n",
            "        [ 0.4657,  0.0175, -0.6338,  1.0036, -0.6558,  0.4748,  1.0911, -0.5950,\n",
            "          0.4349, -1.1988, -0.8353, -0.8726, -2.0432,  0.2561, -0.6501, -1.0592],\n",
            "        [-0.0365, -0.5758,  0.5444, -2.7797,  0.8415,  0.3826,  0.5561,  0.6474,\n",
            "          0.5197, -0.4897,  0.1441,  2.3153,  1.7026, -1.4898,  0.0815, -1.4824],\n",
            "        [-0.1208, -0.0535, -1.4829, -0.3676, -0.0812,  1.5820, -1.1084, -0.6464,\n",
            "          0.0588, -0.1174,  2.0579, -0.3083, -1.2872,  0.6968,  1.1739,  1.3332]],\n",
            "       device='cuda:0', grad_fn=<EmbeddingBackward>)\n"
          ],
          "name": "stdout"
        }
      ]
    },
    {
      "cell_type": "code",
      "metadata": {
        "colab": {
          "base_uri": "https://localhost:8080/"
        },
        "id": "IeMof0N4qNg6",
        "outputId": "c42cc09e-a0ec-44d7-8a8b-5d4ddbe01d75"
      },
      "source": [
        "groupembed.shape"
      ],
      "execution_count": null,
      "outputs": [
        {
          "output_type": "execute_result",
          "data": {
            "text/plain": [
              "torch.Size([1, 16])"
            ]
          },
          "metadata": {
            "tags": []
          },
          "execution_count": 53
        }
      ]
    },
    {
      "cell_type": "code",
      "metadata": {
        "colab": {
          "base_uri": "https://localhost:8080/"
        },
        "id": "-pRA5_pxqVJZ",
        "outputId": "3ce72604-b877-46b8-be84-9bcf71d72ff0"
      },
      "source": [
        "# anitem = torch.LongTensor(X_train[\"itemID_ndx\"].values[:1]).cuda()\n",
        "anitem = torch.LongTensor([41882]).cuda()\n",
        "anitem"
      ],
      "execution_count": null,
      "outputs": [
        {
          "output_type": "execute_result",
          "data": {
            "text/plain": [
              "tensor([41882], device='cuda:0')"
            ]
          },
          "metadata": {
            "tags": []
          },
          "execution_count": 27
        }
      ]
    },
    {
      "cell_type": "code",
      "metadata": {
        "id": "xISn_6XHpuNC"
      },
      "source": [
        "# CODE TO COMPUTE GROUPEMBEDDING FROM TRAINED MODEL AND THEN GET PREDICITON\n",
        "rawgroup = NCF_model.user_emb(fewusers)\n",
        "print(rawgroup.shape)\n",
        "print(rawgroup)\n",
        "groupembed = torch.mean(rawgroup, 0)\n",
        "groupembed = groupembed.reshape((1,16))\n",
        "\n",
        "item_embeddings = NCF_model.item_emb(anitem)\n",
        "# print(item_embeddings.shape)\n",
        "# print(groupembed.reshape((1,16)).shape)\n",
        "cat = torch.cat((groupembed, item_embeddings), dim=1)\n",
        "# print(cat.shape)\n",
        "h1 = NCF_model.relu(NCF_model.fc1(cat))\n",
        "h2 = NCF_model.relu(NCF_model.fc2(h1))\n",
        "output = NCF_model.relu(NCF_model.output(h2))"
      ],
      "execution_count": null,
      "outputs": []
    },
    {
      "cell_type": "code",
      "metadata": {
        "colab": {
          "base_uri": "https://localhost:8080/"
        },
        "id": "O5C375z5r3P0",
        "outputId": "347f59c6-c314-49ae-fb4c-987b1b598ac7"
      },
      "source": [
        "output"
      ],
      "execution_count": null,
      "outputs": [
        {
          "output_type": "execute_result",
          "data": {
            "text/plain": [
              "tensor([[2.7579]], device='cuda:0', grad_fn=<ReluBackward0>)"
            ]
          },
          "metadata": {
            "tags": []
          },
          "execution_count": 56
        }
      ]
    },
    {
      "cell_type": "code",
      "metadata": {
        "colab": {
          "base_uri": "https://localhost:8080/"
        },
        "id": "3Ryi8U1gZZC1",
        "outputId": "187c1093-11fd-4b7f-8d74-b85e41f5681c"
      },
      "source": [
        "newData = pd.DataFrame([(\"Bob\", \"xGXzsc-hzam-VArK6eTvtw\", 2.0), (\"Bob\", \"2ILe62hVJfiZEOcKxFYKDA\", 5.0), (\"Bob\", \"LQ8rprZFKPuhlj8ndEPb0w\", 1.0), (\"Bob\", \"TLka3vszLhYp2OZtRD6_8g\", 4.0), (\"Bob\", \"Y1-cXsWZ1v2rRj5MMtFsqA\", 3.0)], columns=[\"userID\", \"itemID\", \"rating\"])\n",
        "newX = newData[[\"userID\", \"itemID\"]]\n",
        "newY = newData[\"rating\"]\n",
        "print(newX)\n",
        "print(newY)"
      ],
      "execution_count": null,
      "outputs": [
        {
          "output_type": "stream",
          "text": [
            "  userID                  itemID\n",
            "0    Bob  xGXzsc-hzam-VArK6eTvtw\n",
            "1    Bob  2ILe62hVJfiZEOcKxFYKDA\n",
            "2    Bob  LQ8rprZFKPuhlj8ndEPb0w\n",
            "3    Bob  TLka3vszLhYp2OZtRD6_8g\n",
            "4    Bob  Y1-cXsWZ1v2rRj5MMtFsqA\n",
            "0    2.0\n",
            "1    5.0\n",
            "2    1.0\n",
            "3    4.0\n",
            "4    3.0\n",
            "Name: rating, dtype: float64\n"
          ],
          "name": "stdout"
        }
      ]
    },
    {
      "cell_type": "code",
      "metadata": {
        "colab": {
          "base_uri": "https://localhost:8080/"
        },
        "id": "HDIwCEHGat4C",
        "outputId": "184ced1d-c7e9-41bf-99dc-ec9725fc324e"
      },
      "source": [
        "newusers = small_data[\"userID\"].append(newData[\"userID\"])\n",
        "newusers"
      ],
      "execution_count": null,
      "outputs": [
        {
          "output_type": "execute_result",
          "data": {
            "text/plain": [
              "0    RNm_RWkcd02Li2mKPRe7Eg\n",
              "1    RNm_RWkcd02Li2mKPRe7Eg\n",
              "2    RNm_RWkcd02Li2mKPRe7Eg\n",
              "3    RNm_RWkcd02Li2mKPRe7Eg\n",
              "4    RNm_RWkcd02Li2mKPRe7Eg\n",
              "              ...          \n",
              "0                       Bob\n",
              "1                       Bob\n",
              "2                       Bob\n",
              "3                       Bob\n",
              "4                       Bob\n",
              "Name: userID, Length: 1157472, dtype: object"
            ]
          },
          "metadata": {
            "tags": []
          },
          "execution_count": 42
        }
      ]
    },
    {
      "cell_type": "code",
      "metadata": {
        "id": "NyTkX_6vTsNm"
      },
      "source": [
        ""
      ],
      "execution_count": null,
      "outputs": []
    },
    {
      "cell_type": "code",
      "metadata": {
        "id": "GMz9NEmZb6Wc"
      },
      "source": [
        "newData[\"userID_ndx\"] = np.max(small_data[\"userID_ndx\"]) + 1\n",
        "newData[\"itemID_ndx\"] = np.max(small_data[\"itemID_ndx\"]) "
      ],
      "execution_count": null,
      "outputs": []
    },
    {
      "cell_type": "code",
      "metadata": {
        "colab": {
          "base_uri": "https://localhost:8080/"
        },
        "id": "NyDOUxUlfI0v",
        "outputId": "12a885bd-fad8-4560-8074-37442ca0b248"
      },
      "source": [
        "le.transform([\"RNm_RWkcd02Li2mKPRe7Eg\"])"
      ],
      "execution_count": null,
      "outputs": [
        {
          "output_type": "execute_result",
          "data": {
            "text/plain": [
              "array([32474])"
            ]
          },
          "metadata": {
            "tags": []
          },
          "execution_count": 26
        }
      ]
    },
    {
      "cell_type": "code",
      "metadata": {
        "colab": {
          "base_uri": "https://localhost:8080/",
          "height": 204
        },
        "id": "B9u9YSatcUIz",
        "outputId": "689d338e-6940-42c0-a059-e1c4294d7fff"
      },
      "source": [
        "newData"
      ],
      "execution_count": null,
      "outputs": [
        {
          "output_type": "execute_result",
          "data": {
            "text/html": [
              "<div>\n",
              "<style scoped>\n",
              "    .dataframe tbody tr th:only-of-type {\n",
              "        vertical-align: middle;\n",
              "    }\n",
              "\n",
              "    .dataframe tbody tr th {\n",
              "        vertical-align: top;\n",
              "    }\n",
              "\n",
              "    .dataframe thead th {\n",
              "        text-align: right;\n",
              "    }\n",
              "</style>\n",
              "<table border=\"1\" class=\"dataframe\">\n",
              "  <thead>\n",
              "    <tr style=\"text-align: right;\">\n",
              "      <th></th>\n",
              "      <th>userID</th>\n",
              "      <th>itemID</th>\n",
              "      <th>rating</th>\n",
              "      <th>userID_ndx</th>\n",
              "      <th>itemID_ndx</th>\n",
              "    </tr>\n",
              "  </thead>\n",
              "  <tbody>\n",
              "    <tr>\n",
              "      <th>0</th>\n",
              "      <td>Bob</td>\n",
              "      <td>xGXzsc-hzam-VArK6eTvtw</td>\n",
              "      <td>2.0</td>\n",
              "      <td>73133</td>\n",
              "      <td>129770</td>\n",
              "    </tr>\n",
              "    <tr>\n",
              "      <th>1</th>\n",
              "      <td>Bob</td>\n",
              "      <td>2ILe62hVJfiZEOcKxFYKDA</td>\n",
              "      <td>5.0</td>\n",
              "      <td>73133</td>\n",
              "      <td>129770</td>\n",
              "    </tr>\n",
              "    <tr>\n",
              "      <th>2</th>\n",
              "      <td>Bob</td>\n",
              "      <td>LQ8rprZFKPuhlj8ndEPb0w</td>\n",
              "      <td>1.0</td>\n",
              "      <td>73133</td>\n",
              "      <td>129770</td>\n",
              "    </tr>\n",
              "    <tr>\n",
              "      <th>3</th>\n",
              "      <td>Bob</td>\n",
              "      <td>TLka3vszLhYp2OZtRD6_8g</td>\n",
              "      <td>4.0</td>\n",
              "      <td>73133</td>\n",
              "      <td>129770</td>\n",
              "    </tr>\n",
              "    <tr>\n",
              "      <th>4</th>\n",
              "      <td>Bob</td>\n",
              "      <td>Y1-cXsWZ1v2rRj5MMtFsqA</td>\n",
              "      <td>3.0</td>\n",
              "      <td>73133</td>\n",
              "      <td>129770</td>\n",
              "    </tr>\n",
              "  </tbody>\n",
              "</table>\n",
              "</div>"
            ],
            "text/plain": [
              "  userID                  itemID  rating  userID_ndx  itemID_ndx\n",
              "0    Bob  xGXzsc-hzam-VArK6eTvtw     2.0       73133      129770\n",
              "1    Bob  2ILe62hVJfiZEOcKxFYKDA     5.0       73133      129770\n",
              "2    Bob  LQ8rprZFKPuhlj8ndEPb0w     1.0       73133      129770\n",
              "3    Bob  TLka3vszLhYp2OZtRD6_8g     4.0       73133      129770\n",
              "4    Bob  Y1-cXsWZ1v2rRj5MMtFsqA     3.0       73133      129770"
            ]
          },
          "metadata": {
            "tags": []
          },
          "execution_count": 27
        }
      ]
    },
    {
      "cell_type": "code",
      "metadata": {
        "colab": {
          "base_uri": "https://localhost:8080/"
        },
        "id": "NYkJU4dSckou",
        "outputId": "adbfed8f-3319-4c8a-c34c-0cc2b69d30fd"
      },
      "source": [
        "newX = newData[[\"userID_ndx\", \"itemID_ndx\"]]\n",
        "newY = newData[\"rating\"]\n",
        "print(newX)\n",
        "print(newY)"
      ],
      "execution_count": null,
      "outputs": [
        {
          "output_type": "stream",
          "text": [
            "   userID_ndx  itemID_ndx\n",
            "0       73133      129770\n",
            "1       73133      129770\n",
            "2       73133      129770\n",
            "3       73133      129770\n",
            "4       73133      129770\n",
            "0    2.0\n",
            "1    5.0\n",
            "2    1.0\n",
            "3    4.0\n",
            "4    3.0\n",
            "Name: rating, dtype: float64\n"
          ],
          "name": "stdout"
        }
      ]
    },
    {
      "cell_type": "code",
      "metadata": {
        "colab": {
          "base_uri": "https://localhost:8080/",
          "height": 300
        },
        "id": "8qKwg7BXcwqP",
        "outputId": "9ea25387-1cc6-4257-c644-9ad2a985c19b"
      },
      "source": [
        "# NCF_model = NCF()\n",
        "NCF_model = training_loop(newX, newY, NCF_model,1)"
      ],
      "execution_count": null,
      "outputs": [
        {
          "output_type": "error",
          "ename": "RuntimeError",
          "evalue": "ignored",
          "traceback": [
            "\u001b[0;31m---------------------------------------------------------------------------\u001b[0m",
            "\u001b[0;31mRuntimeError\u001b[0m                              Traceback (most recent call last)",
            "\u001b[0;32m<ipython-input-31-f6f6c5043ee7>\u001b[0m in \u001b[0;36m<module>\u001b[0;34m()\u001b[0m\n\u001b[1;32m      1\u001b[0m \u001b[0;31m# NCF_model = NCF()\u001b[0m\u001b[0;34m\u001b[0m\u001b[0;34m\u001b[0m\u001b[0;34m\u001b[0m\u001b[0m\n\u001b[0;32m----> 2\u001b[0;31m \u001b[0mNCF_model\u001b[0m \u001b[0;34m=\u001b[0m \u001b[0mtraining_loop\u001b[0m\u001b[0;34m(\u001b[0m\u001b[0mnewX\u001b[0m\u001b[0;34m,\u001b[0m \u001b[0mnewY\u001b[0m\u001b[0;34m,\u001b[0m \u001b[0mNCF_model\u001b[0m\u001b[0;34m,\u001b[0m\u001b[0;36m1\u001b[0m\u001b[0;34m)\u001b[0m\u001b[0;34m\u001b[0m\u001b[0;34m\u001b[0m\u001b[0m\n\u001b[0m",
            "\u001b[0;32m<ipython-input-30-75738fd198b1>\u001b[0m in \u001b[0;36mtraining_loop\u001b[0;34m(data_df, y_train, model, epochs)\u001b[0m\n\u001b[1;32m      5\u001b[0m   \u001b[0;31m# Use GPU if it's available\u001b[0m\u001b[0;34m\u001b[0m\u001b[0;34m\u001b[0m\u001b[0;34m\u001b[0m\u001b[0m\n\u001b[1;32m      6\u001b[0m   \u001b[0;32mif\u001b[0m \u001b[0mtorch\u001b[0m\u001b[0;34m.\u001b[0m\u001b[0mcuda\u001b[0m\u001b[0;34m.\u001b[0m\u001b[0mis_available\u001b[0m\u001b[0;34m(\u001b[0m\u001b[0;34m)\u001b[0m\u001b[0;34m:\u001b[0m\u001b[0;34m\u001b[0m\u001b[0;34m\u001b[0m\u001b[0m\n\u001b[0;32m----> 7\u001b[0;31m     \u001b[0muserIDs\u001b[0m \u001b[0;34m=\u001b[0m \u001b[0mtorch\u001b[0m\u001b[0;34m.\u001b[0m\u001b[0mLongTensor\u001b[0m\u001b[0;34m(\u001b[0m\u001b[0mdata_df\u001b[0m\u001b[0;34m[\u001b[0m\u001b[0;34m\"userID_ndx\"\u001b[0m\u001b[0;34m]\u001b[0m\u001b[0;34m.\u001b[0m\u001b[0mvalues\u001b[0m\u001b[0;34m)\u001b[0m\u001b[0;34m.\u001b[0m\u001b[0mcuda\u001b[0m\u001b[0;34m(\u001b[0m\u001b[0;34m)\u001b[0m\u001b[0;34m\u001b[0m\u001b[0;34m\u001b[0m\u001b[0m\n\u001b[0m\u001b[1;32m      8\u001b[0m     \u001b[0mitemIDs\u001b[0m \u001b[0;34m=\u001b[0m \u001b[0mtorch\u001b[0m\u001b[0;34m.\u001b[0m\u001b[0mLongTensor\u001b[0m\u001b[0;34m(\u001b[0m\u001b[0mdata_df\u001b[0m\u001b[0;34m[\u001b[0m\u001b[0;34m\"itemID_ndx\"\u001b[0m\u001b[0;34m]\u001b[0m\u001b[0;34m.\u001b[0m\u001b[0mvalues\u001b[0m\u001b[0;34m)\u001b[0m\u001b[0;34m.\u001b[0m\u001b[0mcuda\u001b[0m\u001b[0;34m(\u001b[0m\u001b[0;34m)\u001b[0m\u001b[0;34m\u001b[0m\u001b[0;34m\u001b[0m\u001b[0m\n\u001b[1;32m      9\u001b[0m   \u001b[0;32melse\u001b[0m\u001b[0;34m:\u001b[0m\u001b[0;34m\u001b[0m\u001b[0;34m\u001b[0m\u001b[0m\n",
            "\u001b[0;31mRuntimeError\u001b[0m: CUDA error: device-side assert triggered"
          ]
        }
      ]
    },
    {
      "cell_type": "code",
      "metadata": {
        "colab": {
          "base_uri": "https://localhost:8080/"
        },
        "id": "soSz3uiVLZo0",
        "outputId": "3fbc0d5a-f43e-47c6-ec8b-3c1eb49b8aa0"
      },
      "source": [
        "# Run Test Loop\n",
        "test_loop(X_test, y_test, NCF_model)"
      ],
      "execution_count": null,
      "outputs": [
        {
          "output_type": "stream",
          "text": [
            "Test RMSE: 1.2777\n"
          ],
          "name": "stdout"
        },
        {
          "output_type": "execute_result",
          "data": {
            "text/plain": [
              "1.2777408755460384"
            ]
          },
          "metadata": {
            "tags": []
          },
          "execution_count": 25
        }
      ]
    },
    {
      "cell_type": "code",
      "metadata": {
        "colab": {
          "base_uri": "https://localhost:8080/"
        },
        "id": "hwcYzzqfV-3R",
        "outputId": "45008891-6a35-4d12-e78a-8fd081224b8c"
      },
      "source": [
        "from google.colab import drive\n",
        "drive.mount('/content/gdrive')"
      ],
      "execution_count": null,
      "outputs": [
        {
          "output_type": "stream",
          "text": [
            "Mounted at /content/gdrive\n"
          ],
          "name": "stdout"
        }
      ]
    },
    {
      "cell_type": "code",
      "metadata": {
        "id": "DFsG1eH7sVob"
      },
      "source": [
        "torch.save(NCF_model.state_dict(), 'ncf_all_statedict_64d300e.pt')"
      ],
      "execution_count": null,
      "outputs": []
    },
    {
      "cell_type": "code",
      "metadata": {
        "id": "Ltbu4LAwVhM0"
      },
      "source": [
        "import dill as dill\n",
        "torch.save(NCF_model, \"./trainedyelprec_allData_64d300e.pt\", pickle_module=dill)"
      ],
      "execution_count": null,
      "outputs": []
    },
    {
      "cell_type": "code",
      "metadata": {
        "colab": {
          "base_uri": "https://localhost:8080/"
        },
        "id": "K-WFU_knVEDR",
        "outputId": "a5e6d03c-8ba1-4355-9567-a086e9974943"
      },
      "source": [
        "NCF_model.eval()"
      ],
      "execution_count": null,
      "outputs": [
        {
          "output_type": "execute_result",
          "data": {
            "text/plain": [
              "NCF(\n",
              "  (user_emb): Embedding(73133, 16)\n",
              "  (item_emb): Embedding(129771, 16)\n",
              "  (fc1): Linear(in_features=32, out_features=128, bias=True)\n",
              "  (fc2): Linear(in_features=128, out_features=128, bias=True)\n",
              "  (output): Linear(in_features=128, out_features=1, bias=True)\n",
              "  (relu): ReLU()\n",
              ")"
            ]
          },
          "metadata": {
            "tags": []
          },
          "execution_count": 43
        }
      ]
    },
    {
      "cell_type": "code",
      "metadata": {
        "id": "Cr02MbE4611Y"
      },
      "source": [
        "enc = OneHotEncoder(handle_unknown='ignore')"
      ],
      "execution_count": null,
      "outputs": []
    },
    {
      "cell_type": "code",
      "metadata": {
        "colab": {
          "base_uri": "https://localhost:8080/"
        },
        "id": "dleFvAY0I1eR",
        "outputId": "4a4b77ef-dd99-43eb-e7aa-0440ba3b8f9e"
      },
      "source": [
        "enc.fit(small_data[[\"userID\"]])"
      ],
      "execution_count": null,
      "outputs": [
        {
          "output_type": "execute_result",
          "data": {
            "text/plain": [
              "OneHotEncoder(categories='auto', drop=None, dtype=<class 'numpy.float64'>,\n",
              "              handle_unknown='ignore', sparse=True)"
            ]
          },
          "metadata": {
            "tags": []
          },
          "execution_count": 24
        }
      ]
    },
    {
      "cell_type": "code",
      "metadata": {
        "colab": {
          "base_uri": "https://localhost:8080/"
        },
        "id": "w01ounPNI32g",
        "outputId": "fbfeb421-caa7-4933-8944-adc432d06ca6"
      },
      "source": [
        "enc.categories_"
      ],
      "execution_count": null,
      "outputs": [
        {
          "output_type": "execute_result",
          "data": {
            "text/plain": [
              "[array(['---2PmXbF47D870stH1jqA', '---7FS-3SMy-cnnIPHcW9w',\n",
              "        '--0DrQkM0FT-yCQRWw82uQ', ..., 'zzzCg-_lpyYE82TlJCdwdw',\n",
              "        'zzz_yXv7Z_JRT3tQmEo5rw', 'zzzcuxFaP_FvdIB-fbP9iA'], dtype=object)]"
            ]
          },
          "metadata": {
            "tags": []
          },
          "execution_count": 25
        }
      ]
    },
    {
      "cell_type": "code",
      "metadata": {
        "colab": {
          "base_uri": "https://localhost:8080/",
          "height": 204
        },
        "id": "rHGDdZUwI58H",
        "outputId": "90156374-d503-4146-f8aa-d1329af29ce6"
      },
      "source": [
        "small_data.head()"
      ],
      "execution_count": null,
      "outputs": [
        {
          "output_type": "execute_result",
          "data": {
            "text/html": [
              "<div>\n",
              "<style scoped>\n",
              "    .dataframe tbody tr th:only-of-type {\n",
              "        vertical-align: middle;\n",
              "    }\n",
              "\n",
              "    .dataframe tbody tr th {\n",
              "        vertical-align: top;\n",
              "    }\n",
              "\n",
              "    .dataframe thead th {\n",
              "        text-align: right;\n",
              "    }\n",
              "</style>\n",
              "<table border=\"1\" class=\"dataframe\">\n",
              "  <thead>\n",
              "    <tr style=\"text-align: right;\">\n",
              "      <th></th>\n",
              "      <th>userID</th>\n",
              "      <th>itemID</th>\n",
              "      <th>rating</th>\n",
              "      <th>userID_ndx</th>\n",
              "      <th>itemID_ndx</th>\n",
              "    </tr>\n",
              "  </thead>\n",
              "  <tbody>\n",
              "    <tr>\n",
              "      <th>0</th>\n",
              "      <td>eC5evKn1TWDyHCyQAwguUw</td>\n",
              "      <td>_sS2LBIGNT5NQb6PD1Vtjw</td>\n",
              "      <td>5.0</td>\n",
              "      <td>269348</td>\n",
              "      <td>64036</td>\n",
              "    </tr>\n",
              "    <tr>\n",
              "      <th>1</th>\n",
              "      <td>SFQ1jcnGguO0LYWnbbftAA</td>\n",
              "      <td>0AzLzHfOJgL7ROwhdww2ew</td>\n",
              "      <td>2.0</td>\n",
              "      <td>186784</td>\n",
              "      <td>1990</td>\n",
              "    </tr>\n",
              "    <tr>\n",
              "      <th>2</th>\n",
              "      <td>SFQ1jcnGguO0LYWnbbftAA</td>\n",
              "      <td>1OweB1FS_Q21b7IyqewGGQ</td>\n",
              "      <td>4.0</td>\n",
              "      <td>186784</td>\n",
              "      <td>4095</td>\n",
              "    </tr>\n",
              "    <tr>\n",
              "      <th>3</th>\n",
              "      <td>SFQ1jcnGguO0LYWnbbftAA</td>\n",
              "      <td>ss9d8bJaPBBFih4KYAC81w</td>\n",
              "      <td>4.0</td>\n",
              "      <td>186784</td>\n",
              "      <td>95732</td>\n",
              "    </tr>\n",
              "    <tr>\n",
              "      <th>4</th>\n",
              "      <td>SFQ1jcnGguO0LYWnbbftAA</td>\n",
              "      <td>3Y2rw1yonra6wEDiLadKhw</td>\n",
              "      <td>2.0</td>\n",
              "      <td>186784</td>\n",
              "      <td>7697</td>\n",
              "    </tr>\n",
              "  </tbody>\n",
              "</table>\n",
              "</div>"
            ],
            "text/plain": [
              "                   userID                  itemID  ...  userID_ndx  itemID_ndx\n",
              "0  eC5evKn1TWDyHCyQAwguUw  _sS2LBIGNT5NQb6PD1Vtjw  ...      269348       64036\n",
              "1  SFQ1jcnGguO0LYWnbbftAA  0AzLzHfOJgL7ROwhdww2ew  ...      186784        1990\n",
              "2  SFQ1jcnGguO0LYWnbbftAA  1OweB1FS_Q21b7IyqewGGQ  ...      186784        4095\n",
              "3  SFQ1jcnGguO0LYWnbbftAA  ss9d8bJaPBBFih4KYAC81w  ...      186784       95732\n",
              "4  SFQ1jcnGguO0LYWnbbftAA  3Y2rw1yonra6wEDiLadKhw  ...      186784        7697\n",
              "\n",
              "[5 rows x 5 columns]"
            ]
          },
          "metadata": {
            "tags": []
          },
          "execution_count": 22
        }
      ]
    },
    {
      "cell_type": "code",
      "metadata": {
        "colab": {
          "base_uri": "https://localhost:8080/"
        },
        "id": "QUHiPlhSI8zc",
        "outputId": "38ab66db-a1ab-416c-cb2b-e851b9e1cdbe"
      },
      "source": [
        "enc.transform([['---2PmXbF47D870stH1jqA']])"
      ],
      "execution_count": null,
      "outputs": [
        {
          "output_type": "execute_result",
          "data": {
            "text/plain": [
              "<1x408198 sparse matrix of type '<class 'numpy.float64'>'\n",
              "\twith 1 stored elements in Compressed Sparse Row format>"
            ]
          },
          "metadata": {
            "tags": []
          },
          "execution_count": 27
        }
      ]
    },
    {
      "cell_type": "code",
      "metadata": {
        "colab": {
          "base_uri": "https://localhost:8080/"
        },
        "id": "qTVUmO-2JRob",
        "outputId": "ebd99213-9215-4490-8f92-e158c943f207"
      },
      "source": [
        "len(small_data)"
      ],
      "execution_count": null,
      "outputs": [
        {
          "output_type": "execute_result",
          "data": {
            "text/plain": [
              "811376"
            ]
          },
          "metadata": {
            "tags": []
          },
          "execution_count": 28
        }
      ]
    },
    {
      "cell_type": "code",
      "metadata": {
        "colab": {
          "base_uri": "https://localhost:8080/"
        },
        "id": "2crYcJMUJgY1",
        "outputId": "6a70e627-4485-4e6c-cdab-3abc72c04a66"
      },
      "source": [
        "len(np.unique(small_data[\"userID\"]))"
      ],
      "execution_count": null,
      "outputs": [
        {
          "output_type": "execute_result",
          "data": {
            "text/plain": [
              "408198"
            ]
          },
          "metadata": {
            "tags": []
          },
          "execution_count": 29
        }
      ]
    },
    {
      "cell_type": "code",
      "metadata": {
        "id": "LEmSq1o-Jk4E"
      },
      "source": [
        "usr = torch.LongTensor([186784]).cuda()\n",
        "item = torch.LongTensor([1990]).cuda()\n"
      ],
      "execution_count": null,
      "outputs": []
    },
    {
      "cell_type": "code",
      "metadata": {
        "colab": {
          "base_uri": "https://localhost:8080/"
        },
        "id": "cPQVG4s1O_j_",
        "outputId": "cc99dbc1-0487-42d1-a5c1-0023c3224774"
      },
      "source": [
        "NCF_model((usr, item))"
      ],
      "execution_count": null,
      "outputs": [
        {
          "output_type": "execute_result",
          "data": {
            "text/plain": [
              "tensor([[2.7993]], device='cuda:0', grad_fn=<ReluBackward0>)"
            ]
          },
          "metadata": {
            "tags": []
          },
          "execution_count": 57
        }
      ]
    },
    {
      "cell_type": "code",
      "metadata": {
        "colab": {
          "base_uri": "https://localhost:8080/"
        },
        "id": "if_bnnAJPe3C",
        "outputId": "2fa1261c-6be7-4f40-ce8e-633d36a5cd00"
      },
      "source": [
        "from collections import Counter\n",
        "Counter(small_data[\"userID\"])"
      ],
      "execution_count": null,
      "outputs": [
        {
          "output_type": "execute_result",
          "data": {
            "text/plain": [
              "Counter({'RNm_RWkcd02Li2mKPRe7Eg': 20,\n",
              "         'hn0ZbitvmlHnF--KJGJ6_A': 26,\n",
              "         'JHXQEayrDHOWGexs0dCviA': 60,\n",
              "         'd01SZKYmReEar7varZB0HQ': 352,\n",
              "         'ffJp-ZN80M4sSkDL8Ra18w': 63,\n",
              "         'SIP1Dfwy1M0HWzdgGg9H9g': 247,\n",
              "         'pRPT3vqhqpU7kHgmKJamvw': 5,\n",
              "         'Df1kUPqooB1FrnwvXi5HsQ': 11,\n",
              "         '_soZ9DRjCF7Op7Us8bxSSA': 19,\n",
              "         'LfyHQWb_kFyxbdNFb8kQGA': 89,\n",
              "         'AyRa2eaaD2EOkSxdkSrNEA': 304,\n",
              "         'u0x3SXagjYDbI2N4sgJ0Tw': 181,\n",
              "         'rC7hTkOfJ91_LPSxk-ABlQ': 35,\n",
              "         'kV7kmmBw_8IPLyI5M6wgTw': 20,\n",
              "         'bUVFpVxZdnFOh2BZzCoLYw': 22,\n",
              "         'YxvuZGAYcJIEQJmgtRCi3g': 34,\n",
              "         'udclAXyUh3kka5uCXT0ITg': 59,\n",
              "         '_zsiwKQoiAK6KiPUho1hFQ': 7,\n",
              "         'pDIZYh9dIWKc2qUHO7j9Ww': 5,\n",
              "         '0DmuCPKJ5l4otcf5ar_sew': 139,\n",
              "         'EfD24GxaAAA4J79PvdxQGQ': 17,\n",
              "         '80MUDP_Ny_J8jeShVxzdlw': 23,\n",
              "         '4ym-LUiVrGQN49_7P_3uow': 5,\n",
              "         'LZLTN6KxDEsJHEOJBgL-EQ': 24,\n",
              "         '0iTlg0tKm2toM139TFYVCg': 19,\n",
              "         'fiJOXfXKnQ-y0DzG_bzbLQ': 28,\n",
              "         'h_kjYBpubAmYVxvNaID7Lw': 6,\n",
              "         'qhEpi8OpUmJpqsH4TedRRw': 81,\n",
              "         '7XiwWIL4VROuwTjaodCNkA': 9,\n",
              "         '5dC0161OAT8jwN-5kpqMfQ': 6,\n",
              "         'vvxUQLV9Hf5arDSsnBVtKQ': 39,\n",
              "         'F13CqIvU-YsrQDSQdKy4DA': 8,\n",
              "         'WXjLI8Jsg_itt_E_iTpm6Q': 7,\n",
              "         'u0XNzzdj7Uyjubxt5u1LbA': 7,\n",
              "         'jZgS4B2ZT7nBYZFSPjYzpA': 9,\n",
              "         'yh5zHnm5rFEqaPaQaBlOPA': 25,\n",
              "         'HqHERaes5k_QlUe5VgAQGw': 49,\n",
              "         'BWUBHgkJLrhQdqJHzbia3A': 8,\n",
              "         'omXy9Q3xZ9LOlD2QMp1ERQ': 19,\n",
              "         'eM9WeAoAgBOebXIMLUOBXQ': 10,\n",
              "         'Hh2tjnqWBYDcGK3YR-_fow': 9,\n",
              "         'MXkZMiDX8oH4d5UhwMSWdw': 39,\n",
              "         'ldu2pDkPro-el8iqoySDfg': 63,\n",
              "         'vThmRnsv15HNyxfGqIRCDA': 27,\n",
              "         'A5vRebZUcqC4DGb5I3oecw': 35,\n",
              "         'cNpOwkw9g4vCUwcLWL4KTg': 234,\n",
              "         'Ln1Jn1pjry-yIRCuFvc2BQ': 13,\n",
              "         'ZuB2N9UOIooj9nPtI3Re5g': 61,\n",
              "         'nb4KX8BKZlhJappaecfEYQ': 10,\n",
              "         'HHEXgBRDdkFSiDu1gDSdKg': 562,\n",
              "         'mD7Jx08b_n44kcDRpcjGwQ': 39,\n",
              "         'CLISa_cfsE09NGNRVMwwWA': 24,\n",
              "         'S5pyIOnroeRuSPzfHfFFlA': 70,\n",
              "         'tI8Lve0J6JPklfUcJveKyQ': 7,\n",
              "         'QSlUBNjrG0PjeRuWc3V9Mw': 47,\n",
              "         'x91WOxbAt2KSsLUILJ9_SQ': 5,\n",
              "         'DExVbzCSJVMWn3GCG7DoFw': 11,\n",
              "         'N__MW1fmn0yhMeNgaqeX5g': 173,\n",
              "         'y6937_Pxtov-xR-VzA6CWw': 237,\n",
              "         '6qe44n5_ldiBc0nUL9421g': 63,\n",
              "         'EZYKWCv66RH9qJ4O3V5xGw': 31,\n",
              "         'NLWMTGWH1B9dtAa_LsDwxQ': 57,\n",
              "         'ly85rv91xu1KdrthEstIQw': 98,\n",
              "         'MqByDEwggmM9FUR8PYw-qg': 5,\n",
              "         'm_8mfiv267e3Bk47Rj1FRA': 41,\n",
              "         'QnIrewrXxFnssw_gG1gF-Q': 319,\n",
              "         'kdmyvC-LOmNfy2pN8gqyWw': 15,\n",
              "         'l8kRJTPOV1BKK-tqjV5SOQ': 10,\n",
              "         'yAA03wBTEnnWI70JHrCZmQ': 7,\n",
              "         'JRoCe_nFqjdkv0PMtya4lg': 89,\n",
              "         'obVpxYVpnHYqHlCxjzfu0A': 59,\n",
              "         'mirqMJI6TrWTUmSsHp0j9A': 9,\n",
              "         'YL4hQcTVu_krhvB9GpFlPA': 44,\n",
              "         '6-J9S8t9e4Bfn9D_fSl-NQ': 7,\n",
              "         '77W-Dh2fRfrM1a1xbVPqTA': 5,\n",
              "         '4gCXQdAi0Rbt4QTLc7Xz9w': 8,\n",
              "         '1PicUTr7UiayFdlqL5YmTA': 5,\n",
              "         'wAKG29FIs4RwwfMvUPijmQ': 13,\n",
              "         '6YooPvlWlbUVauQYhBhiZw': 7,\n",
              "         'VhaWcErH5iE7dU3nZVnn5A': 113,\n",
              "         'GRFuZ1uOhaQeEIZbcjdHOg': 171,\n",
              "         'FWXySGUqMdiIJUJz4xQoyw': 15,\n",
              "         'xTr_EPGC46nfKBkBKjdKfA': 30,\n",
              "         'UA1WE9GOgSwsbs0n6XGo2w': 7,\n",
              "         'JsLfTRRunqdX1MauaDndxg': 7,\n",
              "         'QI7hWZMS0nx1bbXyt_Nssw': 7,\n",
              "         '6RwrK-BZC1cB2_OIYVd4pg': 16,\n",
              "         'VTzLvIJYpg8zuGxV78WZ3g': 124,\n",
              "         'uelWnu8PCxK7Pdpwa0MuTA': 15,\n",
              "         '-IyizU-naqJrSgO6wQjNBA': 15,\n",
              "         'd6hmO-nNdtFoNDBaBK2r4w': 76,\n",
              "         'cVQ4nhVL7aK9ieCC2jIlsg': 32,\n",
              "         'YSEJPJ-jpmO5zpWTMPxfgw': 128,\n",
              "         'nXABAutt2-NLG_ELlpVz9Q': 12,\n",
              "         'z0hu9wUbXjctJYILNd0Yhw': 7,\n",
              "         'hBcycd0fm8c8RzLdtgEQGg': 166,\n",
              "         'p0UbZ13W0IxJUy-hDB_OqA': 163,\n",
              "         'MNwD1kEFhiUY-cmKovXBtA': 68,\n",
              "         'oitNwxn5R93hhEqGEd6KzA': 11,\n",
              "         'JmrZp13UyBro1SiS30Q45Q': 248,\n",
              "         'yWrPJWqeAS_oEQyUZMZIfw': 1018,\n",
              "         '3pLNA7zQTevUVljIlw_fDw': 17,\n",
              "         'pdzNeNgGSO9mO3rc8nWeHw': 19,\n",
              "         'k6sddc99p91Oa0Rtqru2Xg': 17,\n",
              "         'r3MmLh9ucsFF7N8Ui9Enaw': 26,\n",
              "         '71eef6Txk4ZH9IcFFg6BhQ': 130,\n",
              "         'p1rPMa2cTkszq8I6afSi2g': 22,\n",
              "         'T_7gdLtmEvQgNGUoo9Wa4A': 328,\n",
              "         'J3q-onIJaHRHCcyrKRCCfA': 57,\n",
              "         'PB68iiDYsvv59Is_1X-T_A': 275,\n",
              "         '_1_CcPdeQ92AZK6QnTbSuA': 5,\n",
              "         '74uwM7k4vjhOfJfJpE7Kgg': 5,\n",
              "         'LRV3mmDUxWP7jSEdYm7soQ': 29,\n",
              "         'Y-j2svl0M_5-jF1ehYuNPQ': 36,\n",
              "         'R4idbf8eTSFuWwW8gBx6bg': 70,\n",
              "         'imir4IQIWxtvqkbgcF3tfQ': 40,\n",
              "         'r9GkcVAlFzV6qMxtovO5zA': 46,\n",
              "         'IqLOhCR5E7fF8Oq6Ke1DPg': 178,\n",
              "         'IB2tku3MdHLQnRXCKW3baQ': 10,\n",
              "         'GsidS74_I4qDfdYbw3rqjA': 6,\n",
              "         '6wr-fznaNQtKdXW2Weug0g': 44,\n",
              "         'iC5moCagmMEUSWV5jpBAZg': 14,\n",
              "         '4oS70-bPlFqsDpjavKFwxA': 12,\n",
              "         '24gb1QBBEl2xHtVeTzDsCQ': 78,\n",
              "         'w_7VA5j2Pcw7-m4fxmzoQw': 125,\n",
              "         'LeSds4bFEpWZMV0hr4Aqmg': 15,\n",
              "         'xQQwcIy6tjvT3pDxtgMmMg': 162,\n",
              "         'DvmwArmcHkzZpzk9miEVIQ': 10,\n",
              "         'CISNsqJXFJWvfF8RtIMFrg': 11,\n",
              "         'RnsoHTS_4XWuGLMVK8fmpw': 80,\n",
              "         '89-uTje91B98HOtbFCH1Xw': 71,\n",
              "         'ohUKx_zuNr6lcZu5sjDB8A': 16,\n",
              "         'hGbr2usykVHqPuVszje-KQ': 29,\n",
              "         'zpsLFukpUcHJYk0cgc0ZHA': 5,\n",
              "         'aauZ8ORN1Vi520deBRPazw': 6,\n",
              "         'i1aa0QLXswAoLyG7wFIWng': 15,\n",
              "         'rYWocMgtGLTiAWjUbp-e_A': 18,\n",
              "         'LK3NnWGLcnxU2i8PCHFaTA': 48,\n",
              "         'gJNGt9dusI9rocfFXYrMSg': 8,\n",
              "         'SFXQokdTKniGT85F1hHIQQ': 15,\n",
              "         'oQwFLohuwcJYMd0WhCph-Q': 735,\n",
              "         'bIRrQOGC_gVvCCCC0i6YJQ': 76,\n",
              "         'Th5zKR22ARgGXddB_Vs3bw': 27,\n",
              "         'hgek71vAodJoBvYFnICwHg': 22,\n",
              "         'y3VB2OVjrsz_Vm-C7PTpIg': 19,\n",
              "         'Za38s1h9WmDU33-7yj2yYQ': 81,\n",
              "         '8dXZLf8hM4JDIU0Rk3X_Tg': 104,\n",
              "         'WB54KcRLNXZqHayvNc3LyA': 38,\n",
              "         'lbF2onA1UmAMBrF33ebduA': 30,\n",
              "         'lSYuWv8KdZiHYIhFxmviEQ': 46,\n",
              "         'haRtiuep07dWn6l9b6o4DA': 90,\n",
              "         'KOktkRuE6e6Q2Q778hJI9g': 50,\n",
              "         'L2UhrwnnOa1pYqA_RhsQyw': 8,\n",
              "         'qvfIjgF2_u-lmlNen2Rxiw': 112,\n",
              "         'ZwU2-9155fpi2-J_6tIJ5g': 15,\n",
              "         'CUvhxxB2RU17Ct8x9uGT2w': 5,\n",
              "         'yYyqdT6BlZISmMI611bPwg': 83,\n",
              "         'VnzI_O-we1pR7YQ8PD4lZA': 17,\n",
              "         'jSZyj3xT_p6RVcpqu-ozNA': 16,\n",
              "         'DhV9eCi2wh3_8xUaOJ_JdQ': 13,\n",
              "         '3bMuh60jwS2wemSA4k-HHg': 85,\n",
              "         'OB0Y4mOmlsHmaNx0Ll0nNg': 27,\n",
              "         'b95ocqO2toWakqaH2Xb2MQ': 6,\n",
              "         'VqQt9yAmATIZ-AcwYvE00A': 7,\n",
              "         'shWQr-i0mdpiafoc95i9Fw': 302,\n",
              "         'Bfm-WN7J7tf7vtiRJfNmIw': 10,\n",
              "         'fUK_HC03ZX_KiLcduclFMQ': 55,\n",
              "         'Qnb6ZhMBmVmjTCbQfxELmw': 38,\n",
              "         'fE4zOjoAsJcjb5CBbdQywQ': 6,\n",
              "         '93aKjwz-Ztk3IW6USsPVRw': 12,\n",
              "         'a5zhL7ZM-PpMqPv8nIGrmQ': 48,\n",
              "         'Vpk0HVrABRQnHnExJz47Fw': 30,\n",
              "         'IXHPfdR2JlGYPHtzVBAhgA': 11,\n",
              "         'v6Vh6NVgmfzngx4Hs3OEsg': 465,\n",
              "         'KSJmpVpLW_SY3YBfAIfWag': 168,\n",
              "         '4iwFd33bcNpVMGCXSVBl7A': 14,\n",
              "         'q3x249UGWYz0x6FsYg9Zmw': 335,\n",
              "         'oJQ2X-LTB9Wik3nVnbB4-g': 6,\n",
              "         'eMGtdizPqH79M0VQQzIAMw': 14,\n",
              "         'O-wZNKX9zSMj317qxoLAyg': 51,\n",
              "         'ncIR_2Q08i3Da-Uzf9mVuA': 7,\n",
              "         'zqgwN87iJF8bYew42LUdQQ': 18,\n",
              "         'rG-hhvuKy7wpWLDBSgRmmQ': 27,\n",
              "         'KVt6_c-hekDm_u1AJZJzRw': 114,\n",
              "         'a46BLqzUnCnaxr4wDYuD-g': 18,\n",
              "         'jXOXnlixiLrSx6mv6s73Ew': 30,\n",
              "         'vlhWMFM1WNRrQvjcCIYKKQ': 8,\n",
              "         'F6YYu4hRQdIf0F1grhAYrw': 58,\n",
              "         'a4UKZ21rIYToM1peC0ggbQ': 16,\n",
              "         'LfwTv-wuFuKsg5ghMnm7lg': 73,\n",
              "         'd24PAJpUIlmylwYJNSksgw': 14,\n",
              "         'KsaBkgmMxMPcZq_zkSAXBQ': 20,\n",
              "         'LLWfb6h2kZAWn6jgnKN4sQ': 64,\n",
              "         'AR2V1Nl03AI8b4QaEmrSMQ': 9,\n",
              "         'xraevS-47VpR23CeG-PGyQ': 80,\n",
              "         'rYFGqqacKyN1v-nW6MebXw': 49,\n",
              "         'iaOeaN7wNA9dgLDAzBd9uA': 5,\n",
              "         'pWOEnV5Fh9IjqdKJAY2mJw': 10,\n",
              "         'uedCUX3sRu_4wRSCjLSbLQ': 15,\n",
              "         'HouuYM2tyFERq6dvjD6mfg': 6,\n",
              "         'chkf5EknPVrAfTNg8a_rqg': 5,\n",
              "         'e-Xjv_5nha9H92pKhWfXMg': 48,\n",
              "         'mS7g1ZOW_jrBkr2dmeEVHg': 5,\n",
              "         'Rt1l1rCG3agsJBBY6HwolQ': 5,\n",
              "         'Jho-WZ05VCyPyNOIQMkKkw': 444,\n",
              "         '3GxGGcfabW2GeDyBQkQx4w': 31,\n",
              "         '_6Ex9iEVOHAITOw4eamglA': 113,\n",
              "         'C8ncF1iU-lewizVdPpc67A': 28,\n",
              "         'B2Xhtw0CH_JUP15EQ4YNNg': 11,\n",
              "         'vPDECJBpOpcpUIlBL06Xcw': 16,\n",
              "         'PmWUnH1O9Ojuz3pSVc8Y3g': 8,\n",
              "         'Rf-Wf0Cw3VnwD3QZ0IhIvQ': 34,\n",
              "         'mYFPm_8nGWOHzXhUq0VrSA': 7,\n",
              "         '8aGRUUYYBgGINxtoj_aTtA': 8,\n",
              "         'HYocyuD2xz43ie-9iXc33Q': 31,\n",
              "         'NZk4hkgRNik7jbrlCIdtjA': 35,\n",
              "         'oCDLvQRKvqAHoucrUzwdtQ': 24,\n",
              "         'kEJSXIRzr8KQ407iQtrtwA': 30,\n",
              "         '-0DGavcoDjwNU70HGcfRWA': 129,\n",
              "         'ZyR2sW8VLD6DOxw1WGGQUg': 60,\n",
              "         'ZkKLMfiLYiUdVt8H1qEzYQ': 13,\n",
              "         'JOSzr7RnQEdnEk1YDSP19A': 8,\n",
              "         'Vm6E1MQ9aJbOX1XVErXptw': 22,\n",
              "         'jsdIztu9e5jJuQwjp_NqBg': 32,\n",
              "         'YKT1gXDU-GAHzRE5NQJfXQ': 92,\n",
              "         '3-Vpc2BLTsbXWLy5Y_fh9w': 15,\n",
              "         'IAw4S5vemSLn48f4md9LUw': 10,\n",
              "         'h9fGq1-UhxmyqF7iNV_V-g': 71,\n",
              "         'wRU_ogbKgXsP-rgQmB_fuQ': 195,\n",
              "         'dYK4LaWd9WI_w86Q8HZfNQ': 199,\n",
              "         'vn9EScZrl9feg9e0fldKpw': 53,\n",
              "         '2ZAGNRs2kmUk1H2BOW_3OA': 5,\n",
              "         'ZgEGy3g-4zLQc_2JCCl-dw': 83,\n",
              "         '-NHghcp0I53Da7HnNZISKw': 5,\n",
              "         'wHe-OqXMvs6yQDUtKuFbuw': 256,\n",
              "         '1MdiEcm0KWOCyB8ET6Hecg': 30,\n",
              "         'uiFFb7vVblcQnQMclZ6nrA': 9,\n",
              "         'ciBjf-UBgR59BXdJ19d_QQ': 11,\n",
              "         'ksU2qmS288fldkUcL0kRGA': 65,\n",
              "         'udv_gHkFQpRnD7k5yqolUA': 9,\n",
              "         'YmdywTGSqMsAK8-IMdbWzw': 112,\n",
              "         'g-lfe55iYnYG2BbsJyX-zA': 88,\n",
              "         'DVh-6skhZ-31Gc_n-Z7UaA': 31,\n",
              "         '1utl_X0ty77xRUZkc6Mk-g': 19,\n",
              "         'p6nBKyT9Y_pFJ1WxVEowwA': 45,\n",
              "         'rISqZ8mxvkZUZ6FCeHx7vw': 14,\n",
              "         'rgpNXKK_5EO_7S14jY19yw': 77,\n",
              "         'gdIcDvmmd-3LqDSP4nf-pQ': 11,\n",
              "         'K02_UsSvTv_-KOeNHvVfUA': 6,\n",
              "         '0SmjhBp7EC8_9_VB3j-zkQ': 117,\n",
              "         'yOVFRBi1xFuAFHsyzqc_hQ': 59,\n",
              "         'gPaMtw8HQvy3TBGmno8e7w': 5,\n",
              "         'E0tK6j0t9iuSePsZksFXLw': 7,\n",
              "         '35uHDsVOEsWbLdEg8Ttobg': 292,\n",
              "         'qrIQEBSsgEmWed90laNq6g': 13,\n",
              "         'GOqDnlPtXHlpZmULysOxwQ': 8,\n",
              "         'QFHU1yJG3ZMc20niU6ncIQ': 8,\n",
              "         'FSCAqQsMv7w51zUJ_COcuQ': 21,\n",
              "         'pAnq3j5kx1IBSNZqgOFNSg': 47,\n",
              "         'KNA_MeDkwJOEvQKEv5hqow': 31,\n",
              "         'S3v2L43KNkKPNm_IcZ3T7Q': 303,\n",
              "         'RjgT0cDFyHEchTcqePj-_Q': 18,\n",
              "         'QvxwFq5iEXHsArgMbh6h4w': 52,\n",
              "         'u_LBaXlugdLHPdV9JksIgw': 97,\n",
              "         '9Pjr8LmFLBqYsCgFB5QRPw': 58,\n",
              "         'W6B34H0PEPIRNWtNqVY1lA': 9,\n",
              "         'shRTQbFUuWf77zdomymyfQ': 6,\n",
              "         'CZuZgYcV0HoEtXRDXU657g': 87,\n",
              "         'iDhXrGxEeZPkfeXxAaGTeA': 71,\n",
              "         'mAg110EKPbAs0mgFBag9JA': 113,\n",
              "         'i1QBwKUAqd-U5p7tCJdsfw': 50,\n",
              "         'm5hqJHFXl2adeQ2-C1Sltg': 32,\n",
              "         'weWlJhMVYkPe7_7jvwGxZA': 14,\n",
              "         'Kc4sxiCwygidx-HIrJAOpA': 202,\n",
              "         'U27LVhBKwr9jDwkevkvKmQ': 14,\n",
              "         'vetq1iU0JH8tx45g9vIbuw': 10,\n",
              "         '3lRUTLXwhiTT8jWgwTixZw': 5,\n",
              "         'GV449Ko2pe0hUMSjCQlHPQ': 5,\n",
              "         '3M96dQ0Bhi_BXRfa53hO9w': 15,\n",
              "         'PI51J_fKhEfZKhi-MjWBpg': 947,\n",
              "         '_NTm9Xv0gDfafBQxR3uUyQ': 580,\n",
              "         'qyFpnrDblCIC2arJqPJtcg': 51,\n",
              "         'Snhw5pipplczCZO8SthkIA': 176,\n",
              "         'nj2d6vt4TlE-7_OEN0-kGw': 66,\n",
              "         'YkKHi3n_jm_dhXQZU-9nQw': 5,\n",
              "         'KsvSzu7e2BPkABE-JbKMGw': 23,\n",
              "         '9oVtVCTrvH6fUorQCr9feQ': 5,\n",
              "         'r6Z5WIoNWxNKq_PeIp8CdQ': 25,\n",
              "         'Cc66mLDY5F3yyB4CRuK1RA': 136,\n",
              "         'L5vqMBoRIckrmt7-s-hU5Q': 6,\n",
              "         'TiTytHIowFpbsrOsAsRg1A': 9,\n",
              "         'NnGC0kBVpq8rdV7yWnGRkw': 36,\n",
              "         'FZCyz25Rj_l-cpUlWQap0Q': 10,\n",
              "         'Z1dRfFFOU9mdxo66dBfbSQ': 26,\n",
              "         'jO-gfSEvE4tnf_39L6R2lg': 15,\n",
              "         'd3KOnAaqa7W77VPW_aSEaQ': 95,\n",
              "         'RDOKS9DCFHkMhsoT7HTN2A': 7,\n",
              "         'uuj7WsSo1IQr_S1Gh8DHaA': 7,\n",
              "         '42Szf3cSz41nn-vcbtlfXg': 11,\n",
              "         'z1mDhhBgkUHW8nEZGYNSjw': 22,\n",
              "         'UhAq6vmpdx8WwcOXCA0ReA': 19,\n",
              "         'sjJOsKnXxsQodXMr1i8fsg': 18,\n",
              "         'LHpjpLgpxw4Ey5oJAo5Tug': 11,\n",
              "         'ibisDtnz9uNCy2fb0BMBNA': 49,\n",
              "         'ruKI02UFEyBcvow5DXoGRQ': 11,\n",
              "         'h3HX796Y_Xhp2LlnAmpnTw': 7,\n",
              "         'viyAxfYTgaTHLZSTJ5kf4g': 9,\n",
              "         'jTH5nxMl0ri5l8Q3ehVU0g': 14,\n",
              "         'iwvndJ05-Q5KjSsHhjNKOw': 103,\n",
              "         'w3OHJbOaEMygxUcQlzamiQ': 20,\n",
              "         'NXw0bCLF5ZtFMfhcj7CFSw': 104,\n",
              "         'ab3reFeopcOWWDWcnFn2Rg': 118,\n",
              "         'E_qo0H4PRhgSzMVXBEg0hw': 12,\n",
              "         '1Y0zsJSfWLkfDylH0X1yNQ': 789,\n",
              "         'eLBElxiZ-_pnsxfgz6-2HQ': 46,\n",
              "         'WpzYCnRAcQx5CztuUiO_gA': 20,\n",
              "         'KCUN1BCmZMcHuQmzyhSf1g': 11,\n",
              "         'JUci98dAP5FjjolW68Y1Aw': 98,\n",
              "         'i179uR9d_OLLXwPR8KgStA': 21,\n",
              "         'DGsFZgg_L1Skr9dFBrXMGQ': 5,\n",
              "         'PxXBWW0PCVehYG2XrXKO_g': 46,\n",
              "         'ms0D4OZ_CkyVLieVacyiYg': 38,\n",
              "         '78bzAFP-D9Ta6WHXGDV4WA': 12,\n",
              "         '6Id5HWMTV_Q5TZWdf4KwHA': 11,\n",
              "         '09iTre0ib6VWsiq4484zCg': 15,\n",
              "         'TuFsdCB7HzJ4eigRQQYNbw': 41,\n",
              "         '0_vsaRtgZHqT7gwjktrUzQ': 5,\n",
              "         'EjLWE5LTiHCHjMFFVDpSdA': 11,\n",
              "         '8frJvzVcQXp9HBBptJpTHw': 28,\n",
              "         'zIyaptnc4MrfM2BDETxYbQ': 9,\n",
              "         'tK8-gwoNxGLAACUzmLiQOg': 10,\n",
              "         'MOBbDDZ_W1LBHBK4Os_u3A': 21,\n",
              "         'a5akw7Wbk49qtHD9kOWVSw': 32,\n",
              "         'xZK7q65eFVUshMj_4gSJ4g': 19,\n",
              "         'w2JdZFD2MKC3mw99D6Qe9g': 33,\n",
              "         '5D9OQQj1zjBxTaluCDjSCA': 9,\n",
              "         'D6UmdBiekS0Z2mGS9pQRBg': 17,\n",
              "         'HggnGZK76ZA8oBLYRyuXKg': 55,\n",
              "         'mH_dyW8biJMqGUC00s5eyQ': 32,\n",
              "         'f0Chg7DRheNy8EdJFFaMqg': 79,\n",
              "         'a5Va9SqyeQN1hMymoDaDIw': 16,\n",
              "         'w55RiGDIjkLDVKJG17hBgA': 36,\n",
              "         'ITa3vh5ERI90G_WP4SmGUQ': 74,\n",
              "         'UCpKm6NVowHftMd5lxmhcg': 28,\n",
              "         '0nafP1ibFnhmebPLGE6Giw': 30,\n",
              "         'mP66CAi_uxZ1wxrfqN5bxw': 10,\n",
              "         'HXp5MAep-kPxpv_Bx94d2w': 44,\n",
              "         'knXrdQ4H3te7XEWhKIEARQ': 5,\n",
              "         'qvDuJtKsuB7q2ndw7FnMdg': 6,\n",
              "         'GOa-QPGS6sDy_UYpYasNtA': 37,\n",
              "         'eKCbBk3EEkQ7-DjyV7UJPQ': 54,\n",
              "         'Wd7obh4PynIIYruaNNcMeA': 10,\n",
              "         'EDWXmTbW4XC12iH5KOfF0Q': 11,\n",
              "         'gDBTS9vXl2VW1KsK67xTSA': 79,\n",
              "         'iJEx9w0Zt-3yaxb8EaSfdA': 5,\n",
              "         '1fL1QDs1Xe5LTOdeXGtpnw': 623,\n",
              "         'iujuZWqEyCTI41oismgOGQ': 20,\n",
              "         'Ng_ZrHn9bfjuxgmspamVfw': 6,\n",
              "         'rfAlqaqv5D65Ab0TQfuE_g': 104,\n",
              "         'HEV9i_lHSMvrg7oqnykCCA': 374,\n",
              "         '4jRbtVIieuBbSBJWDhP3jw': 84,\n",
              "         'ssuyVNjVDbo5dqh7gRdEYg': 35,\n",
              "         'J86XHDFgCtRSAO_-xg1FUQ': 6,\n",
              "         'Hb_i6bb0ZKld39bV4c_kNA': 5,\n",
              "         'x9Tu88OtnHpD4jZivjQH2w': 49,\n",
              "         'B1Vb0pWaOEPYy4v3fF8LuQ': 26,\n",
              "         'S9OPW5DYY_OYQmeciLfPHw': 98,\n",
              "         'CESIxRplQxxE0ruEXrrVSg': 521,\n",
              "         'Rg29ZBfDI9PCtqG15qUsRQ': 5,\n",
              "         'wtTbeQUlBG81fmoMohpjiw': 8,\n",
              "         '64uBts8ll3-OfXXQl9_pVg': 6,\n",
              "         'usNNgZYg18ucpqhOK9XeJQ': 17,\n",
              "         'xTNOy4myhYM1owi16gC2eA': 46,\n",
              "         '39OICHS-HnwC6gn2Xma9vA': 21,\n",
              "         'eHrx1yVASx8Xha8AX7ysKw': 80,\n",
              "         'jzLykUPNBjaYJoKwqQahxQ': 6,\n",
              "         'XMZKOrLE5b-alqG3We605g': 16,\n",
              "         'u1Bx8EzvS-Z6MKJTWYctHw': 16,\n",
              "         'C7wur6yiTE7WcJ9fRn-18w': 14,\n",
              "         'jxgVHIupFW3JJH6pEr6aQg': 10,\n",
              "         'K-hvr3qqcRlJcwkISgOpOA': 31,\n",
              "         'BcEkORIxNteSc3fU2jZq2w': 16,\n",
              "         'bC6RYxg8ClM8jEfvPSGJAg': 22,\n",
              "         'KE3_mcN1oj0jjv77P1uo6w': 24,\n",
              "         '6ma0naV9VyXvUwFgyLmi_w': 345,\n",
              "         'Jfxcbs91qLy3JjWeJgr6qw': 7,\n",
              "         'vWn_D48yeEbWpX49NVESyg': 5,\n",
              "         'YdenY6zjhjCE41-7bM6Ovw': 51,\n",
              "         'ALpVoayua4CclgPu7xx6EA': 75,\n",
              "         'akKwxVHBlxDOoY4PV6lIPQ': 364,\n",
              "         'zeKm4W2yTzrZzr1IOMDcvw': 117,\n",
              "         'yeop_oaXMyzb3M-65h9H7Q': 28,\n",
              "         '2RKfUSVZBeTJ-_X9bmGmKQ': 181,\n",
              "         'PfoSwQpqhiC7gX4TbQJKdg': 22,\n",
              "         'ishz92vQtNgz68GHqnaGBw': 12,\n",
              "         'H87urrfz4taRWMyi0JhAlQ': 15,\n",
              "         '7vIN9NTYwMPslK9MxNGpZQ': 43,\n",
              "         '3f_9K0qvbP51_jbPs_pL_Q': 53,\n",
              "         'kWXm71KnXQsnUsYMAIbbFQ': 8,\n",
              "         'TrpuFcWKpIQ9tjLAD8i5mg': 6,\n",
              "         'FSSbzKoCcqnCvJv1QG8X6w': 314,\n",
              "         '3mQhUcpcVpjWcEbY0rNOTg': 32,\n",
              "         'NVwgh9AySULnuLNMbJdQlw': 12,\n",
              "         '02UqlWsRNCna_CaF1BrwlQ': 9,\n",
              "         'UcNtg1EsbIAZyqre9OZDkA': 11,\n",
              "         'NRHJZYIm-2na2cniZFeo4g': 9,\n",
              "         'eUIe4JmJv3nX8lKTJlpZaw': 319,\n",
              "         '860dOkivOgWFHVVrXgMLgQ': 33,\n",
              "         'ng0dtz--8RidYO1cDZgxjg': 316,\n",
              "         '9aIljWQB6_AdSCCVCPTMvg': 11,\n",
              "         'd1Qb0ChIzenwExLizhvbRQ': 11,\n",
              "         'YO2m-a-F4X7FTALkoVr_Tg': 16,\n",
              "         'iLmhwitJneH35IIIE_CptQ': 17,\n",
              "         'Pv4-1rGgB3Q_omrz8kGIOA': 12,\n",
              "         'UsS6gNMcIJSc_dD9PHX3TA': 74,\n",
              "         'U4INQZOPSUaj8hMjLlZ3KA': 518,\n",
              "         'myelXd1xfQkQT1gvpxEDiA': 17,\n",
              "         'WjkQEAlG81LrwRwnP0q3yQ': 30,\n",
              "         '0AzqtJY7YKML3_sBJBOPIA': 99,\n",
              "         'DXNaZwb7fSwtNR8Lb6Zp5A': 35,\n",
              "         'Hpn3CAvfGXihtVCvSEyr6g': 6,\n",
              "         '6ASisZJGrKzTTBMX2ScumA': 26,\n",
              "         'o6oj3f_l3Dj2HujG0uPR5A': 19,\n",
              "         'JxUW-CEusuEwE1fO9DfBOg': 82,\n",
              "         'TylOr9YYTV3znqIvH7kdmQ': 46,\n",
              "         'qUYxPCyf-Ofu0CybktNopw': 234,\n",
              "         '7F5oh8d3TXZOGX6f0ob2-A': 43,\n",
              "         'SmDzwOKJJAmXRz_aVRH1Bg': 109,\n",
              "         'NFO6OTzgHkpR2k9xNYs11w': 182,\n",
              "         'Fi6hIZuu0eq8YpaRq-sb0w': 118,\n",
              "         'mf2vSW8eNAbq_981gVJx_g': 72,\n",
              "         'RqOHkhgZPjXQmeEL8PsjXQ': 86,\n",
              "         'pmfAsQw6hLYvGH6qidhxkw': 79,\n",
              "         'X14VpSobe_SZBS7tdaV09g': 40,\n",
              "         'wpOw47sPVkCURh2-Wz-lgA': 82,\n",
              "         'dIzaU4lD0VvQMJNqC7CwOw': 33,\n",
              "         'J79NRVRo999RT_RNHZP3NQ': 50,\n",
              "         'hzecZbbAoHWN-tSeMu7_sA': 28,\n",
              "         'PZWCbLWsPabg1fKF-Ybk0g': 19,\n",
              "         'F6lpBpTVt3QExHd4keHWlw': 34,\n",
              "         'JEcNMXc9hLG4tbtaBJ9yhw': 5,\n",
              "         'de-4DY8kS7MT-VgDMShyzA': 47,\n",
              "         'M2Dq3w7BIqLItMED9XC-iw': 7,\n",
              "         'w3ddwEdDz1o3J85h5KRpKg': 9,\n",
              "         'J5Pb_CUmfJvxIRFOrNkbeg': 55,\n",
              "         'XE-qZgHbBVuwhEl_lY04vQ': 62,\n",
              "         'SBQK5agS1EvnvzWZTBLWWw': 47,\n",
              "         'zoCmtXdUO8Mk9NAYqJCheg': 19,\n",
              "         'ATrLGGcyp01eTCNmVQeh4g': 15,\n",
              "         'DxPJdJeGRicqb2rfJHMf6A': 16,\n",
              "         'NTSzkUx4klnrC1rgl5IpoQ': 57,\n",
              "         'uL-ECTF9PumWkzxHScw-QA': 36,\n",
              "         'dGUOe2TBchiGvU1BNkmTog': 29,\n",
              "         'wjGdDufmVZLukdSG2WAGRQ': 14,\n",
              "         'TgMG5riWMqGlZTspSDh_kA': 34,\n",
              "         'eL8VdX4tyDr5zHWSahbtuQ': 593,\n",
              "         'Ev4hbOdDTpvWVO3M5JPNdQ': 7,\n",
              "         'Wjt4UlpEa3_e9dYTdMsdmA': 15,\n",
              "         '7e0DytChmk4J19vcmtF20g': 17,\n",
              "         'vLpFJ7vIB8h2xm6zDcTggQ': 10,\n",
              "         'rn-S-1xMdOduaLcmk3PuGQ': 6,\n",
              "         'S8Br75zuNUZoJ1zQxaXAvA': 6,\n",
              "         'uBict2gur60yiXgHw4ufBQ': 54,\n",
              "         '5Bi757NEcRJPspHTgbiwWg': 5,\n",
              "         'bP_yim2oJZya_OZF9s4HUw': 292,\n",
              "         'ZDSNhvLnBNpu2ycZfv18Dg': 104,\n",
              "         'GxjJ3GTeO5sVnbZE0cuydw': 19,\n",
              "         '9leRUv4_XFUuGyevKJKA-Q': 447,\n",
              "         '6IJvrFm0X3OTy6HoDWaLpg': 9,\n",
              "         'iYv2IpUjdU2hKkjjASIdww': 67,\n",
              "         'Prh8d6Gu_7SuuPJNCHVAEw': 14,\n",
              "         'xdQFHQJiPZKrqRvdK7YeVg': 49,\n",
              "         'tzZKFm2ryB2cBPSaOreoqw': 187,\n",
              "         'DmBknGmTSXWEfzJ8rrlrzg': 15,\n",
              "         'EhjLextDw74OXA_ImiK6PA': 41,\n",
              "         'Z7hW6JQ8bC_D9etxBy6vQw': 23,\n",
              "         'dySSVuBvJiY8wjT87apVDg': 9,\n",
              "         'mD5PC5VxquYuufqQZBGz4Q': 148,\n",
              "         'blSjTheMk-QrX3ze6PmZJw': 170,\n",
              "         'O_yMcSMh5xVvFBr1BHM-Fw': 22,\n",
              "         'iXxgK--dlAhB9JPqeCg0sA': 22,\n",
              "         'IUbnUSMplX0hNcrq_Z7q5w': 10,\n",
              "         'lMn1eNXnE0o6SdooScuvMg': 44,\n",
              "         'l1c3lbu1BrmHN1r9ajhHPA': 5,\n",
              "         'ZpS-7m1RYAVhQrGuj_t3KA': 9,\n",
              "         'c3N1eHE5CFdlQw7u4Y6DoA': 198,\n",
              "         'yPvzK3uraJNRtkKNMm8luQ': 7,\n",
              "         '6JbJryoAnVXAVdnk7UiVPQ': 20,\n",
              "         'HC-vghWOCC3jgCRofe8CvA': 7,\n",
              "         'e_hNHlNCXAC0CWOiwTbOSA': 8,\n",
              "         'O0GV8gLclDRtbA-lRoVX5g': 7,\n",
              "         'pXAliQo7tjTeLEBJKntUiA': 10,\n",
              "         'tPZQJXYZ6o7EJQQst9a1XQ': 22,\n",
              "         '0sfqDshOdp7oAyoqvZed5Q': 5,\n",
              "         'uEjAlcQO-xYD2Ezn8WjAhw': 10,\n",
              "         'aJOWk8y8YtBwFtjIYjnppA': 7,\n",
              "         'fsR71Dy10p6ifGTC1mi0Bw': 32,\n",
              "         'rHKuWKEcyzNwvpEZkbFWzA': 106,\n",
              "         'DEyoz7eAQii1i8Zht8ZluQ': 15,\n",
              "         'hO1ChaQZs8RHHKDp1eGtdQ': 131,\n",
              "         '1nAB64ytXPuso7F2lupobQ': 6,\n",
              "         'fHS0bQ-l5rHME_xXKQSYXQ': 714,\n",
              "         'HpgDCyQGSR0TzYi00-wLew': 61,\n",
              "         '9qice3yEJNRndmssUnX7hA': 5,\n",
              "         'VlI9ywkMFZKgAovcOrM6fg': 25,\n",
              "         'i5kogOaxLROvrnNPihodBg': 9,\n",
              "         'HmN7p502YMJGkBNv5bzi1w': 12,\n",
              "         'ChrtBzAb_hh2EFc9KSb4DA': 6,\n",
              "         'q228cf0p90QPTfi8q3gnug': 7,\n",
              "         'puS-UzTuKD0xHxO1kKaK6Q': 17,\n",
              "         '_0Fy-RA342PdGvLjsaPmtQ': 89,\n",
              "         '9KPEd4l0S-dlWiXWtthtrA': 19,\n",
              "         'XkFXrDvdscQtImPGwBzdkQ': 10,\n",
              "         'vxAJDedBAU10t23e568m0Q': 8,\n",
              "         'SBlaJCMgs5_z_7TBXMbBBw': 30,\n",
              "         'pjoTgNAVj3pcUKw172R-mg': 9,\n",
              "         'gxIhLmf7e0FJhbEiG68fcQ': 32,\n",
              "         'Sa2TyqxFEBniAvElwT6Gig': 11,\n",
              "         'ndzCYNzxUsqEwAfzLuhhpg': 14,\n",
              "         'cgCe3ffhlwmlCJCjZZB9Rw': 18,\n",
              "         'sJ4AcLoQ8jandXUSmy_RmA': 20,\n",
              "         '53v8FfsPBPtWmz5zmN8FQA': 7,\n",
              "         'Xwnf20FKuikiHcSpcEbpKQ': 3861,\n",
              "         'F4mALOymQnWRpKNfWKDBCQ': 34,\n",
              "         'prQwMnHTjH3hr-Djfq3vMA': 39,\n",
              "         'ms1Yi8zLw3RaFu00WdIoKA': 9,\n",
              "         'VwFXDUw-qeM4g2ULnqrKew': 37,\n",
              "         'AyFgRmyer8eKbBROfpKwsA': 22,\n",
              "         'vY9FdEMCQupD8mtkDQZf6Q': 8,\n",
              "         'MytUEx9FEI3TzfZu8hN6lw': 50,\n",
              "         'w1hOOI-cwxjWFvsy9Th59A': 133,\n",
              "         'j8s3hT8sJbitieBVtIf2Sw': 6,\n",
              "         'CcxFuBuqO6qAgqHAmcW4_g': 56,\n",
              "         'J2NVJTWROYGfYF0qZQN_RQ': 35,\n",
              "         '1HfAhpkJLrP7V6us06eUhQ': 7,\n",
              "         'CRKNLX17sd2oIm7W5JJwfg': 353,\n",
              "         '7aQtdqg_s76c-SJDgSL_UQ': 37,\n",
              "         'ERg6RjCcIS09djm6faRbBQ': 65,\n",
              "         'zZ1-PYoZk_wYJnzd5Dzsrw': 5,\n",
              "         'JLTOlpmxiXmj7O8ONHrQYA': 10,\n",
              "         'I_5kQGKYPvXNijkGuWud3w': 13,\n",
              "         'E-ju9GreDPl98uRcah56-g': 8,\n",
              "         'NK9O0w9dUOXrZZ_VHq3TXQ': 8,\n",
              "         '7Ek7ejFCDZ--q0Vhlry5OA': 22,\n",
              "         'EzTgJzx-zVuMLR-j7OQJBA': 58,\n",
              "         'ewFpj8MKL6NRp_Ow6d5nrA': 374,\n",
              "         'hQdWHH-MbuuJTVXNf2cRmA': 37,\n",
              "         'BDeWD7KooigsY946YPj6UQ': 10,\n",
              "         'wKklrMlHHfJeiEoOK3X_yA': 38,\n",
              "         'KAhNRRNXXJC2Qm17Cj0UsQ': 17,\n",
              "         'vgsl9eAALGQKZXVI0LJGFQ': 61,\n",
              "         'wh5gJvoPYPBto5a3fRonEA': 7,\n",
              "         'ubF5zarbyXJVMTOZrSUFyQ': 24,\n",
              "         'I5Gz8B5z0i9CMjYag3vZUg': 133,\n",
              "         'UO9cIYfV71yMXX3c5bvmxQ': 17,\n",
              "         '9wVqwzKD_pnEH6fE5hBxag': 21,\n",
              "         'aGgNm24n_jpgD52nhbJiHw': 48,\n",
              "         'Ty1Y4oGhKf6-7OjpG_wycw': 160,\n",
              "         'XA5OU6cQ-qH351Fi53MGdg': 328,\n",
              "         'RFufay-gbZDzwk5LOFwjTA': 161,\n",
              "         'Hu2DpgMTHUUQro0UxzZYzA': 5,\n",
              "         'kRkxNFpBPnpQ8R_vpJR0Wg': 124,\n",
              "         'Ybxs4U1wRf_7yRvru6NsRw': 43,\n",
              "         '_ccNLYZ3P4PXQM1xVLIh7g': 83,\n",
              "         'MyE711EqH2s22h2IRqh6wg': 14,\n",
              "         'nIWnfPE6vdIHpvrfzGPjAQ': 19,\n",
              "         'bNPiAiswT-y2prH9JJQLyQ': 47,\n",
              "         'pIyaIJdVa_Kl8vebITpIew': 109,\n",
              "         'rhpKvQVaWw18tj1KE-Xi5w': 43,\n",
              "         '1U1aI2xpC54IoRs3dUq15A': 14,\n",
              "         'DZwWptApUuGpqEpqnliQ9Q': 59,\n",
              "         'D35BCv7ETabpjRr9Cj3Z9w': 9,\n",
              "         '0651OlWC65_tsc35IXtgCw': 47,\n",
              "         'M4tpK07HQ7g9zSV-zYxKmg': 7,\n",
              "         'T15tUJd28qhS9Fj3LyOeMw': 21,\n",
              "         'nQZzkAQ1j2gd3rH56sJn2w': 12,\n",
              "         'bYNgdQi8fBgsvGNhlfmHKw': 12,\n",
              "         'SL4FGCbS3lbA9_iT-ME_1g': 231,\n",
              "         'zTn90jWKmFW65x5U97bCVQ': 96,\n",
              "         '_6up_KUwL5RsuWtK8fQxXg': 540,\n",
              "         'lupZwuwxefX9TGZw8eLuPw': 11,\n",
              "         'MhfluLgr0Lr-MgXSg6H8sA': 10,\n",
              "         'QC2EWdWS_Dm8FdkldOEZfw': 110,\n",
              "         'A0tvYmgENdHvaTuxgQeOcg': 44,\n",
              "         'DQLDpzLaNd2yezpmkw_0Rg': 8,\n",
              "         'Lliu__uADhgigwZb26_bIg': 89,\n",
              "         'NiPmmJ_E-neHIA6Yi5_IiA': 138,\n",
              "         'cx-kUXWTf90AHoPcv25__Q': 10,\n",
              "         'YLtWQH5P3ownCtuva_6HmQ': 223,\n",
              "         'mNKN_MKujVkevU2Nw7FNng': 77,\n",
              "         '2AjuxLanPiLkEflPP7k5BA': 9,\n",
              "         'MpG9ch04qV2VJ9JZjQmf6A': 212,\n",
              "         'vIo3R-4jByyakYxyuhROpQ': 15,\n",
              "         'yb67cyq9EUPein2Z9-eanQ': 97,\n",
              "         'chg6coDBhj6405SuF-c5og': 59,\n",
              "         'fUV4LLX_UvXlLW5_QyY_sA': 26,\n",
              "         '7hZH1WJvlM2VrZMjSVPVcw': 15,\n",
              "         'sR4RnzqJHKFekz8b5GOsFg': 91,\n",
              "         '_uIpDN6BTQLLRoZXpVGKfw': 17,\n",
              "         'Rj0npCu1dn0oV8fhEgxJmQ': 406,\n",
              "         'Tcdv6UP-TWs1Gx9Rs9UiLQ': 23,\n",
              "         'nwuO-ifpsecjxeFPYAFBwg': 500,\n",
              "         '5DgqFoGeikJYuvbKDh3tMg': 58,\n",
              "         'cEPm78nJIayzWxLcvgHbLA': 283,\n",
              "         'TPGzyx8CZJ7X0l4ozzegAg': 176,\n",
              "         'AEl1-c9AzMAPLNkaOmei6g': 31,\n",
              "         'zbhm2W7WnRXoOlx70MN53w': 7,\n",
              "         'aTl0wfgYeE403i1b3uSggA': 173,\n",
              "         'h1D0X2Yu34zPozAHkVO73w': 186,\n",
              "         'fffuACm0fsnOOUPPVbpahw': 25,\n",
              "         'mNtiEG7oRJ-8YSvufnmxAg': 8,\n",
              "         'L-V1SW7viylS6pVoywSWYA': 5,\n",
              "         'RsgictojG7f-yPKJ9oTXHw': 34,\n",
              "         'Fm666s152DhgCoFKb4JswA': 80,\n",
              "         'CAgLPOjaWka_DSU2U6k8SA': 34,\n",
              "         'l7m3sdYSnFqEm9FZtrKxpw': 11,\n",
              "         'A4uWz63mGXhnngIse3Vtcw': 10,\n",
              "         'bqZ8M3xYacY9VOip-cjy9w': 8,\n",
              "         '0OXbTuGdicXLEg19dhRAjA': 40,\n",
              "         'JR49iLXEyS77zkkFQx06Pw': 33,\n",
              "         '6nn-W9ui5oY_LBkYVh3Ndg': 5,\n",
              "         'KHsFihdolO1mOnUaFVsZBg': 12,\n",
              "         'TJABad1djC1K26TlqStzhA': 5,\n",
              "         'EBcoJE0ltpN9ygCrAS19zQ': 30,\n",
              "         '1pQV7eb-QrHW2cgGZV-nNw': 25,\n",
              "         'DAfJVyolo3zpkxGTFpmHrg': 72,\n",
              "         '5tmfMwOEx0TfMTpeAzxsNQ': 115,\n",
              "         'n5eTBGwwy40Jql6YevxqhQ': 39,\n",
              "         'AUgSI1pjmktg5N97yusDNA': 7,\n",
              "         '8tGdhCsNEfftVj1WnmdMYg': 13,\n",
              "         'ro-VDs2ONzhB2hKInYcPWw': 71,\n",
              "         'ZUsvqrR9oPqG0ZcL3v_nLw': 69,\n",
              "         '1PGogNTft5jrvnS1nEmlQQ': 5,\n",
              "         '33s2Uo_SX5zyitIopmHRwg': 23,\n",
              "         'eINA-BrbN9PQkFlgF1zljQ': 60,\n",
              "         '-3wjLKJprSwsz-foPRzBwQ': 41,\n",
              "         'PygoOL_8dfpwzhOnFx90Ag': 181,\n",
              "         'PL7-5pZRbqRoBerdKSsTcg': 11,\n",
              "         'u4-lHCrI0upIhvoFi57Hrw': 85,\n",
              "         '63eFA6t4fu4nWt8OU0tp5w': 9,\n",
              "         '63A0PLfj7n0Bes_MMfxxOQ': 10,\n",
              "         '9eZueKVVs9yQA0oO_VpjJQ': 20,\n",
              "         'Mfw90DFD_RihM_xB1xJ8ZQ': 45,\n",
              "         'a9MX33fs0IWc-o8tDTh7gw': 151,\n",
              "         'zZEmpW-DBWMZWJ93CoAeew': 5,\n",
              "         'pWyw2ayLi3TWglCSrvtWrA': 8,\n",
              "         '6Lea3jjEuVKwfiusdrAAMA': 7,\n",
              "         'qFw1f1bZKgqPu6rPYOe0iw': 5,\n",
              "         'ZXFs2ELk3gdpc_xZEhfodQ': 10,\n",
              "         '0nNkPs8drd8dSA_RSx2hyA': 66,\n",
              "         'Jx8HErJOUOw009nk8DSL5Q': 5,\n",
              "         'il64P3G-9k2-8r0UPgzXCQ': 124,\n",
              "         'OEtrMsuYZsG9A_K_RqKeyg': 40,\n",
              "         'yZEmiAGAeisEs1zENGH09A': 20,\n",
              "         'C3U4rSQoPKoOFJX35pgcsg': 7,\n",
              "         'fUJMAFSA6LY4acd3flouVA': 42,\n",
              "         'mEmqE0UVXrl8dgCl1Pb3jg': 297,\n",
              "         'aPkgWP9yPjyRX2JclPK34w': 14,\n",
              "         '61pzkWulmHEXZKQX3Nf-uA': 28,\n",
              "         'rzq5nqG2NG13o3ISxJSrsQ': 196,\n",
              "         '6rSiJ2BULzQuCyfM4pKE_g': 9,\n",
              "         'g2pjJLw2362ne09i2xjgoQ': 105,\n",
              "         'Gy6W9VtYtsYObtiNe1C4EA': 52,\n",
              "         'oiqhGK5pZAZvzYnrs9LzAg': 6,\n",
              "         'bpVkuDFqhXRbIMQRM93jQQ': 5,\n",
              "         '8YSOoy6vauTKk4Tzx-51FA': 36,\n",
              "         'VXcnz_qhrggnHt4MDUmvkQ': 6,\n",
              "         'EA8GylDs_8kpvbkrRppcgQ': 229,\n",
              "         'ZReopB4rpWPqyB1gwxZxQg': 188,\n",
              "         '6W668N1Yko36pJGvGybXwQ': 15,\n",
              "         '0i19OLI5vhkJ851dBGyNoQ': 59,\n",
              "         'HIZWT0ha5r6C5i9eGdyI9g': 10,\n",
              "         'fMBAcViowGjiD8MAHT_apQ': 158,\n",
              "         'guU9XYmBUBA7MhpknMPg0Q': 340,\n",
              "         'iYlGafNXj-heAYcuq3HQ9w': 38,\n",
              "         'X9IW1h5uXf62XHR3pcV_ow': 11,\n",
              "         'NjTiWQHbr5SFzzAfMP2gxA': 20,\n",
              "         '77lgrc5pkuR4fQZ_zcbidA': 359,\n",
              "         '_4mJoVlQ-D0kMh902OHB9w': 19,\n",
              "         'iKMSuE21axMWGmm2GvRzyw': 8,\n",
              "         'wlPR1M-p7w0YtZwh5Ii-_g': 78,\n",
              "         'LLmat5Ah1keRkTyHg1eGCA': 200,\n",
              "         'C2LrqqSUDPKZW1AlRcqnuQ': 9,\n",
              "         'FSfNuQ6vVuj4tC-y8vckVw': 407,\n",
              "         'ZUhmctBxXtNIkGTwAx5yug': 19,\n",
              "         '06jy3b64khcY8b8eGAtk8Q': 8,\n",
              "         'xO7EjbuU9cVLl7KvVglM8A': 8,\n",
              "         'rplRN4quynbMcRnUm3AHFA': 14,\n",
              "         '15Q8IFHN_hIe5pQ9EvG7TA': 7,\n",
              "         '-knxg3ZwObc77tEKnNdL7Q': 159,\n",
              "         'CjURqyvkC2nPX9WZao_RNA': 5,\n",
              "         'fvy3dgEQDhEsKikN58xz6w': 10,\n",
              "         'XtZjWujJlOgwp1oaYmRLoQ': 60,\n",
              "         '-aFifhjRyPXvJ5CseiQBJw': 11,\n",
              "         'sPdOQDd02b5UWu7YxwNMPA': 23,\n",
              "         'AWQMYP53stGZQPsOembkfg': 18,\n",
              "         '-VAk0uHBahVYswXkQiRzZQ': 20,\n",
              "         'dyxKfXY38yt-RnI0RDizow': 7,\n",
              "         'M_8zPfaPrrrEHbHhOinGFw': 28,\n",
              "         'aZRsfBKgDAOqb2oM5hAw6g': 22,\n",
              "         'tv76PCDj9zHqBI9pNjKbKA': 65,\n",
              "         'iliJdh6QQFDvSmTTiFmisg': 5,\n",
              "         'nFrqozX5l7rbkshwx_h-VA': 27,\n",
              "         '_LCVHgzbchNVIaEQI64skA': 10,\n",
              "         'EypP2G50Cn3m-K6A2CL3ZQ': 6,\n",
              "         'oInNoiunuDYWakwmvDiVVg': 6,\n",
              "         'w51VaBebkNcpKkZQ7lw2lQ': 5,\n",
              "         'A5GZ2N-0I6Q-zgOkSq3HMg': 10,\n",
              "         'yRYhtVxunZKtUOO_UGQs5w': 12,\n",
              "         'hjtfLfEMDyKKmn6fuN7SmQ': 5,\n",
              "         'QfL_02hS4FxE-honvcusfA': 9,\n",
              "         'HEpIIy81y605IBYrd1Vf9g': 25,\n",
              "         'F3SB0Q6W24OK2IPiDTCYnQ': 101,\n",
              "         'nKopyIUMvUOV34MlZrDnmA': 58,\n",
              "         'Qu8fIspDifQaZlEAbUuxGQ': 37,\n",
              "         'OpAfXeNL4kJA59PoUFU7ew': 286,\n",
              "         'QquD6b5kftVDNaYnGf_-fA': 10,\n",
              "         'R0bB_te0gXlCBmaqNRNDMA': 106,\n",
              "         'gHkM4D2AFOZnu1_SCb7iUg': 81,\n",
              "         'sHyi_ONOPf0u9BqFXZ2bPA': 65,\n",
              "         '2GT72uL6nNGfuO0hahz-Wg': 30,\n",
              "         'n_pa0gC0cX9TGZ4NyAECsw': 7,\n",
              "         'kNLfsN8hjtHko18WHRGEZA': 13,\n",
              "         'k_6Are1SgAVz8dLdbYdorg': 21,\n",
              "         '4NWTbGrOvCeSgd6Q4FcA3A': 21,\n",
              "         'GDqpr00p-d5COh2yuLj7eA': 240,\n",
              "         'OPaohpMExqtZ60SklZqr_w': 5,\n",
              "         'A_KpxLkh_cKrNEvAsb1Ilg': 12,\n",
              "         'pmOylH__Y3U15P8ogvSF4A': 33,\n",
              "         '6OpU93by-nsgw_qCFaOFzg': 521,\n",
              "         'jmtFJrWoKV1sNTy-2dLoCw': 12,\n",
              "         '-Mk8851n1WarLCJffzjR1g': 68,\n",
              "         '6NohyUDQXB0w7B-ZSkHQbQ': 14,\n",
              "         '-2sNTzGyci98Mp9PmPRg8w': 351,\n",
              "         'Yc3g0KMp3991QIC4Ot1fxQ': 183,\n",
              "         'zrcZOP9KNgI5fS3875RF8w': 11,\n",
              "         'sX6_8_HNURAVjZjwZWc24w': 7,\n",
              "         'i6V3NyTdkBVwPpH7r2BINA': 137,\n",
              "         'UPyEomp4HzzlSplty5tIPQ': 24,\n",
              "         '_SWLrEsjclhD91Gva710Kw': 45,\n",
              "         'Z_8clYC-IkqrfHcTCjzAiA': 51,\n",
              "         'BPS2WBjXODC2yuflsK-qbQ': 24,\n",
              "         'NsKog8kgIwgdwyNFJWjiDg': 13,\n",
              "         'EvvF-yR4EZ8CXICG3e_Vfg': 36,\n",
              "         'SlGuBIs-OszTpXzig9ColA': 140,\n",
              "         'WEAKuClK0BjhjHWGunMXQA': 8,\n",
              "         'ANJmXU6yONnHioCyrb-1eA': 14,\n",
              "         'bRdSJypkMZKPV7QV_Xo5hw': 5,\n",
              "         '3XX7SPs6KJT5fklTqIWiPw': 29,\n",
              "         'b76FcjQd1RkpnP6I-ajhjw': 25,\n",
              "         '93dHGpGm0BeXP0XolDp-YA': 51,\n",
              "         'ldZICuzYQX54EDkBEhx8ag': 14,\n",
              "         'RQMV-iYNJGH2G1GhAtwqRw': 43,\n",
              "         '3dVTMeVMESION2iyyJcZ-w': 9,\n",
              "         '1w8xuShcbXScDIloTELyYg': 9,\n",
              "         'sphO4xZDhXh0GbWU3WplVw': 14,\n",
              "         '2_sDcUKMy3wRELuKH2EGmg': 43,\n",
              "         'jH28nuWlPc8QChxwyobbXA': 15,\n",
              "         'vshND0mdSqzPQcrUmUivHw': 18,\n",
              "         'RAyBcE0P6ZVpN6HilifPKA': 12,\n",
              "         '0KmETn7aTirgzP0RD5nYEg': 16,\n",
              "         '9e3LZifYx9PiwccDTFyEBQ': 24,\n",
              "         'Wp5P8hJlEnYARKoMXg-Tcg': 10,\n",
              "         'S52jfST6_MWugfUOURDbEg': 38,\n",
              "         'Pe55Jgy-7hRw2l4L0z_FFg': 14,\n",
              "         'hG4WyVB_l1snT5tTFVQrPA': 20,\n",
              "         'giMl3D6KPa6w4aE0ZFtEbw': 54,\n",
              "         'xv_c7lNrZ1Dm76R5lG6B_A': 13,\n",
              "         'zRhl8lDBcoSjhJjL3Vfv_A': 90,\n",
              "         'Fx-tWtaohKY8fzPwtoEWyQ': 5,\n",
              "         'LorWDWiNcCcBxwpqWEJHZg': 6,\n",
              "         'CTglB0Rsb7LP7yY79hjG1g': 29,\n",
              "         'S_kTXumdZptltGdLXE5dGA': 11,\n",
              "         'XhlNxkLI1LjPyMCJrelOEw': 5,\n",
              "         'E--Vjc_mK8vVZsQVkTs5Zg': 266,\n",
              "         'tjrbVV-ss8Ms-Waoh-GXoA': 8,\n",
              "         'u703GXYu_b6AOgK-qvTx9g': 116,\n",
              "         'DgZa1AWNuwdnXGCQ-__o_w': 290,\n",
              "         'IPPBj-9PxETzKlnHy6uU4A': 23,\n",
              "         'um0yOd_QnpGBPwx7EkhQBw': 9,\n",
              "         'jN1IuNRsWSzclgywGE5MGQ': 6,\n",
              "         'vQ0HILbzM3mFKCy50ZdpYw': 12,\n",
              "         'P5WHXoiZlSwLEDfULvkDhQ': 40,\n",
              "         '8UTxwMS-RW8_jgOpjqv-3A': 8,\n",
              "         'q89K0RynmZ2fV9UB9actpg': 76,\n",
              "         '6Uva9RbewrIQ-DzF1LW8Ow': 17,\n",
              "         'aSkeKP_Z_LBKfPLZhUrNcg': 39,\n",
              "         'IvXCsZDCctvkzAarGNUfHg': 6,\n",
              "         'gzcXUUyq006pta7Kb8pGkQ': 7,\n",
              "         'uBL5E5wHQ-Qpofq8-is_Mw': 13,\n",
              "         'XGtEhkGp8tswkfGixCJAxg': 26,\n",
              "         'taxHA68kPP9Qrp44swwAUg': 224,\n",
              "         'EkBbJI24TFj-KBmQo5fyuQ': 12,\n",
              "         'Ngk3BorlpPc0QV_xuo3xvw': 133,\n",
              "         'N649evS6czd6w-D9soyADA': 21,\n",
              "         'oK2wK2COQJg22cMAVYB-Hg': 11,\n",
              "         'VKsuVb7M3hjkAViK-NJlAg': 20,\n",
              "         'UQFE3BT1rsIYrcDvu_XVow': 9,\n",
              "         'NedFeN_sTWuXasJe68_LwQ': 14,\n",
              "         'eQk6L6h_kEOdXtcyrQsIpQ': 79,\n",
              "         'JTwj2uv6y210eO5hhTTvBg': 17,\n",
              "         'NTWXy0ea_kUpwpJFWniPdA': 8,\n",
              "         'MI-YCZxHGdsIhUNpse0EnA': 19,\n",
              "         'CEVJNrIGv8diOMvVGfj8oQ': 12,\n",
              "         'mC9ywGsdxTZ1IlMkjpHQag': 8,\n",
              "         'GfGuOTVeFD9uO09ppbtNMA': 159,\n",
              "         '04VkdC3pVQymKPTNIF70RQ': 24,\n",
              "         'h_B_uk14uylcH5fyiDkWMw': 13,\n",
              "         '4GiN-6VkYq6mFXyfRmppJA': 52,\n",
              "         'Tob9NCsTkLMvKOC72gJu0Q': 74,\n",
              "         'gVMwScaadovmtDJZHgtMHQ': 39,\n",
              "         'WKMdQl6Lonq7hO08fo_msA': 6,\n",
              "         'e7HvquVa89agJUPi5ruRLA': 5,\n",
              "         'NQn4xfxJ_-G5uPr15jQmXA': 55,\n",
              "         'QY3V8cyw4EnFv-lqyqmxzA': 16,\n",
              "         'mpDCL8ZtHh6hbH_JfHPL2w': 56,\n",
              "         '1HM81n6n4iPIFU5d2Lokhw': 103,\n",
              "         'MvKzAUkkqO8gbnJ-ZRGy-w': 8,\n",
              "         'dQXwBg3oGAV8suxKgipaXA': 46,\n",
              "         '5U9u8nPVzrm4vTG2z9l1tA': 7,\n",
              "         'JLf5jn8qNIzNRyTvNJV_XQ': 12,\n",
              "         'zwUSmIhddkLhuO_gfeTSlA': 38,\n",
              "         'RV6DmAi-eqvOwyPzlOeU-A': 8,\n",
              "         'wiPvB6b0vKCAZSL1M_WRTg': 151,\n",
              "         'sSN9QTfQt9SFqL93cMo98Q': 56,\n",
              "         'CM3AhNvt7z1tPSZxqBFGlg': 53,\n",
              "         'F20lJfqrds63mgASqJmJKA': 24,\n",
              "         'G2O-iPKBeTUi-er1gQkcVw': 192,\n",
              "         'FdwbHuSeikG7cEMgCvdLjg': 5,\n",
              "         'pALwkN2dfzx2Ai2r9uFX5A': 303,\n",
              "         '-IQoG8bdizVi-Hm2j_9kJg': 205,\n",
              "         'Hg4jAtvRGKD2cW2Fwq2UrQ': 27,\n",
              "         '3ih9LFFmKB3AUqoewgMC9A': 11,\n",
              "         'fOqNtiDhBczZOy4Mr-Jhag': 22,\n",
              "         'FcPTkinY35kuwW2lhQLweg': 11,\n",
              "         'FYozEz_-TLOivGXyXXZMXQ': 15,\n",
              "         'EMU534PdYml6dLX7NiWA8w': 88,\n",
              "         'TYyjzs83gnu9a-neVVSODA': 128,\n",
              "         'o9eYgBjGV7bR-EGUGCpjLQ': 161,\n",
              "         '9ziunzgUiFoe5l6tkKSmzQ': 133,\n",
              "         'sdnEQY5bhMaDL4835csFpw': 9,\n",
              "         'Cz3NMZu65rG-ZY5rfRKRmQ': 9,\n",
              "         'XdzLrGCijvXOKH6GyLw2og': 25,\n",
              "         'h5WuPiwgaPNm86d_y-dOOg': 44,\n",
              "         'rrJw1dxDidvFS7AgCgBTTQ': 34,\n",
              "         'hTEKSL52x8cUUlHpUEx4lw': 554,\n",
              "         'w4IzkWGbfse7px3eYqz5nw': 45,\n",
              "         '5bmrbRY_hOWPuhXnDOr7-g': 18,\n",
              "         'Isqm4oJftB1ATjTIM14uEA': 49,\n",
              "         '-18pajkRXxh4cW3GC81aUQ': 23,\n",
              "         'qetkmEaB3k1TbOQULJ2NnA': 11,\n",
              "         '6dKmaUWnTmIkfwPyEt0X5w': 13,\n",
              "         'u-0PmHi0M_VpxVDXlCLzZw': 209,\n",
              "         'WGARm5JdXpgTaQhcw3VaFQ': 31,\n",
              "         'h0APR6DLR2cXLmJav7MKRg': 22,\n",
              "         'IlPr2-ZNaEU0AXrvZsxpDw': 6,\n",
              "         'E1qdpVDEJNYgjA3ngBzEog': 16,\n",
              "         'i42abtuuFQ6PPnGb11Ei7A': 128,\n",
              "         'y2N4K2_d9-4LLUQ_nK3xIg': 71,\n",
              "         'SIwKWkr8ErqiMrrxkp4QeA': 5,\n",
              "         '8KD04ydiVkT3I2kuG3JF6w': 46,\n",
              "         '7R2LfCibUNA-IUTs9SP8_A': 228,\n",
              "         '8B2g8RwFyUnCPEj26s21Dw': 48,\n",
              "         'gjZp61JZaqcLrKjEDVSPIQ': 38,\n",
              "         'rQrqrb5dFztAeFYwyqbygA': 105,\n",
              "         'VqOQ5gnNKvwI4X1TSY0U0w': 5,\n",
              "         'k_VCPQY2RiXi7_gnIMqRJg': 71,\n",
              "         'SduWqMurmi0wOUNPvbDLqA': 13,\n",
              "         'VatcQtdb5tlz4D-N6y8e7A': 481,\n",
              "         '6zgpTSCQI4a2axdxqEakQw': 7,\n",
              "         'ek1OcTQObdL_Rpuf7vnM3g': 9,\n",
              "         'XQrNEY0AolFFb8Jg0-SdTg': 5,\n",
              "         '8bSFDZYYMT4gOprHFIBZKQ': 6,\n",
              "         'GDbbNNr1B_B6ktuHwv8Yyw': 45,\n",
              "         'evNB0h6LrVTCuIYvDz9h5w': 89,\n",
              "         '4j-ox1tcgeZIJhKSgSSD9A': 34,\n",
              "         'nosEAl3lWNdXaHfk0x1K_g': 144,\n",
              "         '5Ka4tbExZU-5NdX_KRYz1g': 37,\n",
              "         'r8dD2DJz7_FuJ4peG8uFrw': 75,\n",
              "         'fJDzODXteWvsNfcBuyn0BQ': 31,\n",
              "         'UU5A0-97tne5usi7fcjeiw': 22,\n",
              "         '5slJ7s0ZeozjHV-TML8TDA': 16,\n",
              "         'h6ZnKfP2_nPZzPILiDTY6A': 5,\n",
              "         'n_tig8CtZBrHIMwELscbRQ': 14,\n",
              "         'WAyYDJKFMzlTTnKxq-8asg': 174,\n",
              "         '84xMt5QhmiSCWnxtMufleQ': 136,\n",
              "         'g4k-MW6iOjeBStkpfhiVng': 10,\n",
              "         'vYNmPJIfn1HhrCxGC62MDQ': 31,\n",
              "         'abmi_atJx-viGrq5tzadvg': 10,\n",
              "         '6LSvtAr0LX5memf1R6LaGw': 32,\n",
              "         'a2zcVpTckjYgQf-vByWZUw': 22,\n",
              "         '9OreoZMQ4cd_K4s-fiGUmw': 62,\n",
              "         'sOMo-pwhvqbn6dzxbwcs1w': 8,\n",
              "         'lP5eaQ50ph32qcEAJy6PRg': 16,\n",
              "         '9p8QaZz5ET8pKUcLSG7VfQ': 160,\n",
              "         'TN6be-GFL6WLtfIsVepGnA': 47,\n",
              "         'Krs1FYiMA0bFqDHO16V8eQ': 57,\n",
              "         'aHz1uUu-uWHCx0B0cXg_lg': 9,\n",
              "         'YgqlRh2BYOdVFerO0a8AuA': 6,\n",
              "         'Nzaq0bJcE3q_bRdFrsFRsA': 13,\n",
              "         'EjySwCPIr2GiSsorwpHpiA': 61,\n",
              "         '3ydBaSe8txd29HsLTxtUjw': 13,\n",
              "         'gXZRTJE6EHcbplMrdBvpQA': 81,\n",
              "         'KAo3hKRkU40HC_L9_Cw_vg': 5,\n",
              "         'LChHjB-MN27GdqcojvX9rg': 7,\n",
              "         'a93LiFc3fuA_e7TPjv2zBg': 9,\n",
              "         '2vX5EYVP5BlC6-qHrgnTJQ': 9,\n",
              "         'Fae_znodNFsEH1HQFz4OiQ': 86,\n",
              "         'FSFwFA394rExGO4xj057lA': 21,\n",
              "         'o4HFY39QmkYyoDsdl1bdnQ': 190,\n",
              "         '5P7dyinp9rcLNqxafvZGjA': 83,\n",
              "         'd_SCA4qvpcVXorlwe4ZdGw': 786,\n",
              "         'og4MN7v405a4p9IgqHbBZw': 177,\n",
              "         'VcO4VetvGGS443sAgbrHCA': 64,\n",
              "         'cM_EGPWVfwhCE54YFy_1AQ': 7,\n",
              "         'MSbNzOfSVAfa4XgppUwgCQ': 355,\n",
              "         'lE9xPiKmxlDYhVe4hirIRw': 36,\n",
              "         'Cj6QtaD-BlHiMs37XYQvXQ': 28,\n",
              "         'OyblcM-WVHVbDjBOE073vg': 8,\n",
              "         'GhaD_R8fq2IayWeCN3ifAw': 31,\n",
              "         'kdCSaUxvEiBorvcg-j3SvQ': 8,\n",
              "         'Dxri0K9Xl_kaJzvBTJjD-A': 7,\n",
              "         'mBJAT1TooMplf8IYrzuopg': 7,\n",
              "         'PpP6-F0k4TQzC7I77ZbpJw': 310,\n",
              "         'epwQX2f0cUT6xd8DoAVvRQ': 6,\n",
              "         'fceFkA7RxeLoi4N3gGYt1Q': 31,\n",
              "         'Q1QJZnFFkb43-CyAp1CZug': 18,\n",
              "         'tD2pxwzdLlxL96_f0T7nBg': 30,\n",
              "         'q_QQ5kBBwlCcbL1s4NVK3g': 17,\n",
              "         'D06Q3ZkpafoBe-LW6SJVyQ': 16,\n",
              "         'lBCcIbDB5Qti2aWpBOSapg': 32,\n",
              "         'gVzrdkrL4qrD_Gb2UAkU1w': 14,\n",
              "         'KalJGEOHdseo83AlXWDWOA': 25,\n",
              "         'Y9UksiTNjLQWoa9JEiBK9g': 93,\n",
              "         'C1bm69bWdLNu0UXV98o3-g': 8,\n",
              "         'CYRPmFdEchfRt3otLSudmQ': 120,\n",
              "         'XmURQA94N-AnKTmbnXHG3Q': 75,\n",
              "         'A4NQOMjxpOAe0AXALYSwuw': 7,\n",
              "         '_dFK7svxIgSqUFBmXJJcxQ': 37,\n",
              "         '-LB8s9XlcjwQeECy8Xor0Q': 29,\n",
              "         'UGk5LGvtX2n3-V43Te4IkQ': 29,\n",
              "         'B8jaR_ClL8hy1LwB41T_gA': 21,\n",
              "         'VfDhCv1QXwWqcQgjLX5sBA': 130,\n",
              "         'jyAOSro_PWLzLOf5H-wMBQ': 20,\n",
              "         '_3KZcY3apoAwH_9wTXp4OQ': 24,\n",
              "         'ZQV0YH7oIgeoMbhv8kFaCw': 31,\n",
              "         'EayEkwSGH_--Ebm98qZuKQ': 11,\n",
              "         '7G7X0lICvt2aTTDVT7K2HQ': 11,\n",
              "         '3skAinDgPWrJLCDjooUe2g': 15,\n",
              "         '6DY09PxYxFy4gZT_9NlIcg': 22,\n",
              "         'oRp-x8evqSk545lP4HRlJA': 60,\n",
              "         'G9AKKY45du1ueFGravf1eA': 8,\n",
              "         'UuvLtwaEKKGSEToMqxiG1Q': 94,\n",
              "         'Bb6kSNcd_lvpLTljsRAAGg': 11,\n",
              "         'q5OwcziJl94ljyvtFCq1eg': 16,\n",
              "         'd41rmkDQoSgytlY5b7d4_A': 8,\n",
              "         'L-gZxD5HydzaflNXXwq5ig': 283,\n",
              "         'kN5XJlorruFYpKbaguWuzA': 19,\n",
              "         '4rlHorcT02T5BWNyDeJb_w': 5,\n",
              "         'qSCNud4Y0Ld-KmAVVLVtWg': 12,\n",
              "         '_yu1VaEr0e99_cfyF3-DQQ': 31,\n",
              "         'iFTfNjFGB2i7KBHR2VjxWA': 8,\n",
              "         'F_M-s3YRGrQ8bcVeaVGYsg': 8,\n",
              "         'V9NgcGP4aCvKiArhtTij4Q': 51,\n",
              "         'Fp5ORVnXCYAvIhmydRYekw': 12,\n",
              "         'LwauGFQpVVGmBo_UBivRww': 16,\n",
              "         'J9mTwl4sh0HT_KeS-bd2YA': 11,\n",
              "         'MRCa87pOXGnvqmyB3RnISw': 250,\n",
              "         'dIQm-fWJHQ6hKsUUU7GllA': 65,\n",
              "         'JPWp6XoIe4VoX7M8ItCC0Q': 8,\n",
              "         'neSkJMZPi_Uww9VR76sQSQ': 6,\n",
              "         'KAcwiRjA9IeoDjVjrkY5nQ': 31,\n",
              "         'LSGRJ7zaYgPohKA8RIAXTQ': 126,\n",
              "         '75gCT4ZdQhozznTyL29pFQ': 8,\n",
              "         'JBIzd6vuaxhH0Hz8_6tDhQ': 15,\n",
              "         'j7V-2gwFjXxFm3LFZPm8yA': 5,\n",
              "         '638zpXDe7XnK4knZxN7jtg': 92,\n",
              "         'gamfMMlFgwnfj6BLCANNhA': 41,\n",
              "         'CwL21ARHLweKzFbKKolrFQ': 30,\n",
              "         'oTSJM52D1vgCoYS1IlIbqw': 212,\n",
              "         'LwQzI7XykYB2iUkYcXPEcQ': 155,\n",
              "         'dhnHpPx0UxFAR2zBvz78XQ': 14,\n",
              "         'Mhom46j4xnD6pIJEayulMA': 7,\n",
              "         'Wfb0Mh7Tfo6JKzXmHg43rA': 26,\n",
              "         'kpBEb05gMT80M6M7PV3Y_w': 88,\n",
              "         'MxRG1KIbgAQZfzEoJ0GxhA': 12,\n",
              "         'dp0iMGpqL7f-dbYwdCbSdA': 103,\n",
              "         'FboeBJQ7r6Y7b3kh41pWtQ': 12,\n",
              "         'rfsmFBt1ocyKZL2F8FWMIQ': 7,\n",
              "         '8_zsgKif1ZnRwVz8eKx7hA': 22,\n",
              "         'rm-1INz6tJD8538jqC0_9w': 77,\n",
              "         'jg2XfSVverTC3rnSPKz_pw': 65,\n",
              "         '-qdacCe8bdqo6Rj2Fq_Dkg': 14,\n",
              "         'q01uw-QmWoHEWDvxXtCFTw': 11,\n",
              "         'zDkfei4w7N7sWyODh3RepQ': 169,\n",
              "         'ehVot1ztv26jiQpHbIC-7g': 13,\n",
              "         'pDkBL15YQ-2i05wkmTeqmA': 101,\n",
              "         'YbPL5xIJes5jViy6-PJD8Q': 5,\n",
              "         'uDzFZ9nm1i9Y7ZBL0xzENg': 19,\n",
              "         '1QFR7NsZltAXYLL1vZpW5w': 135,\n",
              "         ...})"
            ]
          },
          "metadata": {
            "tags": []
          },
          "execution_count": 91
        }
      ]
    },
    {
      "cell_type": "code",
      "metadata": {
        "id": "lt3HIilcUuql"
      },
      "source": [
        "#Cold case functions\n",
        "def cold_rating(items, user):\n",
        "  out = []\n",
        "  for i in items:\n",
        "    #display restaurant name based on item input get_details() in main api\n",
        "    #get the rating of the user based on a dropdown (for now outputting random numbers)\n",
        "    out.append(np.random.randint(1, 6))\n",
        "  return out\n",
        "\n",
        "def new_user():\n",
        "  # set for now, need input from user\n",
        "  return \"bob\""
      ],
      "execution_count": null,
      "outputs": []
    },
    {
      "cell_type": "code",
      "metadata": {
        "id": "37MOHdLJguBg"
      },
      "source": [
        "#Cold start\n",
        "trial = small_data\n",
        "\n",
        "#get the most popular items and their ndx values, make sure they're in a list as a string\n",
        "most_rated = small_data['itemID'].value_counts()[:10].index.tolist()\n",
        "top_itemndx = le_item.transform(most_rated).tolist()\n",
        "\n",
        "new_userID = new_user()\n",
        "new_user = np.max(small_data[\"userID_ndx\"])\n",
        "new_ratings = cold_rating(most_rated, new_userID)\n",
        "for i in range(len(most_rated)):\n",
        "  trial = trial.append({'userID' : new_userID, 'itemID': most_rated[i], 'rating': new_ratings[i], 'userID_ndx': str(new_user), 'itemID_ndx': str(top_itemndx[i])}, ignore_index = True)\n",
        "\n",
        "trial.head(10)"
      ],
      "execution_count": null,
      "outputs": []
    }
  ]
}